{
 "cells": [
  {
   "cell_type": "code",
   "execution_count": 2,
   "metadata": {},
   "outputs": [
    {
     "name": "stderr",
     "output_type": "stream",
     "text": [
      "/Users/shubhamkumar/opt/anaconda3/lib/python3.7/site-packages/statsmodels/tools/_testing.py:19: FutureWarning: pandas.util.testing is deprecated. Use the functions in the public API at pandas.testing instead.\n",
      "  import pandas.util.testing as tm\n"
     ]
    }
   ],
   "source": [
    "import pandas as pd\n",
    "from pandas import DataFrame\n",
    "import numpy as np\n",
    "import seaborn as sns\n",
    "from pandas_profiling import ProfileReport\n",
    "\n",
    "import sklearn\n",
    "from sklearn import metrics\n",
    "from sklearn.linear_model import LogisticRegression\n",
    "from sklearn.metrics import confusion_matrix , classification_report ,roc_auc_score , roc_curve\n",
    "from sklearn.model_selection import train_test_split , GridSearchCV , RandomizedSearchCV\n",
    "from sklearn.tree import DecisionTreeClassifier\n",
    "from sklearn.ensemble import RandomForestClassifier\n",
    "import xgboost\n",
    "from xgboost import XGBClassifier\n",
    "from sklearn.ensemble import GradientBoostingClassifier\n",
    "import matplotlib\n",
    "import matplotlib.pyplot as plt\n",
    "from sklearn.ensemble import BaggingClassifier\n"
   ]
  },
  {
   "cell_type": "code",
   "execution_count": 3,
   "metadata": {},
   "outputs": [],
   "source": [
    "data=pd.read_excel('Student.xlsx')"
   ]
  },
  {
   "cell_type": "code",
   "execution_count": 4,
   "metadata": {},
   "outputs": [],
   "source": [
    "df=DataFrame(data)"
   ]
  },
  {
   "cell_type": "code",
   "execution_count": 5,
   "metadata": {},
   "outputs": [],
   "source": [
    "pd.set_option('display.max_columns',85)\n",
    "pd.set_option('display.max_rows',109)"
   ]
  },
  {
   "cell_type": "code",
   "execution_count": 6,
   "metadata": {},
   "outputs": [],
   "source": [
    "pd.options.display.float_format = '{:.3f}'.format"
   ]
  },
  {
   "cell_type": "code",
   "execution_count": 7,
   "metadata": {},
   "outputs": [
    {
     "data": {
      "text/html": [
       "<div>\n",
       "<style scoped>\n",
       "    .dataframe tbody tr th:only-of-type {\n",
       "        vertical-align: middle;\n",
       "    }\n",
       "\n",
       "    .dataframe tbody tr th {\n",
       "        vertical-align: top;\n",
       "    }\n",
       "\n",
       "    .dataframe thead th {\n",
       "        text-align: right;\n",
       "    }\n",
       "</style>\n",
       "<table border=\"1\" class=\"dataframe\">\n",
       "  <thead>\n",
       "    <tr style=\"text-align: right;\">\n",
       "      <th></th>\n",
       "      <th>STUDENT IDENTIFIER</th>\n",
       "      <th>STDNT_AGE</th>\n",
       "      <th>STDNT_GENDER</th>\n",
       "      <th>STDNT_BACKGROUND</th>\n",
       "      <th>IN_STATE_FLAG</th>\n",
       "      <th>INTERNATIONAL_STS</th>\n",
       "      <th>STDNT_MAJOR</th>\n",
       "      <th>STDNT_MINOR</th>\n",
       "      <th>STDNT_TEST_ENTRANCE1</th>\n",
       "      <th>STDNT_TEST_ENTRANCE2</th>\n",
       "      <th>STDNT_TEST_ENTRANCE_COMB</th>\n",
       "      <th>FIRST_TERM</th>\n",
       "      <th>CORE_COURSE_NAME_1_F</th>\n",
       "      <th>CORE_COURSE_GRADE_1_F</th>\n",
       "      <th>CORE_COURSE_NAME_2_F</th>\n",
       "      <th>CORE_COURSE_GRADE_2_F</th>\n",
       "      <th>CORE_COURSE_NAME_3_F</th>\n",
       "      <th>CORE_COURSE_GRADE_3_F</th>\n",
       "      <th>CORE_COURSE_NAME_4_F</th>\n",
       "      <th>CORE_COURSE_GRADE_4_F</th>\n",
       "      <th>CORE_COURSE_NAME_5_F</th>\n",
       "      <th>CORE_COURSE_GRADE_5_F</th>\n",
       "      <th>CORE_COURSE_NAME_6_F</th>\n",
       "      <th>CORE_COURSE_GRADE_6_F</th>\n",
       "      <th>SECOND_TERM</th>\n",
       "      <th>CORE_COURSE_NAME_1_S</th>\n",
       "      <th>CORE_COURSE_GRADE_1_S</th>\n",
       "      <th>CORE_COURSE_NAME_2_S</th>\n",
       "      <th>CORE_COURSE_GRADE_2_S</th>\n",
       "      <th>CORE_COURSE_NAME_3_S</th>\n",
       "      <th>CORE_COURSE_GRADE_3_S</th>\n",
       "      <th>CORE_COURSE_NAME_4_S</th>\n",
       "      <th>CORE_COURSE_GRADE_4_S</th>\n",
       "      <th>CORE_COURSE_NAME_5_S</th>\n",
       "      <th>CORE_COURSE_GRADE_5_S</th>\n",
       "      <th>CORE_COURSE_NAME_6_S</th>\n",
       "      <th>CORE_COURSE_GRADE_6_S</th>\n",
       "      <th>HOUSING_STS</th>\n",
       "      <th>RETURNED_2ND_YR</th>\n",
       "      <th>DISTANCE_FROM_HOME</th>\n",
       "      <th>HIGH_SCHL_GPA</th>\n",
       "      <th>HIGH_SCHL_NAME</th>\n",
       "      <th>FATHER_HI_EDU_CD</th>\n",
       "      <th>FATHER_HI_EDU_DESC</th>\n",
       "      <th>MOTHER_HI_EDU_CD</th>\n",
       "      <th>MOTHER_HI_EDU_DESC</th>\n",
       "      <th>DEGREE_GROUP_CD</th>\n",
       "      <th>DEGREE_GROUP_DESC</th>\n",
       "      <th>FIRST_TERM_ATTEMPT_HRS</th>\n",
       "      <th>FIRST_TERM_EARNED_HRS</th>\n",
       "      <th>SECOND_TERM_ATTEMPT_HRS</th>\n",
       "      <th>SECOND_TERM_EARNED_HRS</th>\n",
       "      <th>GROSS_FIN_NEED</th>\n",
       "      <th>COST_OF_ATTEND</th>\n",
       "      <th>EST_FAM_CONTRIBUTION</th>\n",
       "      <th>UNMET_NEED</th>\n",
       "    </tr>\n",
       "  </thead>\n",
       "  <tbody>\n",
       "    <tr>\n",
       "      <th>0</th>\n",
       "      <td>7808615</td>\n",
       "      <td>18</td>\n",
       "      <td>F</td>\n",
       "      <td>BGD 1</td>\n",
       "      <td>Y</td>\n",
       "      <td>N</td>\n",
       "      <td>Undeclared</td>\n",
       "      <td>N</td>\n",
       "      <td>nan</td>\n",
       "      <td>1150.000</td>\n",
       "      <td>1150.000</td>\n",
       "      <td>200708</td>\n",
       "      <td>ANTH 1105</td>\n",
       "      <td>A</td>\n",
       "      <td>ARTH 1100</td>\n",
       "      <td>A</td>\n",
       "      <td>ENGL 1102</td>\n",
       "      <td>A</td>\n",
       "      <td>PSYC 1101</td>\n",
       "      <td>A</td>\n",
       "      <td>NaN</td>\n",
       "      <td>NaN</td>\n",
       "      <td>NaN</td>\n",
       "      <td>NaN</td>\n",
       "      <td>200802</td>\n",
       "      <td>CHEM 1151</td>\n",
       "      <td>A</td>\n",
       "      <td>CHEM 1151L</td>\n",
       "      <td>A</td>\n",
       "      <td>COMM 1110</td>\n",
       "      <td>A</td>\n",
       "      <td>ITDS 2749</td>\n",
       "      <td>A</td>\n",
       "      <td>NaN</td>\n",
       "      <td>NaN</td>\n",
       "      <td>NaN</td>\n",
       "      <td>NaN</td>\n",
       "      <td>On Campus</td>\n",
       "      <td>0</td>\n",
       "      <td>150.000</td>\n",
       "      <td>4.000</td>\n",
       "      <td>SCHOOL 50</td>\n",
       "      <td>nan</td>\n",
       "      <td>No Information</td>\n",
       "      <td>nan</td>\n",
       "      <td>No Information</td>\n",
       "      <td>B</td>\n",
       "      <td>Bachelors</td>\n",
       "      <td>16</td>\n",
       "      <td>16</td>\n",
       "      <td>14.000</td>\n",
       "      <td>14.000</td>\n",
       "      <td>0</td>\n",
       "      <td>0</td>\n",
       "      <td>0</td>\n",
       "      <td>0.000</td>\n",
       "    </tr>\n",
       "    <tr>\n",
       "      <th>1</th>\n",
       "      <td>7830063</td>\n",
       "      <td>19</td>\n",
       "      <td>F</td>\n",
       "      <td>BGD 1</td>\n",
       "      <td>N</td>\n",
       "      <td>N</td>\n",
       "      <td>Undeclared</td>\n",
       "      <td>N</td>\n",
       "      <td>26.000</td>\n",
       "      <td>nan</td>\n",
       "      <td>1190.000</td>\n",
       "      <td>200808</td>\n",
       "      <td>ANTH 1105</td>\n",
       "      <td>A</td>\n",
       "      <td>GERM 1002</td>\n",
       "      <td>A</td>\n",
       "      <td>ITDS 2735</td>\n",
       "      <td>A</td>\n",
       "      <td>MATH 1125</td>\n",
       "      <td>A</td>\n",
       "      <td>THEA 1100</td>\n",
       "      <td>A</td>\n",
       "      <td>POLS 1101</td>\n",
       "      <td>A</td>\n",
       "      <td>200902</td>\n",
       "      <td>ECON 2105</td>\n",
       "      <td>A</td>\n",
       "      <td>ENGL 1102</td>\n",
       "      <td>A</td>\n",
       "      <td>NaN</td>\n",
       "      <td>NaN</td>\n",
       "      <td>NaN</td>\n",
       "      <td>NaN</td>\n",
       "      <td>NaN</td>\n",
       "      <td>NaN</td>\n",
       "      <td>NaN</td>\n",
       "      <td>NaN</td>\n",
       "      <td>Off Campus</td>\n",
       "      <td>1</td>\n",
       "      <td>69.000</td>\n",
       "      <td>2.890</td>\n",
       "      <td>SCHOOL 389</td>\n",
       "      <td>3.000</td>\n",
       "      <td>College/Beyond</td>\n",
       "      <td>3.000</td>\n",
       "      <td>College/Beyond</td>\n",
       "      <td>B</td>\n",
       "      <td>Bachelors</td>\n",
       "      <td>18</td>\n",
       "      <td>18</td>\n",
       "      <td>18.000</td>\n",
       "      <td>18.000</td>\n",
       "      <td>570000</td>\n",
       "      <td>1355760</td>\n",
       "      <td>785760</td>\n",
       "      <td>459300.000</td>\n",
       "    </tr>\n",
       "    <tr>\n",
       "      <th>2</th>\n",
       "      <td>7847538</td>\n",
       "      <td>18</td>\n",
       "      <td>M</td>\n",
       "      <td>BGD 1</td>\n",
       "      <td>Y</td>\n",
       "      <td>N</td>\n",
       "      <td>Mathematics</td>\n",
       "      <td>N</td>\n",
       "      <td>nan</td>\n",
       "      <td>1020.000</td>\n",
       "      <td>1030.000</td>\n",
       "      <td>201008</td>\n",
       "      <td>ANTH 1105</td>\n",
       "      <td>A</td>\n",
       "      <td>ENGL 1101</td>\n",
       "      <td>A</td>\n",
       "      <td>HIST 2111</td>\n",
       "      <td>A</td>\n",
       "      <td>MATH 1111</td>\n",
       "      <td>A</td>\n",
       "      <td>SOCI 1101</td>\n",
       "      <td>A</td>\n",
       "      <td>NaN</td>\n",
       "      <td>NaN</td>\n",
       "      <td>201102</td>\n",
       "      <td>ENGL 1102</td>\n",
       "      <td>A</td>\n",
       "      <td>ENVS 1105</td>\n",
       "      <td>A</td>\n",
       "      <td>MUSC 1100</td>\n",
       "      <td>A</td>\n",
       "      <td>NaN</td>\n",
       "      <td>NaN</td>\n",
       "      <td>NaN</td>\n",
       "      <td>NaN</td>\n",
       "      <td>NaN</td>\n",
       "      <td>NaN</td>\n",
       "      <td>On Campus</td>\n",
       "      <td>1</td>\n",
       "      <td>150.000</td>\n",
       "      <td>3.390</td>\n",
       "      <td>SCHOOL 82</td>\n",
       "      <td>2.000</td>\n",
       "      <td>High School</td>\n",
       "      <td>4.000</td>\n",
       "      <td>Other/Unknown</td>\n",
       "      <td>B</td>\n",
       "      <td>Bachelors</td>\n",
       "      <td>15</td>\n",
       "      <td>15</td>\n",
       "      <td>14.000</td>\n",
       "      <td>14.000</td>\n",
       "      <td>0</td>\n",
       "      <td>0</td>\n",
       "      <td>0</td>\n",
       "      <td>0.000</td>\n",
       "    </tr>\n",
       "    <tr>\n",
       "      <th>3</th>\n",
       "      <td>8006429</td>\n",
       "      <td>18</td>\n",
       "      <td>M</td>\n",
       "      <td>BGD 1</td>\n",
       "      <td>Y</td>\n",
       "      <td>N</td>\n",
       "      <td>Undeclared</td>\n",
       "      <td>N</td>\n",
       "      <td>nan</td>\n",
       "      <td>1210.000</td>\n",
       "      <td>1220.000</td>\n",
       "      <td>200708</td>\n",
       "      <td>ANTH 1107</td>\n",
       "      <td>A</td>\n",
       "      <td>COMM 1110</td>\n",
       "      <td>A</td>\n",
       "      <td>NaN</td>\n",
       "      <td>NaN</td>\n",
       "      <td>NaN</td>\n",
       "      <td>NaN</td>\n",
       "      <td>NaN</td>\n",
       "      <td>NaN</td>\n",
       "      <td>NaN</td>\n",
       "      <td>NaN</td>\n",
       "      <td>200802</td>\n",
       "      <td>ENGL 1102</td>\n",
       "      <td>A</td>\n",
       "      <td>HIST 2112</td>\n",
       "      <td>A</td>\n",
       "      <td>LEAD 1705</td>\n",
       "      <td>A</td>\n",
       "      <td>MUSC 1100</td>\n",
       "      <td>A</td>\n",
       "      <td>NaN</td>\n",
       "      <td>NaN</td>\n",
       "      <td>NaN</td>\n",
       "      <td>NaN</td>\n",
       "      <td>On Campus</td>\n",
       "      <td>1</td>\n",
       "      <td>150.000</td>\n",
       "      <td>2.930</td>\n",
       "      <td>SCHOOL 180</td>\n",
       "      <td>3.000</td>\n",
       "      <td>College/Beyond</td>\n",
       "      <td>3.000</td>\n",
       "      <td>College/Beyond</td>\n",
       "      <td>B</td>\n",
       "      <td>Bachelors</td>\n",
       "      <td>13</td>\n",
       "      <td>13</td>\n",
       "      <td>14.000</td>\n",
       "      <td>14.000</td>\n",
       "      <td>0</td>\n",
       "      <td>0</td>\n",
       "      <td>0</td>\n",
       "      <td>0.000</td>\n",
       "    </tr>\n",
       "    <tr>\n",
       "      <th>4</th>\n",
       "      <td>7962680</td>\n",
       "      <td>18</td>\n",
       "      <td>F</td>\n",
       "      <td>BGD 1</td>\n",
       "      <td>Y</td>\n",
       "      <td>N</td>\n",
       "      <td>Art</td>\n",
       "      <td>N</td>\n",
       "      <td>nan</td>\n",
       "      <td>1200.000</td>\n",
       "      <td>1190.000</td>\n",
       "      <td>200808</td>\n",
       "      <td>ANTH 1107</td>\n",
       "      <td>A</td>\n",
       "      <td>ARTH 1100</td>\n",
       "      <td>A</td>\n",
       "      <td>CPSC 1105</td>\n",
       "      <td>A</td>\n",
       "      <td>MATH 1111</td>\n",
       "      <td>A</td>\n",
       "      <td>NaN</td>\n",
       "      <td>NaN</td>\n",
       "      <td>NaN</td>\n",
       "      <td>NaN</td>\n",
       "      <td>200902</td>\n",
       "      <td>COMM 1110</td>\n",
       "      <td>A</td>\n",
       "      <td>ENGL 1101</td>\n",
       "      <td>A</td>\n",
       "      <td>HIST 2111</td>\n",
       "      <td>A</td>\n",
       "      <td>PSYC 1101</td>\n",
       "      <td>A</td>\n",
       "      <td>NaN</td>\n",
       "      <td>NaN</td>\n",
       "      <td>NaN</td>\n",
       "      <td>NaN</td>\n",
       "      <td>Off Campus</td>\n",
       "      <td>1</td>\n",
       "      <td>69.000</td>\n",
       "      <td>3.860</td>\n",
       "      <td>SCHOOL 2</td>\n",
       "      <td>3.000</td>\n",
       "      <td>College/Beyond</td>\n",
       "      <td>2.000</td>\n",
       "      <td>High School</td>\n",
       "      <td>B</td>\n",
       "      <td>Bachelors</td>\n",
       "      <td>12</td>\n",
       "      <td>12</td>\n",
       "      <td>12.000</td>\n",
       "      <td>12.000</td>\n",
       "      <td>835920</td>\n",
       "      <td>1355760</td>\n",
       "      <td>519840</td>\n",
       "      <td>278340.000</td>\n",
       "    </tr>\n",
       "  </tbody>\n",
       "</table>\n",
       "</div>"
      ],
      "text/plain": [
       "   STUDENT IDENTIFIER  STDNT_AGE STDNT_GENDER STDNT_BACKGROUND IN_STATE_FLAG  \\\n",
       "0             7808615         18            F            BGD 1             Y   \n",
       "1             7830063         19            F            BGD 1             N   \n",
       "2             7847538         18            M            BGD 1             Y   \n",
       "3             8006429         18            M            BGD 1             Y   \n",
       "4             7962680         18            F            BGD 1             Y   \n",
       "\n",
       "  INTERNATIONAL_STS  STDNT_MAJOR STDNT_MINOR  STDNT_TEST_ENTRANCE1  \\\n",
       "0                 N   Undeclared           N                   nan   \n",
       "1                 N   Undeclared           N                26.000   \n",
       "2                 N  Mathematics           N                   nan   \n",
       "3                 N   Undeclared           N                   nan   \n",
       "4                 N          Art           N                   nan   \n",
       "\n",
       "   STDNT_TEST_ENTRANCE2  STDNT_TEST_ENTRANCE_COMB  FIRST_TERM  \\\n",
       "0              1150.000                  1150.000      200708   \n",
       "1                   nan                  1190.000      200808   \n",
       "2              1020.000                  1030.000      201008   \n",
       "3              1210.000                  1220.000      200708   \n",
       "4              1200.000                  1190.000      200808   \n",
       "\n",
       "  CORE_COURSE_NAME_1_F CORE_COURSE_GRADE_1_F CORE_COURSE_NAME_2_F  \\\n",
       "0            ANTH 1105                     A            ARTH 1100   \n",
       "1            ANTH 1105                     A            GERM 1002   \n",
       "2            ANTH 1105                     A            ENGL 1101   \n",
       "3            ANTH 1107                     A            COMM 1110   \n",
       "4            ANTH 1107                     A            ARTH 1100   \n",
       "\n",
       "  CORE_COURSE_GRADE_2_F CORE_COURSE_NAME_3_F CORE_COURSE_GRADE_3_F  \\\n",
       "0                     A            ENGL 1102                     A   \n",
       "1                     A            ITDS 2735                     A   \n",
       "2                     A            HIST 2111                     A   \n",
       "3                     A                  NaN                   NaN   \n",
       "4                     A            CPSC 1105                     A   \n",
       "\n",
       "  CORE_COURSE_NAME_4_F CORE_COURSE_GRADE_4_F CORE_COURSE_NAME_5_F  \\\n",
       "0            PSYC 1101                     A                  NaN   \n",
       "1            MATH 1125                     A            THEA 1100   \n",
       "2            MATH 1111                     A            SOCI 1101   \n",
       "3                  NaN                   NaN                  NaN   \n",
       "4            MATH 1111                     A                  NaN   \n",
       "\n",
       "  CORE_COURSE_GRADE_5_F CORE_COURSE_NAME_6_F CORE_COURSE_GRADE_6_F  \\\n",
       "0                   NaN                  NaN                   NaN   \n",
       "1                     A            POLS 1101                     A   \n",
       "2                     A                  NaN                   NaN   \n",
       "3                   NaN                  NaN                   NaN   \n",
       "4                   NaN                  NaN                   NaN   \n",
       "\n",
       "   SECOND_TERM CORE_COURSE_NAME_1_S CORE_COURSE_GRADE_1_S  \\\n",
       "0       200802            CHEM 1151                     A   \n",
       "1       200902            ECON 2105                     A   \n",
       "2       201102            ENGL 1102                     A   \n",
       "3       200802            ENGL 1102                     A   \n",
       "4       200902            COMM 1110                     A   \n",
       "\n",
       "  CORE_COURSE_NAME_2_S CORE_COURSE_GRADE_2_S CORE_COURSE_NAME_3_S  \\\n",
       "0           CHEM 1151L                     A            COMM 1110   \n",
       "1            ENGL 1102                     A                  NaN   \n",
       "2            ENVS 1105                     A            MUSC 1100   \n",
       "3            HIST 2112                     A            LEAD 1705   \n",
       "4            ENGL 1101                     A            HIST 2111   \n",
       "\n",
       "  CORE_COURSE_GRADE_3_S CORE_COURSE_NAME_4_S CORE_COURSE_GRADE_4_S  \\\n",
       "0                     A            ITDS 2749                     A   \n",
       "1                   NaN                  NaN                   NaN   \n",
       "2                     A                  NaN                   NaN   \n",
       "3                     A            MUSC 1100                     A   \n",
       "4                     A            PSYC 1101                     A   \n",
       "\n",
       "  CORE_COURSE_NAME_5_S CORE_COURSE_GRADE_5_S CORE_COURSE_NAME_6_S  \\\n",
       "0                  NaN                   NaN                  NaN   \n",
       "1                  NaN                   NaN                  NaN   \n",
       "2                  NaN                   NaN                  NaN   \n",
       "3                  NaN                   NaN                  NaN   \n",
       "4                  NaN                   NaN                  NaN   \n",
       "\n",
       "  CORE_COURSE_GRADE_6_S HOUSING_STS  RETURNED_2ND_YR  DISTANCE_FROM_HOME  \\\n",
       "0                   NaN   On Campus                0             150.000   \n",
       "1                   NaN  Off Campus                1              69.000   \n",
       "2                   NaN   On Campus                1             150.000   \n",
       "3                   NaN   On Campus                1             150.000   \n",
       "4                   NaN  Off Campus                1              69.000   \n",
       "\n",
       "   HIGH_SCHL_GPA HIGH_SCHL_NAME  FATHER_HI_EDU_CD FATHER_HI_EDU_DESC  \\\n",
       "0          4.000      SCHOOL 50               nan     No Information   \n",
       "1          2.890     SCHOOL 389             3.000     College/Beyond   \n",
       "2          3.390      SCHOOL 82             2.000        High School   \n",
       "3          2.930     SCHOOL 180             3.000     College/Beyond   \n",
       "4          3.860       SCHOOL 2             3.000     College/Beyond   \n",
       "\n",
       "   MOTHER_HI_EDU_CD MOTHER_HI_EDU_DESC DEGREE_GROUP_CD DEGREE_GROUP_DESC  \\\n",
       "0               nan     No Information               B         Bachelors   \n",
       "1             3.000     College/Beyond               B         Bachelors   \n",
       "2             4.000      Other/Unknown               B         Bachelors   \n",
       "3             3.000     College/Beyond               B         Bachelors   \n",
       "4             2.000        High School               B         Bachelors   \n",
       "\n",
       "   FIRST_TERM_ATTEMPT_HRS  FIRST_TERM_EARNED_HRS  SECOND_TERM_ATTEMPT_HRS  \\\n",
       "0                      16                     16                   14.000   \n",
       "1                      18                     18                   18.000   \n",
       "2                      15                     15                   14.000   \n",
       "3                      13                     13                   14.000   \n",
       "4                      12                     12                   12.000   \n",
       "\n",
       "   SECOND_TERM_EARNED_HRS  GROSS_FIN_NEED  COST_OF_ATTEND  \\\n",
       "0                  14.000               0               0   \n",
       "1                  18.000          570000         1355760   \n",
       "2                  14.000               0               0   \n",
       "3                  14.000               0               0   \n",
       "4                  12.000          835920         1355760   \n",
       "\n",
       "   EST_FAM_CONTRIBUTION  UNMET_NEED  \n",
       "0                     0       0.000  \n",
       "1                785760  459300.000  \n",
       "2                     0       0.000  \n",
       "3                     0       0.000  \n",
       "4                519840  278340.000  "
      ]
     },
     "execution_count": 7,
     "metadata": {},
     "output_type": "execute_result"
    }
   ],
   "source": [
    "df.head()"
   ]
  },
  {
   "cell_type": "code",
   "execution_count": 8,
   "metadata": {},
   "outputs": [],
   "source": [
    "df.rename(columns={'STUDENT IDENTIFIER':'STUDENT_IDENTIFIER'},inplace=True)"
   ]
  },
  {
   "cell_type": "code",
   "execution_count": 9,
   "metadata": {},
   "outputs": [
    {
     "data": {
      "text/html": [
       "<div>\n",
       "<style scoped>\n",
       "    .dataframe tbody tr th:only-of-type {\n",
       "        vertical-align: middle;\n",
       "    }\n",
       "\n",
       "    .dataframe tbody tr th {\n",
       "        vertical-align: top;\n",
       "    }\n",
       "\n",
       "    .dataframe thead th {\n",
       "        text-align: right;\n",
       "    }\n",
       "</style>\n",
       "<table border=\"1\" class=\"dataframe\">\n",
       "  <thead>\n",
       "    <tr style=\"text-align: right;\">\n",
       "      <th></th>\n",
       "      <th>STUDENT_IDENTIFIER</th>\n",
       "      <th>STDNT_AGE</th>\n",
       "      <th>STDNT_GENDER</th>\n",
       "      <th>STDNT_BACKGROUND</th>\n",
       "      <th>IN_STATE_FLAG</th>\n",
       "      <th>INTERNATIONAL_STS</th>\n",
       "      <th>STDNT_MAJOR</th>\n",
       "      <th>STDNT_MINOR</th>\n",
       "      <th>STDNT_TEST_ENTRANCE1</th>\n",
       "      <th>STDNT_TEST_ENTRANCE2</th>\n",
       "      <th>STDNT_TEST_ENTRANCE_COMB</th>\n",
       "      <th>FIRST_TERM</th>\n",
       "      <th>CORE_COURSE_NAME_1_F</th>\n",
       "      <th>CORE_COURSE_GRADE_1_F</th>\n",
       "      <th>CORE_COURSE_NAME_2_F</th>\n",
       "      <th>CORE_COURSE_GRADE_2_F</th>\n",
       "      <th>CORE_COURSE_NAME_3_F</th>\n",
       "      <th>CORE_COURSE_GRADE_3_F</th>\n",
       "      <th>CORE_COURSE_NAME_4_F</th>\n",
       "      <th>CORE_COURSE_GRADE_4_F</th>\n",
       "      <th>CORE_COURSE_NAME_5_F</th>\n",
       "      <th>CORE_COURSE_GRADE_5_F</th>\n",
       "      <th>CORE_COURSE_NAME_6_F</th>\n",
       "      <th>CORE_COURSE_GRADE_6_F</th>\n",
       "      <th>SECOND_TERM</th>\n",
       "      <th>CORE_COURSE_NAME_1_S</th>\n",
       "      <th>CORE_COURSE_GRADE_1_S</th>\n",
       "      <th>CORE_COURSE_NAME_2_S</th>\n",
       "      <th>CORE_COURSE_GRADE_2_S</th>\n",
       "      <th>CORE_COURSE_NAME_3_S</th>\n",
       "      <th>CORE_COURSE_GRADE_3_S</th>\n",
       "      <th>CORE_COURSE_NAME_4_S</th>\n",
       "      <th>CORE_COURSE_GRADE_4_S</th>\n",
       "      <th>CORE_COURSE_NAME_5_S</th>\n",
       "      <th>CORE_COURSE_GRADE_5_S</th>\n",
       "      <th>CORE_COURSE_NAME_6_S</th>\n",
       "      <th>CORE_COURSE_GRADE_6_S</th>\n",
       "      <th>HOUSING_STS</th>\n",
       "      <th>RETURNED_2ND_YR</th>\n",
       "      <th>DISTANCE_FROM_HOME</th>\n",
       "      <th>HIGH_SCHL_GPA</th>\n",
       "      <th>HIGH_SCHL_NAME</th>\n",
       "      <th>FATHER_HI_EDU_CD</th>\n",
       "      <th>FATHER_HI_EDU_DESC</th>\n",
       "      <th>MOTHER_HI_EDU_CD</th>\n",
       "      <th>MOTHER_HI_EDU_DESC</th>\n",
       "      <th>DEGREE_GROUP_CD</th>\n",
       "      <th>DEGREE_GROUP_DESC</th>\n",
       "      <th>FIRST_TERM_ATTEMPT_HRS</th>\n",
       "      <th>FIRST_TERM_EARNED_HRS</th>\n",
       "      <th>SECOND_TERM_ATTEMPT_HRS</th>\n",
       "      <th>SECOND_TERM_EARNED_HRS</th>\n",
       "      <th>GROSS_FIN_NEED</th>\n",
       "      <th>COST_OF_ATTEND</th>\n",
       "      <th>EST_FAM_CONTRIBUTION</th>\n",
       "      <th>UNMET_NEED</th>\n",
       "    </tr>\n",
       "  </thead>\n",
       "  <tbody>\n",
       "    <tr>\n",
       "      <th>0</th>\n",
       "      <td>7808615</td>\n",
       "      <td>18</td>\n",
       "      <td>F</td>\n",
       "      <td>BGD 1</td>\n",
       "      <td>Y</td>\n",
       "      <td>N</td>\n",
       "      <td>Undeclared</td>\n",
       "      <td>N</td>\n",
       "      <td>nan</td>\n",
       "      <td>1150.000</td>\n",
       "      <td>1150.000</td>\n",
       "      <td>200708</td>\n",
       "      <td>ANTH 1105</td>\n",
       "      <td>A</td>\n",
       "      <td>ARTH 1100</td>\n",
       "      <td>A</td>\n",
       "      <td>ENGL 1102</td>\n",
       "      <td>A</td>\n",
       "      <td>PSYC 1101</td>\n",
       "      <td>A</td>\n",
       "      <td>NaN</td>\n",
       "      <td>NaN</td>\n",
       "      <td>NaN</td>\n",
       "      <td>NaN</td>\n",
       "      <td>200802</td>\n",
       "      <td>CHEM 1151</td>\n",
       "      <td>A</td>\n",
       "      <td>CHEM 1151L</td>\n",
       "      <td>A</td>\n",
       "      <td>COMM 1110</td>\n",
       "      <td>A</td>\n",
       "      <td>ITDS 2749</td>\n",
       "      <td>A</td>\n",
       "      <td>NaN</td>\n",
       "      <td>NaN</td>\n",
       "      <td>NaN</td>\n",
       "      <td>NaN</td>\n",
       "      <td>On Campus</td>\n",
       "      <td>0</td>\n",
       "      <td>150.000</td>\n",
       "      <td>4.000</td>\n",
       "      <td>SCHOOL 50</td>\n",
       "      <td>nan</td>\n",
       "      <td>No Information</td>\n",
       "      <td>nan</td>\n",
       "      <td>No Information</td>\n",
       "      <td>B</td>\n",
       "      <td>Bachelors</td>\n",
       "      <td>16</td>\n",
       "      <td>16</td>\n",
       "      <td>14.000</td>\n",
       "      <td>14.000</td>\n",
       "      <td>0</td>\n",
       "      <td>0</td>\n",
       "      <td>0</td>\n",
       "      <td>0.000</td>\n",
       "    </tr>\n",
       "    <tr>\n",
       "      <th>1</th>\n",
       "      <td>7830063</td>\n",
       "      <td>19</td>\n",
       "      <td>F</td>\n",
       "      <td>BGD 1</td>\n",
       "      <td>N</td>\n",
       "      <td>N</td>\n",
       "      <td>Undeclared</td>\n",
       "      <td>N</td>\n",
       "      <td>26.000</td>\n",
       "      <td>nan</td>\n",
       "      <td>1190.000</td>\n",
       "      <td>200808</td>\n",
       "      <td>ANTH 1105</td>\n",
       "      <td>A</td>\n",
       "      <td>GERM 1002</td>\n",
       "      <td>A</td>\n",
       "      <td>ITDS 2735</td>\n",
       "      <td>A</td>\n",
       "      <td>MATH 1125</td>\n",
       "      <td>A</td>\n",
       "      <td>THEA 1100</td>\n",
       "      <td>A</td>\n",
       "      <td>POLS 1101</td>\n",
       "      <td>A</td>\n",
       "      <td>200902</td>\n",
       "      <td>ECON 2105</td>\n",
       "      <td>A</td>\n",
       "      <td>ENGL 1102</td>\n",
       "      <td>A</td>\n",
       "      <td>NaN</td>\n",
       "      <td>NaN</td>\n",
       "      <td>NaN</td>\n",
       "      <td>NaN</td>\n",
       "      <td>NaN</td>\n",
       "      <td>NaN</td>\n",
       "      <td>NaN</td>\n",
       "      <td>NaN</td>\n",
       "      <td>Off Campus</td>\n",
       "      <td>1</td>\n",
       "      <td>69.000</td>\n",
       "      <td>2.890</td>\n",
       "      <td>SCHOOL 389</td>\n",
       "      <td>3.000</td>\n",
       "      <td>College/Beyond</td>\n",
       "      <td>3.000</td>\n",
       "      <td>College/Beyond</td>\n",
       "      <td>B</td>\n",
       "      <td>Bachelors</td>\n",
       "      <td>18</td>\n",
       "      <td>18</td>\n",
       "      <td>18.000</td>\n",
       "      <td>18.000</td>\n",
       "      <td>570000</td>\n",
       "      <td>1355760</td>\n",
       "      <td>785760</td>\n",
       "      <td>459300.000</td>\n",
       "    </tr>\n",
       "    <tr>\n",
       "      <th>2</th>\n",
       "      <td>7847538</td>\n",
       "      <td>18</td>\n",
       "      <td>M</td>\n",
       "      <td>BGD 1</td>\n",
       "      <td>Y</td>\n",
       "      <td>N</td>\n",
       "      <td>Mathematics</td>\n",
       "      <td>N</td>\n",
       "      <td>nan</td>\n",
       "      <td>1020.000</td>\n",
       "      <td>1030.000</td>\n",
       "      <td>201008</td>\n",
       "      <td>ANTH 1105</td>\n",
       "      <td>A</td>\n",
       "      <td>ENGL 1101</td>\n",
       "      <td>A</td>\n",
       "      <td>HIST 2111</td>\n",
       "      <td>A</td>\n",
       "      <td>MATH 1111</td>\n",
       "      <td>A</td>\n",
       "      <td>SOCI 1101</td>\n",
       "      <td>A</td>\n",
       "      <td>NaN</td>\n",
       "      <td>NaN</td>\n",
       "      <td>201102</td>\n",
       "      <td>ENGL 1102</td>\n",
       "      <td>A</td>\n",
       "      <td>ENVS 1105</td>\n",
       "      <td>A</td>\n",
       "      <td>MUSC 1100</td>\n",
       "      <td>A</td>\n",
       "      <td>NaN</td>\n",
       "      <td>NaN</td>\n",
       "      <td>NaN</td>\n",
       "      <td>NaN</td>\n",
       "      <td>NaN</td>\n",
       "      <td>NaN</td>\n",
       "      <td>On Campus</td>\n",
       "      <td>1</td>\n",
       "      <td>150.000</td>\n",
       "      <td>3.390</td>\n",
       "      <td>SCHOOL 82</td>\n",
       "      <td>2.000</td>\n",
       "      <td>High School</td>\n",
       "      <td>4.000</td>\n",
       "      <td>Other/Unknown</td>\n",
       "      <td>B</td>\n",
       "      <td>Bachelors</td>\n",
       "      <td>15</td>\n",
       "      <td>15</td>\n",
       "      <td>14.000</td>\n",
       "      <td>14.000</td>\n",
       "      <td>0</td>\n",
       "      <td>0</td>\n",
       "      <td>0</td>\n",
       "      <td>0.000</td>\n",
       "    </tr>\n",
       "    <tr>\n",
       "      <th>3</th>\n",
       "      <td>8006429</td>\n",
       "      <td>18</td>\n",
       "      <td>M</td>\n",
       "      <td>BGD 1</td>\n",
       "      <td>Y</td>\n",
       "      <td>N</td>\n",
       "      <td>Undeclared</td>\n",
       "      <td>N</td>\n",
       "      <td>nan</td>\n",
       "      <td>1210.000</td>\n",
       "      <td>1220.000</td>\n",
       "      <td>200708</td>\n",
       "      <td>ANTH 1107</td>\n",
       "      <td>A</td>\n",
       "      <td>COMM 1110</td>\n",
       "      <td>A</td>\n",
       "      <td>NaN</td>\n",
       "      <td>NaN</td>\n",
       "      <td>NaN</td>\n",
       "      <td>NaN</td>\n",
       "      <td>NaN</td>\n",
       "      <td>NaN</td>\n",
       "      <td>NaN</td>\n",
       "      <td>NaN</td>\n",
       "      <td>200802</td>\n",
       "      <td>ENGL 1102</td>\n",
       "      <td>A</td>\n",
       "      <td>HIST 2112</td>\n",
       "      <td>A</td>\n",
       "      <td>LEAD 1705</td>\n",
       "      <td>A</td>\n",
       "      <td>MUSC 1100</td>\n",
       "      <td>A</td>\n",
       "      <td>NaN</td>\n",
       "      <td>NaN</td>\n",
       "      <td>NaN</td>\n",
       "      <td>NaN</td>\n",
       "      <td>On Campus</td>\n",
       "      <td>1</td>\n",
       "      <td>150.000</td>\n",
       "      <td>2.930</td>\n",
       "      <td>SCHOOL 180</td>\n",
       "      <td>3.000</td>\n",
       "      <td>College/Beyond</td>\n",
       "      <td>3.000</td>\n",
       "      <td>College/Beyond</td>\n",
       "      <td>B</td>\n",
       "      <td>Bachelors</td>\n",
       "      <td>13</td>\n",
       "      <td>13</td>\n",
       "      <td>14.000</td>\n",
       "      <td>14.000</td>\n",
       "      <td>0</td>\n",
       "      <td>0</td>\n",
       "      <td>0</td>\n",
       "      <td>0.000</td>\n",
       "    </tr>\n",
       "    <tr>\n",
       "      <th>4</th>\n",
       "      <td>7962680</td>\n",
       "      <td>18</td>\n",
       "      <td>F</td>\n",
       "      <td>BGD 1</td>\n",
       "      <td>Y</td>\n",
       "      <td>N</td>\n",
       "      <td>Art</td>\n",
       "      <td>N</td>\n",
       "      <td>nan</td>\n",
       "      <td>1200.000</td>\n",
       "      <td>1190.000</td>\n",
       "      <td>200808</td>\n",
       "      <td>ANTH 1107</td>\n",
       "      <td>A</td>\n",
       "      <td>ARTH 1100</td>\n",
       "      <td>A</td>\n",
       "      <td>CPSC 1105</td>\n",
       "      <td>A</td>\n",
       "      <td>MATH 1111</td>\n",
       "      <td>A</td>\n",
       "      <td>NaN</td>\n",
       "      <td>NaN</td>\n",
       "      <td>NaN</td>\n",
       "      <td>NaN</td>\n",
       "      <td>200902</td>\n",
       "      <td>COMM 1110</td>\n",
       "      <td>A</td>\n",
       "      <td>ENGL 1101</td>\n",
       "      <td>A</td>\n",
       "      <td>HIST 2111</td>\n",
       "      <td>A</td>\n",
       "      <td>PSYC 1101</td>\n",
       "      <td>A</td>\n",
       "      <td>NaN</td>\n",
       "      <td>NaN</td>\n",
       "      <td>NaN</td>\n",
       "      <td>NaN</td>\n",
       "      <td>Off Campus</td>\n",
       "      <td>1</td>\n",
       "      <td>69.000</td>\n",
       "      <td>3.860</td>\n",
       "      <td>SCHOOL 2</td>\n",
       "      <td>3.000</td>\n",
       "      <td>College/Beyond</td>\n",
       "      <td>2.000</td>\n",
       "      <td>High School</td>\n",
       "      <td>B</td>\n",
       "      <td>Bachelors</td>\n",
       "      <td>12</td>\n",
       "      <td>12</td>\n",
       "      <td>12.000</td>\n",
       "      <td>12.000</td>\n",
       "      <td>835920</td>\n",
       "      <td>1355760</td>\n",
       "      <td>519840</td>\n",
       "      <td>278340.000</td>\n",
       "    </tr>\n",
       "  </tbody>\n",
       "</table>\n",
       "</div>"
      ],
      "text/plain": [
       "   STUDENT_IDENTIFIER  STDNT_AGE STDNT_GENDER STDNT_BACKGROUND IN_STATE_FLAG  \\\n",
       "0             7808615         18            F            BGD 1             Y   \n",
       "1             7830063         19            F            BGD 1             N   \n",
       "2             7847538         18            M            BGD 1             Y   \n",
       "3             8006429         18            M            BGD 1             Y   \n",
       "4             7962680         18            F            BGD 1             Y   \n",
       "\n",
       "  INTERNATIONAL_STS  STDNT_MAJOR STDNT_MINOR  STDNT_TEST_ENTRANCE1  \\\n",
       "0                 N   Undeclared           N                   nan   \n",
       "1                 N   Undeclared           N                26.000   \n",
       "2                 N  Mathematics           N                   nan   \n",
       "3                 N   Undeclared           N                   nan   \n",
       "4                 N          Art           N                   nan   \n",
       "\n",
       "   STDNT_TEST_ENTRANCE2  STDNT_TEST_ENTRANCE_COMB  FIRST_TERM  \\\n",
       "0              1150.000                  1150.000      200708   \n",
       "1                   nan                  1190.000      200808   \n",
       "2              1020.000                  1030.000      201008   \n",
       "3              1210.000                  1220.000      200708   \n",
       "4              1200.000                  1190.000      200808   \n",
       "\n",
       "  CORE_COURSE_NAME_1_F CORE_COURSE_GRADE_1_F CORE_COURSE_NAME_2_F  \\\n",
       "0            ANTH 1105                     A            ARTH 1100   \n",
       "1            ANTH 1105                     A            GERM 1002   \n",
       "2            ANTH 1105                     A            ENGL 1101   \n",
       "3            ANTH 1107                     A            COMM 1110   \n",
       "4            ANTH 1107                     A            ARTH 1100   \n",
       "\n",
       "  CORE_COURSE_GRADE_2_F CORE_COURSE_NAME_3_F CORE_COURSE_GRADE_3_F  \\\n",
       "0                     A            ENGL 1102                     A   \n",
       "1                     A            ITDS 2735                     A   \n",
       "2                     A            HIST 2111                     A   \n",
       "3                     A                  NaN                   NaN   \n",
       "4                     A            CPSC 1105                     A   \n",
       "\n",
       "  CORE_COURSE_NAME_4_F CORE_COURSE_GRADE_4_F CORE_COURSE_NAME_5_F  \\\n",
       "0            PSYC 1101                     A                  NaN   \n",
       "1            MATH 1125                     A            THEA 1100   \n",
       "2            MATH 1111                     A            SOCI 1101   \n",
       "3                  NaN                   NaN                  NaN   \n",
       "4            MATH 1111                     A                  NaN   \n",
       "\n",
       "  CORE_COURSE_GRADE_5_F CORE_COURSE_NAME_6_F CORE_COURSE_GRADE_6_F  \\\n",
       "0                   NaN                  NaN                   NaN   \n",
       "1                     A            POLS 1101                     A   \n",
       "2                     A                  NaN                   NaN   \n",
       "3                   NaN                  NaN                   NaN   \n",
       "4                   NaN                  NaN                   NaN   \n",
       "\n",
       "   SECOND_TERM CORE_COURSE_NAME_1_S CORE_COURSE_GRADE_1_S  \\\n",
       "0       200802            CHEM 1151                     A   \n",
       "1       200902            ECON 2105                     A   \n",
       "2       201102            ENGL 1102                     A   \n",
       "3       200802            ENGL 1102                     A   \n",
       "4       200902            COMM 1110                     A   \n",
       "\n",
       "  CORE_COURSE_NAME_2_S CORE_COURSE_GRADE_2_S CORE_COURSE_NAME_3_S  \\\n",
       "0           CHEM 1151L                     A            COMM 1110   \n",
       "1            ENGL 1102                     A                  NaN   \n",
       "2            ENVS 1105                     A            MUSC 1100   \n",
       "3            HIST 2112                     A            LEAD 1705   \n",
       "4            ENGL 1101                     A            HIST 2111   \n",
       "\n",
       "  CORE_COURSE_GRADE_3_S CORE_COURSE_NAME_4_S CORE_COURSE_GRADE_4_S  \\\n",
       "0                     A            ITDS 2749                     A   \n",
       "1                   NaN                  NaN                   NaN   \n",
       "2                     A                  NaN                   NaN   \n",
       "3                     A            MUSC 1100                     A   \n",
       "4                     A            PSYC 1101                     A   \n",
       "\n",
       "  CORE_COURSE_NAME_5_S CORE_COURSE_GRADE_5_S CORE_COURSE_NAME_6_S  \\\n",
       "0                  NaN                   NaN                  NaN   \n",
       "1                  NaN                   NaN                  NaN   \n",
       "2                  NaN                   NaN                  NaN   \n",
       "3                  NaN                   NaN                  NaN   \n",
       "4                  NaN                   NaN                  NaN   \n",
       "\n",
       "  CORE_COURSE_GRADE_6_S HOUSING_STS  RETURNED_2ND_YR  DISTANCE_FROM_HOME  \\\n",
       "0                   NaN   On Campus                0             150.000   \n",
       "1                   NaN  Off Campus                1              69.000   \n",
       "2                   NaN   On Campus                1             150.000   \n",
       "3                   NaN   On Campus                1             150.000   \n",
       "4                   NaN  Off Campus                1              69.000   \n",
       "\n",
       "   HIGH_SCHL_GPA HIGH_SCHL_NAME  FATHER_HI_EDU_CD FATHER_HI_EDU_DESC  \\\n",
       "0          4.000      SCHOOL 50               nan     No Information   \n",
       "1          2.890     SCHOOL 389             3.000     College/Beyond   \n",
       "2          3.390      SCHOOL 82             2.000        High School   \n",
       "3          2.930     SCHOOL 180             3.000     College/Beyond   \n",
       "4          3.860       SCHOOL 2             3.000     College/Beyond   \n",
       "\n",
       "   MOTHER_HI_EDU_CD MOTHER_HI_EDU_DESC DEGREE_GROUP_CD DEGREE_GROUP_DESC  \\\n",
       "0               nan     No Information               B         Bachelors   \n",
       "1             3.000     College/Beyond               B         Bachelors   \n",
       "2             4.000      Other/Unknown               B         Bachelors   \n",
       "3             3.000     College/Beyond               B         Bachelors   \n",
       "4             2.000        High School               B         Bachelors   \n",
       "\n",
       "   FIRST_TERM_ATTEMPT_HRS  FIRST_TERM_EARNED_HRS  SECOND_TERM_ATTEMPT_HRS  \\\n",
       "0                      16                     16                   14.000   \n",
       "1                      18                     18                   18.000   \n",
       "2                      15                     15                   14.000   \n",
       "3                      13                     13                   14.000   \n",
       "4                      12                     12                   12.000   \n",
       "\n",
       "   SECOND_TERM_EARNED_HRS  GROSS_FIN_NEED  COST_OF_ATTEND  \\\n",
       "0                  14.000               0               0   \n",
       "1                  18.000          570000         1355760   \n",
       "2                  14.000               0               0   \n",
       "3                  14.000               0               0   \n",
       "4                  12.000          835920         1355760   \n",
       "\n",
       "   EST_FAM_CONTRIBUTION  UNMET_NEED  \n",
       "0                     0       0.000  \n",
       "1                785760  459300.000  \n",
       "2                     0       0.000  \n",
       "3                     0       0.000  \n",
       "4                519840  278340.000  "
      ]
     },
     "execution_count": 9,
     "metadata": {},
     "output_type": "execute_result"
    }
   ],
   "source": [
    "df.head()"
   ]
  },
  {
   "cell_type": "code",
   "execution_count": null,
   "metadata": {},
   "outputs": [],
   "source": []
  },
  {
   "cell_type": "code",
   "execution_count": 10,
   "metadata": {},
   "outputs": [],
   "source": [
    "profile = ProfileReport(df, title='Pandas Profiling Report', explorative=True)"
   ]
  },
  {
   "cell_type": "code",
   "execution_count": 11,
   "metadata": {},
   "outputs": [
    {
     "data": {
      "text/plain": [
       "True"
      ]
     },
     "execution_count": 11,
     "metadata": {},
     "output_type": "execute_result"
    }
   ],
   "source": [
    "import webbrowser\n",
    "webbrowser.open('http://localhost:8888/view/new/Capstone%20project/output.html')"
   ]
  },
  {
   "cell_type": "code",
   "execution_count": 12,
   "metadata": {},
   "outputs": [],
   "source": [
    "df_returned=df.drop(df[df['RETURNED_2ND_YR'] == 0].index)"
   ]
  },
  {
   "cell_type": "code",
   "execution_count": 13,
   "metadata": {},
   "outputs": [],
   "source": [
    "df_not_returned=df.drop(df[df['RETURNED_2ND_YR'] == 1].index)"
   ]
  },
  {
   "cell_type": "code",
   "execution_count": 14,
   "metadata": {},
   "outputs": [
    {
     "data": {
      "text/plain": [
       "1    2677\n",
       "0     723\n",
       "Name: RETURNED_2ND_YR, dtype: int64"
      ]
     },
     "execution_count": 14,
     "metadata": {},
     "output_type": "execute_result"
    }
   ],
   "source": [
    "df['RETURNED_2ND_YR'].value_counts()"
   ]
  },
  {
   "cell_type": "code",
   "execution_count": 15,
   "metadata": {},
   "outputs": [],
   "source": [
    "perc=df['RETURNED_2ND_YR'].value_counts()"
   ]
  },
  {
   "cell_type": "code",
   "execution_count": 16,
   "metadata": {},
   "outputs": [
    {
     "data": {
      "text/plain": [
       "1   79.000\n",
       "0   21.000\n",
       "Name: RETURNED_2ND_YR, dtype: float64"
      ]
     },
     "execution_count": 16,
     "metadata": {},
     "output_type": "execute_result"
    }
   ],
   "source": [
    "round(perc/3400*100)"
   ]
  },
  {
   "cell_type": "markdown",
   "metadata": {},
   "source": [
    "# AGE"
   ]
  },
  {
   "cell_type": "code",
   "execution_count": 17,
   "metadata": {},
   "outputs": [
    {
     "data": {
      "text/plain": [
       "0"
      ]
     },
     "execution_count": 17,
     "metadata": {},
     "output_type": "execute_result"
    }
   ],
   "source": [
    "df['STDNT_AGE'].isnull().sum()"
   ]
  },
  {
   "cell_type": "code",
   "execution_count": 18,
   "metadata": {},
   "outputs": [
    {
     "data": {
      "text/plain": [
       "count   3400.000\n",
       "mean      17.994\n",
       "std        0.552\n",
       "min       16.000\n",
       "25%       18.000\n",
       "50%       18.000\n",
       "75%       18.000\n",
       "max       26.000\n",
       "Name: STDNT_AGE, dtype: float64"
      ]
     },
     "execution_count": 18,
     "metadata": {},
     "output_type": "execute_result"
    }
   ],
   "source": [
    "df['STDNT_AGE'].describe()"
   ]
  },
  {
   "cell_type": "code",
   "execution_count": 19,
   "metadata": {},
   "outputs": [],
   "source": [
    "age_perc=df['STDNT_AGE'].value_counts()"
   ]
  },
  {
   "cell_type": "code",
   "execution_count": 20,
   "metadata": {},
   "outputs": [
    {
     "data": {
      "text/plain": [
       "18   84.120\n",
       "17    9.090\n",
       "19    5.590\n",
       "20    0.410\n",
       "16    0.240\n",
       "21    0.210\n",
       "22    0.120\n",
       "25    0.090\n",
       "23    0.090\n",
       "26    0.030\n",
       "24    0.030\n",
       "Name: STDNT_AGE, dtype: float64"
      ]
     },
     "execution_count": 20,
     "metadata": {},
     "output_type": "execute_result"
    }
   ],
   "source": [
    "# Age distribution in percentage\n",
    "round(age_perc/3400*100,2)"
   ]
  },
  {
   "cell_type": "code",
   "execution_count": 21,
   "metadata": {},
   "outputs": [],
   "source": [
    "age_returned_perc=df_returned['STDNT_AGE'].value_counts()"
   ]
  },
  {
   "cell_type": "code",
   "execution_count": 22,
   "metadata": {},
   "outputs": [
    {
     "data": {
      "text/plain": [
       "18   84.830\n",
       "17    9.000\n",
       "19    5.190\n",
       "20    0.300\n",
       "16    0.190\n",
       "25    0.110\n",
       "23    0.110\n",
       "21    0.110\n",
       "22    0.110\n",
       "26    0.040\n",
       "Name: STDNT_AGE, dtype: float64"
      ]
     },
     "execution_count": 22,
     "metadata": {},
     "output_type": "execute_result"
    }
   ],
   "source": [
    "# Age distribution in percentage\n",
    "round(age_returned_perc/2677*100,2)"
   ]
  },
  {
   "cell_type": "code",
   "execution_count": 23,
   "metadata": {},
   "outputs": [
    {
     "data": {
      "image/png": "[encoded data removed]",
      "text/plain": [
       "<Figure size 360x360 with 1 Axes>"
      ]
     },
     "metadata": {
      "needs_background": "light"
     },
     "output_type": "display_data"
    }
   ],
   "source": [
    "sns.catplot(x=\"STDNT_AGE\", kind=\"count\",\n",
    "            palette=\"pastel\", edgecolor=\".1\",\n",
    "            data=df);"
   ]
  },
  {
   "cell_type": "code",
   "execution_count": 24,
   "metadata": {},
   "outputs": [
    {
     "data": {
      "image/png": "[encoded data removed]",
      "text/plain": [
       "<Figure size 462.125x360 with 1 Axes>"
      ]
     },
     "metadata": {
      "needs_background": "light"
     },
     "output_type": "display_data"
    }
   ],
   "source": [
    "sns.catplot(x=\"STDNT_AGE\", hue=\"RETURNED_2ND_YR\", kind=\"count\",\n",
    "            palette=\"pastel\", edgecolor=\".1\",\n",
    "            data=df);"
   ]
  },
  {
   "cell_type": "markdown",
   "metadata": {},
   "source": [
    "# GENDER\n"
   ]
  },
  {
   "cell_type": "code",
   "execution_count": 25,
   "metadata": {},
   "outputs": [
    {
     "data": {
      "text/plain": [
       "0"
      ]
     },
     "execution_count": 25,
     "metadata": {},
     "output_type": "execute_result"
    }
   ],
   "source": [
    "df['STDNT_GENDER'].isnull().sum()"
   ]
  },
  {
   "cell_type": "code",
   "execution_count": 26,
   "metadata": {
    "scrolled": true
   },
   "outputs": [
    {
     "data": {
      "text/plain": [
       "count     3400\n",
       "unique       2\n",
       "top          F\n",
       "freq      2140\n",
       "Name: STDNT_GENDER, dtype: object"
      ]
     },
     "execution_count": 26,
     "metadata": {},
     "output_type": "execute_result"
    }
   ],
   "source": [
    "df['STDNT_GENDER'].describe()"
   ]
  },
  {
   "cell_type": "code",
   "execution_count": 27,
   "metadata": {},
   "outputs": [
    {
     "data": {
      "text/plain": [
       "F    2140\n",
       "M    1260\n",
       "Name: STDNT_GENDER, dtype: int64"
      ]
     },
     "execution_count": 27,
     "metadata": {},
     "output_type": "execute_result"
    }
   ],
   "source": [
    "df['STDNT_GENDER'].value_counts()"
   ]
  },
  {
   "cell_type": "code",
   "execution_count": 28,
   "metadata": {},
   "outputs": [],
   "source": [
    "gender_perc=df['STDNT_GENDER'].value_counts()"
   ]
  },
  {
   "cell_type": "code",
   "execution_count": 29,
   "metadata": {},
   "outputs": [
    {
     "data": {
      "text/plain": [
       "F   63.000\n",
       "M   37.000\n",
       "Name: STDNT_GENDER, dtype: float64"
      ]
     },
     "execution_count": 29,
     "metadata": {},
     "output_type": "execute_result"
    }
   ],
   "source": [
    "round(gender_perc/3400*100)"
   ]
  },
  {
   "cell_type": "code",
   "execution_count": 30,
   "metadata": {
    "scrolled": true
   },
   "outputs": [
    {
     "data": {
      "text/html": [
       "<div>\n",
       "<style scoped>\n",
       "    .dataframe tbody tr th:only-of-type {\n",
       "        vertical-align: middle;\n",
       "    }\n",
       "\n",
       "    .dataframe tbody tr th {\n",
       "        vertical-align: top;\n",
       "    }\n",
       "\n",
       "    .dataframe thead th {\n",
       "        text-align: right;\n",
       "    }\n",
       "</style>\n",
       "<table border=\"1\" class=\"dataframe\">\n",
       "  <thead>\n",
       "    <tr style=\"text-align: right;\">\n",
       "      <th>RETURNED_2ND_YR</th>\n",
       "      <th>0</th>\n",
       "      <th>1</th>\n",
       "      <th>All</th>\n",
       "    </tr>\n",
       "    <tr>\n",
       "      <th>STDNT_GENDER</th>\n",
       "      <th></th>\n",
       "      <th></th>\n",
       "      <th></th>\n",
       "    </tr>\n",
       "  </thead>\n",
       "  <tbody>\n",
       "    <tr>\n",
       "      <th>F</th>\n",
       "      <td>475</td>\n",
       "      <td>1665</td>\n",
       "      <td>2140</td>\n",
       "    </tr>\n",
       "    <tr>\n",
       "      <th>M</th>\n",
       "      <td>248</td>\n",
       "      <td>1012</td>\n",
       "      <td>1260</td>\n",
       "    </tr>\n",
       "    <tr>\n",
       "      <th>All</th>\n",
       "      <td>723</td>\n",
       "      <td>2677</td>\n",
       "      <td>3400</td>\n",
       "    </tr>\n",
       "  </tbody>\n",
       "</table>\n",
       "</div>"
      ],
      "text/plain": [
       "RETURNED_2ND_YR    0     1   All\n",
       "STDNT_GENDER                    \n",
       "F                475  1665  2140\n",
       "M                248  1012  1260\n",
       "All              723  2677  3400"
      ]
     },
     "execution_count": 30,
     "metadata": {},
     "output_type": "execute_result"
    }
   ],
   "source": [
    "pd.crosstab(df.STDNT_GENDER,df.RETURNED_2ND_YR,margins=True)"
   ]
  },
  {
   "cell_type": "code",
   "execution_count": 31,
   "metadata": {},
   "outputs": [
    {
     "data": {
      "text/html": [
       "<div>\n",
       "<style scoped>\n",
       "    .dataframe tbody tr th:only-of-type {\n",
       "        vertical-align: middle;\n",
       "    }\n",
       "\n",
       "    .dataframe tbody tr th {\n",
       "        vertical-align: top;\n",
       "    }\n",
       "\n",
       "    .dataframe thead th {\n",
       "        text-align: right;\n",
       "    }\n",
       "</style>\n",
       "<table border=\"1\" class=\"dataframe\">\n",
       "  <thead>\n",
       "    <tr style=\"text-align: right;\">\n",
       "      <th>RETURNED_2ND_YR</th>\n",
       "      <th>0</th>\n",
       "      <th>1</th>\n",
       "      <th>All</th>\n",
       "    </tr>\n",
       "    <tr>\n",
       "      <th>STDNT_GENDER</th>\n",
       "      <th></th>\n",
       "      <th></th>\n",
       "      <th></th>\n",
       "    </tr>\n",
       "  </thead>\n",
       "  <tbody>\n",
       "    <tr>\n",
       "      <th>F</th>\n",
       "      <td>0.140</td>\n",
       "      <td>0.490</td>\n",
       "      <td>0.629</td>\n",
       "    </tr>\n",
       "    <tr>\n",
       "      <th>M</th>\n",
       "      <td>0.073</td>\n",
       "      <td>0.298</td>\n",
       "      <td>0.371</td>\n",
       "    </tr>\n",
       "    <tr>\n",
       "      <th>All</th>\n",
       "      <td>0.213</td>\n",
       "      <td>0.787</td>\n",
       "      <td>1.000</td>\n",
       "    </tr>\n",
       "  </tbody>\n",
       "</table>\n",
       "</div>"
      ],
      "text/plain": [
       "RETURNED_2ND_YR     0     1   All\n",
       "STDNT_GENDER                     \n",
       "F               0.140 0.490 0.629\n",
       "M               0.073 0.298 0.371\n",
       "All             0.213 0.787 1.000"
      ]
     },
     "execution_count": 31,
     "metadata": {},
     "output_type": "execute_result"
    }
   ],
   "source": [
    "pd.crosstab(df.STDNT_GENDER,df.RETURNED_2ND_YR,margins=True,normalize='all')"
   ]
  },
  {
   "cell_type": "code",
   "execution_count": 32,
   "metadata": {},
   "outputs": [
    {
     "data": {
      "text/plain": [
       "<matplotlib.axes._subplots.AxesSubplot at 0x7fc7ff5f6c50>"
      ]
     },
     "execution_count": 32,
     "metadata": {},
     "output_type": "execute_result"
    },
    {
     "data": {
      "image/png": "[encoded data removed]",
      "text/plain": [
       "<Figure size 432x288 with 1 Axes>"
      ]
     },
     "metadata": {
      "needs_background": "light"
     },
     "output_type": "display_data"
    }
   ],
   "source": [
    "sns.heatmap(pd.crosstab([df.STDNT_GENDER],[df.RETURNED_2ND_YR],margins=True),cmap='YlGnBu', annot=True, cbar=False,fmt='g')"
   ]
  },
  {
   "cell_type": "code",
   "execution_count": 33,
   "metadata": {
    "scrolled": true
   },
   "outputs": [
    {
     "data": {
      "image/png": "[encoded data removed]",
      "text/plain": [
       "<Figure size 444.25x360 with 1 Axes>"
      ]
     },
     "metadata": {
      "needs_background": "light"
     },
     "output_type": "display_data"
    }
   ],
   "source": [
    "sns.catplot(x=\"RETURNED_2ND_YR\", hue=\"STDNT_GENDER\", kind=\"count\",\n",
    "            palette=\"pastel\", edgecolor=\".6\",\n",
    "            data=df);"
   ]
  },
  {
   "cell_type": "code",
   "execution_count": null,
   "metadata": {},
   "outputs": [],
   "source": []
  },
  {
   "cell_type": "markdown",
   "metadata": {},
   "source": [
    "# STDNT_BACKGROUND\n"
   ]
  },
  {
   "cell_type": "code",
   "execution_count": 34,
   "metadata": {},
   "outputs": [
    {
     "data": {
      "text/plain": [
       "0"
      ]
     },
     "execution_count": 34,
     "metadata": {},
     "output_type": "execute_result"
    }
   ],
   "source": [
    "df['STDNT_BACKGROUND'].isnull().sum()"
   ]
  },
  {
   "cell_type": "code",
   "execution_count": 35,
   "metadata": {},
   "outputs": [
    {
     "data": {
      "text/plain": [
       "count      3400\n",
       "unique        8\n",
       "top       BGD 1\n",
       "freq       2082\n",
       "Name: STDNT_BACKGROUND, dtype: object"
      ]
     },
     "execution_count": 35,
     "metadata": {},
     "output_type": "execute_result"
    }
   ],
   "source": [
    "df['STDNT_BACKGROUND'].describe()"
   ]
  },
  {
   "cell_type": "code",
   "execution_count": 36,
   "metadata": {},
   "outputs": [
    {
     "data": {
      "text/plain": [
       "BGD 1    2082\n",
       "BGD 3     947\n",
       "BGD 4     139\n",
       "BGD 2     106\n",
       "BGD 6      94\n",
       "BGD 7      19\n",
       "BGD 5       8\n",
       "BGD 8       5\n",
       "Name: STDNT_BACKGROUND, dtype: int64"
      ]
     },
     "execution_count": 36,
     "metadata": {},
     "output_type": "execute_result"
    }
   ],
   "source": [
    "df['STDNT_BACKGROUND'].value_counts()"
   ]
  },
  {
   "cell_type": "code",
   "execution_count": 37,
   "metadata": {},
   "outputs": [],
   "source": [
    "bgd_perc=df['STDNT_BACKGROUND'].value_counts()"
   ]
  },
  {
   "cell_type": "code",
   "execution_count": 38,
   "metadata": {},
   "outputs": [
    {
     "data": {
      "text/plain": [
       "BGD 1   61.240\n",
       "BGD 3   27.850\n",
       "BGD 4    4.090\n",
       "BGD 2    3.120\n",
       "BGD 6    2.760\n",
       "BGD 7    0.560\n",
       "BGD 5    0.240\n",
       "BGD 8    0.150\n",
       "Name: STDNT_BACKGROUND, dtype: float64"
      ]
     },
     "execution_count": 38,
     "metadata": {},
     "output_type": "execute_result"
    }
   ],
   "source": [
    "round(bgd_perc/3400*100,2)"
   ]
  },
  {
   "cell_type": "code",
   "execution_count": 39,
   "metadata": {},
   "outputs": [
    {
     "data": {
      "text/html": [
       "<div>\n",
       "<style scoped>\n",
       "    .dataframe tbody tr th:only-of-type {\n",
       "        vertical-align: middle;\n",
       "    }\n",
       "\n",
       "    .dataframe tbody tr th {\n",
       "        vertical-align: top;\n",
       "    }\n",
       "\n",
       "    .dataframe thead th {\n",
       "        text-align: right;\n",
       "    }\n",
       "</style>\n",
       "<table border=\"1\" class=\"dataframe\">\n",
       "  <thead>\n",
       "    <tr style=\"text-align: right;\">\n",
       "      <th>RETURNED_2ND_YR</th>\n",
       "      <th>0</th>\n",
       "      <th>1</th>\n",
       "      <th>All</th>\n",
       "    </tr>\n",
       "    <tr>\n",
       "      <th>STDNT_BACKGROUND</th>\n",
       "      <th></th>\n",
       "      <th></th>\n",
       "      <th></th>\n",
       "    </tr>\n",
       "  </thead>\n",
       "  <tbody>\n",
       "    <tr>\n",
       "      <th>BGD 1</th>\n",
       "      <td>477</td>\n",
       "      <td>1605</td>\n",
       "      <td>2082</td>\n",
       "    </tr>\n",
       "    <tr>\n",
       "      <th>BGD 2</th>\n",
       "      <td>24</td>\n",
       "      <td>82</td>\n",
       "      <td>106</td>\n",
       "    </tr>\n",
       "    <tr>\n",
       "      <th>BGD 3</th>\n",
       "      <td>170</td>\n",
       "      <td>777</td>\n",
       "      <td>947</td>\n",
       "    </tr>\n",
       "    <tr>\n",
       "      <th>BGD 4</th>\n",
       "      <td>26</td>\n",
       "      <td>113</td>\n",
       "      <td>139</td>\n",
       "    </tr>\n",
       "    <tr>\n",
       "      <th>BGD 5</th>\n",
       "      <td>4</td>\n",
       "      <td>4</td>\n",
       "      <td>8</td>\n",
       "    </tr>\n",
       "    <tr>\n",
       "      <th>BGD 6</th>\n",
       "      <td>14</td>\n",
       "      <td>80</td>\n",
       "      <td>94</td>\n",
       "    </tr>\n",
       "    <tr>\n",
       "      <th>BGD 7</th>\n",
       "      <td>7</td>\n",
       "      <td>12</td>\n",
       "      <td>19</td>\n",
       "    </tr>\n",
       "    <tr>\n",
       "      <th>BGD 8</th>\n",
       "      <td>1</td>\n",
       "      <td>4</td>\n",
       "      <td>5</td>\n",
       "    </tr>\n",
       "    <tr>\n",
       "      <th>All</th>\n",
       "      <td>723</td>\n",
       "      <td>2677</td>\n",
       "      <td>3400</td>\n",
       "    </tr>\n",
       "  </tbody>\n",
       "</table>\n",
       "</div>"
      ],
      "text/plain": [
       "RETURNED_2ND_YR     0     1   All\n",
       "STDNT_BACKGROUND                 \n",
       "BGD 1             477  1605  2082\n",
       "BGD 2              24    82   106\n",
       "BGD 3             170   777   947\n",
       "BGD 4              26   113   139\n",
       "BGD 5               4     4     8\n",
       "BGD 6              14    80    94\n",
       "BGD 7               7    12    19\n",
       "BGD 8               1     4     5\n",
       "All               723  2677  3400"
      ]
     },
     "execution_count": 39,
     "metadata": {},
     "output_type": "execute_result"
    }
   ],
   "source": [
    "pd.crosstab(df.STDNT_BACKGROUND,df.RETURNED_2ND_YR,margins=True)"
   ]
  },
  {
   "cell_type": "code",
   "execution_count": 40,
   "metadata": {},
   "outputs": [
    {
     "data": {
      "image/png": "[encoded data removed]",
      "text/plain": [
       "<Figure size 360x360 with 1 Axes>"
      ]
     },
     "metadata": {
      "needs_background": "light"
     },
     "output_type": "display_data"
    }
   ],
   "source": [
    "sns.catplot(x=\"STDNT_BACKGROUND\", kind=\"count\",\n",
    "            palette=\"pastel\", edgecolor=\".1\",\n",
    "            data=df);"
   ]
  },
  {
   "cell_type": "code",
   "execution_count": 41,
   "metadata": {},
   "outputs": [
    {
     "data": {
      "text/html": [
       "<div>\n",
       "<style scoped>\n",
       "    .dataframe tbody tr th:only-of-type {\n",
       "        vertical-align: middle;\n",
       "    }\n",
       "\n",
       "    .dataframe tbody tr th {\n",
       "        vertical-align: top;\n",
       "    }\n",
       "\n",
       "    .dataframe thead th {\n",
       "        text-align: right;\n",
       "    }\n",
       "</style>\n",
       "<table border=\"1\" class=\"dataframe\">\n",
       "  <thead>\n",
       "    <tr style=\"text-align: right;\">\n",
       "      <th>RETURNED_2ND_YR</th>\n",
       "      <th>0</th>\n",
       "      <th>All</th>\n",
       "    </tr>\n",
       "    <tr>\n",
       "      <th>STDNT_BACKGROUND</th>\n",
       "      <th></th>\n",
       "      <th></th>\n",
       "    </tr>\n",
       "  </thead>\n",
       "  <tbody>\n",
       "    <tr>\n",
       "      <th>BGD 1</th>\n",
       "      <td>477</td>\n",
       "      <td>477</td>\n",
       "    </tr>\n",
       "    <tr>\n",
       "      <th>BGD 2</th>\n",
       "      <td>24</td>\n",
       "      <td>24</td>\n",
       "    </tr>\n",
       "    <tr>\n",
       "      <th>BGD 3</th>\n",
       "      <td>170</td>\n",
       "      <td>170</td>\n",
       "    </tr>\n",
       "    <tr>\n",
       "      <th>BGD 4</th>\n",
       "      <td>26</td>\n",
       "      <td>26</td>\n",
       "    </tr>\n",
       "    <tr>\n",
       "      <th>BGD 5</th>\n",
       "      <td>4</td>\n",
       "      <td>4</td>\n",
       "    </tr>\n",
       "    <tr>\n",
       "      <th>BGD 6</th>\n",
       "      <td>14</td>\n",
       "      <td>14</td>\n",
       "    </tr>\n",
       "    <tr>\n",
       "      <th>BGD 7</th>\n",
       "      <td>7</td>\n",
       "      <td>7</td>\n",
       "    </tr>\n",
       "    <tr>\n",
       "      <th>BGD 8</th>\n",
       "      <td>1</td>\n",
       "      <td>1</td>\n",
       "    </tr>\n",
       "    <tr>\n",
       "      <th>All</th>\n",
       "      <td>723</td>\n",
       "      <td>723</td>\n",
       "    </tr>\n",
       "  </tbody>\n",
       "</table>\n",
       "</div>"
      ],
      "text/plain": [
       "RETURNED_2ND_YR     0  All\n",
       "STDNT_BACKGROUND          \n",
       "BGD 1             477  477\n",
       "BGD 2              24   24\n",
       "BGD 3             170  170\n",
       "BGD 4              26   26\n",
       "BGD 5               4    4\n",
       "BGD 6              14   14\n",
       "BGD 7               7    7\n",
       "BGD 8               1    1\n",
       "All               723  723"
      ]
     },
     "execution_count": 41,
     "metadata": {},
     "output_type": "execute_result"
    }
   ],
   "source": [
    "pd.crosstab(df_not_returned.STDNT_BACKGROUND,df_not_returned.RETURNED_2ND_YR,margins=True)"
   ]
  },
  {
   "cell_type": "code",
   "execution_count": 42,
   "metadata": {},
   "outputs": [],
   "source": [
    "a=pd.crosstab(df.STDNT_BACKGROUND,df.RETURNED_2ND_YR,margins=True,normalize='all')"
   ]
  },
  {
   "cell_type": "code",
   "execution_count": 43,
   "metadata": {},
   "outputs": [
    {
     "data": {
      "text/html": [
       "<div>\n",
       "<style scoped>\n",
       "    .dataframe tbody tr th:only-of-type {\n",
       "        vertical-align: middle;\n",
       "    }\n",
       "\n",
       "    .dataframe tbody tr th {\n",
       "        vertical-align: top;\n",
       "    }\n",
       "\n",
       "    .dataframe thead th {\n",
       "        text-align: right;\n",
       "    }\n",
       "</style>\n",
       "<table border=\"1\" class=\"dataframe\">\n",
       "  <thead>\n",
       "    <tr style=\"text-align: right;\">\n",
       "      <th>RETURNED_2ND_YR</th>\n",
       "      <th>0</th>\n",
       "      <th>1</th>\n",
       "      <th>All</th>\n",
       "    </tr>\n",
       "    <tr>\n",
       "      <th>STDNT_BACKGROUND</th>\n",
       "      <th></th>\n",
       "      <th></th>\n",
       "      <th></th>\n",
       "    </tr>\n",
       "  </thead>\n",
       "  <tbody>\n",
       "    <tr>\n",
       "      <th>BGD 1</th>\n",
       "      <td>0.140</td>\n",
       "      <td>0.472</td>\n",
       "      <td>0.612</td>\n",
       "    </tr>\n",
       "    <tr>\n",
       "      <th>BGD 2</th>\n",
       "      <td>0.007</td>\n",
       "      <td>0.024</td>\n",
       "      <td>0.031</td>\n",
       "    </tr>\n",
       "    <tr>\n",
       "      <th>BGD 3</th>\n",
       "      <td>0.050</td>\n",
       "      <td>0.229</td>\n",
       "      <td>0.279</td>\n",
       "    </tr>\n",
       "    <tr>\n",
       "      <th>BGD 4</th>\n",
       "      <td>0.008</td>\n",
       "      <td>0.033</td>\n",
       "      <td>0.041</td>\n",
       "    </tr>\n",
       "    <tr>\n",
       "      <th>BGD 5</th>\n",
       "      <td>0.001</td>\n",
       "      <td>0.001</td>\n",
       "      <td>0.002</td>\n",
       "    </tr>\n",
       "    <tr>\n",
       "      <th>BGD 6</th>\n",
       "      <td>0.004</td>\n",
       "      <td>0.024</td>\n",
       "      <td>0.028</td>\n",
       "    </tr>\n",
       "    <tr>\n",
       "      <th>BGD 7</th>\n",
       "      <td>0.002</td>\n",
       "      <td>0.004</td>\n",
       "      <td>0.006</td>\n",
       "    </tr>\n",
       "    <tr>\n",
       "      <th>BGD 8</th>\n",
       "      <td>0.000</td>\n",
       "      <td>0.001</td>\n",
       "      <td>0.001</td>\n",
       "    </tr>\n",
       "    <tr>\n",
       "      <th>All</th>\n",
       "      <td>0.213</td>\n",
       "      <td>0.787</td>\n",
       "      <td>1.000</td>\n",
       "    </tr>\n",
       "  </tbody>\n",
       "</table>\n",
       "</div>"
      ],
      "text/plain": [
       "RETURNED_2ND_YR      0     1   All\n",
       "STDNT_BACKGROUND                  \n",
       "BGD 1            0.140 0.472 0.612\n",
       "BGD 2            0.007 0.024 0.031\n",
       "BGD 3            0.050 0.229 0.279\n",
       "BGD 4            0.008 0.033 0.041\n",
       "BGD 5            0.001 0.001 0.002\n",
       "BGD 6            0.004 0.024 0.028\n",
       "BGD 7            0.002 0.004 0.006\n",
       "BGD 8            0.000 0.001 0.001\n",
       "All              0.213 0.787 1.000"
      ]
     },
     "execution_count": 43,
     "metadata": {},
     "output_type": "execute_result"
    }
   ],
   "source": [
    "round(a,3)"
   ]
  },
  {
   "cell_type": "code",
   "execution_count": 44,
   "metadata": {},
   "outputs": [
    {
     "data": {
      "text/html": [
       "<div>\n",
       "<style scoped>\n",
       "    .dataframe tbody tr th:only-of-type {\n",
       "        vertical-align: middle;\n",
       "    }\n",
       "\n",
       "    .dataframe tbody tr th {\n",
       "        vertical-align: top;\n",
       "    }\n",
       "\n",
       "    .dataframe thead th {\n",
       "        text-align: right;\n",
       "    }\n",
       "</style>\n",
       "<table border=\"1\" class=\"dataframe\">\n",
       "  <thead>\n",
       "    <tr style=\"text-align: right;\">\n",
       "      <th>RETURNED_2ND_YR</th>\n",
       "      <th>0</th>\n",
       "    </tr>\n",
       "    <tr>\n",
       "      <th>STDNT_BACKGROUND</th>\n",
       "      <th></th>\n",
       "    </tr>\n",
       "  </thead>\n",
       "  <tbody>\n",
       "    <tr>\n",
       "      <th>BGD 1</th>\n",
       "      <td>0.660</td>\n",
       "    </tr>\n",
       "    <tr>\n",
       "      <th>BGD 2</th>\n",
       "      <td>0.033</td>\n",
       "    </tr>\n",
       "    <tr>\n",
       "      <th>BGD 3</th>\n",
       "      <td>0.235</td>\n",
       "    </tr>\n",
       "    <tr>\n",
       "      <th>BGD 4</th>\n",
       "      <td>0.036</td>\n",
       "    </tr>\n",
       "    <tr>\n",
       "      <th>BGD 5</th>\n",
       "      <td>0.006</td>\n",
       "    </tr>\n",
       "    <tr>\n",
       "      <th>BGD 6</th>\n",
       "      <td>0.019</td>\n",
       "    </tr>\n",
       "    <tr>\n",
       "      <th>BGD 7</th>\n",
       "      <td>0.010</td>\n",
       "    </tr>\n",
       "    <tr>\n",
       "      <th>BGD 8</th>\n",
       "      <td>0.001</td>\n",
       "    </tr>\n",
       "  </tbody>\n",
       "</table>\n",
       "</div>"
      ],
      "text/plain": [
       "RETURNED_2ND_YR      0\n",
       "STDNT_BACKGROUND      \n",
       "BGD 1            0.660\n",
       "BGD 2            0.033\n",
       "BGD 3            0.235\n",
       "BGD 4            0.036\n",
       "BGD 5            0.006\n",
       "BGD 6            0.019\n",
       "BGD 7            0.010\n",
       "BGD 8            0.001"
      ]
     },
     "execution_count": 44,
     "metadata": {},
     "output_type": "execute_result"
    }
   ],
   "source": [
    "pd.crosstab(df_not_returned.STDNT_BACKGROUND,df_not_returned.RETURNED_2ND_YR,normalize='all')"
   ]
  },
  {
   "cell_type": "markdown",
   "metadata": {},
   "source": [
    "# IN_STATE_FLAG"
   ]
  },
  {
   "cell_type": "code",
   "execution_count": 45,
   "metadata": {},
   "outputs": [
    {
     "data": {
      "text/plain": [
       "0"
      ]
     },
     "execution_count": 45,
     "metadata": {},
     "output_type": "execute_result"
    }
   ],
   "source": [
    "df['IN_STATE_FLAG'].isnull().sum()"
   ]
  },
  {
   "cell_type": "code",
   "execution_count": 46,
   "metadata": {},
   "outputs": [
    {
     "data": {
      "text/plain": [
       "count     3400\n",
       "unique       2\n",
       "top          Y\n",
       "freq      3063\n",
       "Name: IN_STATE_FLAG, dtype: object"
      ]
     },
     "execution_count": 46,
     "metadata": {},
     "output_type": "execute_result"
    }
   ],
   "source": [
    "df['IN_STATE_FLAG'].describe()"
   ]
  },
  {
   "cell_type": "code",
   "execution_count": 47,
   "metadata": {},
   "outputs": [
    {
     "data": {
      "text/plain": [
       "Y    3063\n",
       "N     337\n",
       "Name: IN_STATE_FLAG, dtype: int64"
      ]
     },
     "execution_count": 47,
     "metadata": {},
     "output_type": "execute_result"
    }
   ],
   "source": [
    "df['IN_STATE_FLAG'].value_counts()"
   ]
  },
  {
   "cell_type": "code",
   "execution_count": 48,
   "metadata": {},
   "outputs": [],
   "source": [
    "flag_perc=df['IN_STATE_FLAG'].value_counts()"
   ]
  },
  {
   "cell_type": "code",
   "execution_count": 49,
   "metadata": {},
   "outputs": [
    {
     "data": {
      "text/plain": [
       "Y   90.090\n",
       "N    9.910\n",
       "Name: IN_STATE_FLAG, dtype: float64"
      ]
     },
     "execution_count": 49,
     "metadata": {},
     "output_type": "execute_result"
    }
   ],
   "source": [
    "round(flag_perc/3400*100,2)"
   ]
  },
  {
   "cell_type": "code",
   "execution_count": 50,
   "metadata": {},
   "outputs": [],
   "source": [
    "flag_returned_perc=df_returned['IN_STATE_FLAG'].value_counts()"
   ]
  },
  {
   "cell_type": "code",
   "execution_count": 51,
   "metadata": {},
   "outputs": [
    {
     "data": {
      "text/plain": [
       "Y   90.740\n",
       "N    9.260\n",
       "Name: IN_STATE_FLAG, dtype: float64"
      ]
     },
     "execution_count": 51,
     "metadata": {},
     "output_type": "execute_result"
    }
   ],
   "source": [
    "round(flag_returned_perc/2677*100,2)"
   ]
  },
  {
   "cell_type": "markdown",
   "metadata": {},
   "source": [
    "# INTERNATIONAL_STS"
   ]
  },
  {
   "cell_type": "code",
   "execution_count": 52,
   "metadata": {},
   "outputs": [
    {
     "data": {
      "text/plain": [
       "0"
      ]
     },
     "execution_count": 52,
     "metadata": {},
     "output_type": "execute_result"
    }
   ],
   "source": [
    "df['INTERNATIONAL_STS'].isnull().sum()"
   ]
  },
  {
   "cell_type": "code",
   "execution_count": 53,
   "metadata": {},
   "outputs": [
    {
     "data": {
      "text/plain": [
       "count     3400\n",
       "unique       2\n",
       "top          N\n",
       "freq      3373\n",
       "Name: INTERNATIONAL_STS, dtype: object"
      ]
     },
     "execution_count": 53,
     "metadata": {},
     "output_type": "execute_result"
    }
   ],
   "source": [
    "df['INTERNATIONAL_STS'].describe()"
   ]
  },
  {
   "cell_type": "code",
   "execution_count": 54,
   "metadata": {},
   "outputs": [
    {
     "data": {
      "text/plain": [
       "N    3373\n",
       "Y      27\n",
       "Name: INTERNATIONAL_STS, dtype: int64"
      ]
     },
     "execution_count": 54,
     "metadata": {},
     "output_type": "execute_result"
    }
   ],
   "source": [
    "df['INTERNATIONAL_STS'].value_counts()"
   ]
  },
  {
   "cell_type": "code",
   "execution_count": 55,
   "metadata": {},
   "outputs": [],
   "source": [
    "international_perc=df['INTERNATIONAL_STS'].value_counts()"
   ]
  },
  {
   "cell_type": "code",
   "execution_count": 56,
   "metadata": {},
   "outputs": [
    {
     "data": {
      "text/plain": [
       "N   99.210\n",
       "Y    0.790\n",
       "Name: INTERNATIONAL_STS, dtype: float64"
      ]
     },
     "execution_count": 56,
     "metadata": {},
     "output_type": "execute_result"
    }
   ],
   "source": [
    "#percentage of total students\n",
    "round(international_perc/3400*100,2)"
   ]
  },
  {
   "cell_type": "code",
   "execution_count": 57,
   "metadata": {},
   "outputs": [],
   "source": [
    "international_not_returned_perc=df_not_returned['INTERNATIONAL_STS'].value_counts()"
   ]
  },
  {
   "cell_type": "code",
   "execution_count": 58,
   "metadata": {},
   "outputs": [
    {
     "data": {
      "text/plain": [
       "N   98.340\n",
       "Y    1.660\n",
       "Name: INTERNATIONAL_STS, dtype: float64"
      ]
     },
     "execution_count": 58,
     "metadata": {},
     "output_type": "execute_result"
    }
   ],
   "source": [
    "#percentage of students who didn't return\n",
    "round(international_not_returned_perc/723*100,2)"
   ]
  },
  {
   "cell_type": "markdown",
   "metadata": {},
   "source": [
    "# HOUSING_STS"
   ]
  },
  {
   "cell_type": "code",
   "execution_count": 59,
   "metadata": {},
   "outputs": [
    {
     "data": {
      "text/plain": [
       "0"
      ]
     },
     "execution_count": 59,
     "metadata": {},
     "output_type": "execute_result"
    }
   ],
   "source": [
    "df['HOUSING_STS'].isnull().sum()"
   ]
  },
  {
   "cell_type": "code",
   "execution_count": 60,
   "metadata": {},
   "outputs": [
    {
     "data": {
      "text/plain": [
       "Off Campus    1981\n",
       "On Campus     1419\n",
       "Name: HOUSING_STS, dtype: int64"
      ]
     },
     "execution_count": 60,
     "metadata": {},
     "output_type": "execute_result"
    }
   ],
   "source": [
    "df['HOUSING_STS'].value_counts(dropna=False)"
   ]
  },
  {
   "cell_type": "code",
   "execution_count": 61,
   "metadata": {},
   "outputs": [
    {
     "data": {
      "text/plain": [
       "count           3400\n",
       "unique             2\n",
       "top       Off Campus\n",
       "freq            1981\n",
       "Name: HOUSING_STS, dtype: object"
      ]
     },
     "execution_count": 61,
     "metadata": {},
     "output_type": "execute_result"
    }
   ],
   "source": [
    "df['HOUSING_STS'].describe()"
   ]
  },
  {
   "cell_type": "code",
   "execution_count": 62,
   "metadata": {},
   "outputs": [],
   "source": [
    "HST_perc=df['HOUSING_STS'].value_counts()"
   ]
  },
  {
   "cell_type": "code",
   "execution_count": 63,
   "metadata": {},
   "outputs": [
    {
     "data": {
      "text/plain": [
       "Off Campus   58.260\n",
       "On Campus    41.740\n",
       "Name: HOUSING_STS, dtype: float64"
      ]
     },
     "execution_count": 63,
     "metadata": {},
     "output_type": "execute_result"
    }
   ],
   "source": [
    "round(HST_perc/3400*100,2)"
   ]
  },
  {
   "cell_type": "code",
   "execution_count": 64,
   "metadata": {},
   "outputs": [
    {
     "data": {
      "text/plain": [
       "Off Campus    389\n",
       "On Campus     334\n",
       "Name: HOUSING_STS, dtype: int64"
      ]
     },
     "execution_count": 64,
     "metadata": {},
     "output_type": "execute_result"
    }
   ],
   "source": [
    "df_not_returned['HOUSING_STS'].value_counts()"
   ]
  },
  {
   "cell_type": "code",
   "execution_count": 65,
   "metadata": {},
   "outputs": [],
   "source": [
    "a=df_not_returned['HOUSING_STS'].value_counts()"
   ]
  },
  {
   "cell_type": "code",
   "execution_count": 66,
   "metadata": {},
   "outputs": [
    {
     "data": {
      "text/plain": [
       "Off Campus   53.800\n",
       "On Campus    46.200\n",
       "Name: HOUSING_STS, dtype: float64"
      ]
     },
     "execution_count": 66,
     "metadata": {},
     "output_type": "execute_result"
    }
   ],
   "source": [
    "round(a/723*100,2)"
   ]
  },
  {
   "cell_type": "code",
   "execution_count": 67,
   "metadata": {},
   "outputs": [
    {
     "data": {
      "text/html": [
       "<div>\n",
       "<style scoped>\n",
       "    .dataframe tbody tr th:only-of-type {\n",
       "        vertical-align: middle;\n",
       "    }\n",
       "\n",
       "    .dataframe tbody tr th {\n",
       "        vertical-align: top;\n",
       "    }\n",
       "\n",
       "    .dataframe thead tr th {\n",
       "        text-align: left;\n",
       "    }\n",
       "\n",
       "    .dataframe thead tr:last-of-type th {\n",
       "        text-align: right;\n",
       "    }\n",
       "</style>\n",
       "<table border=\"1\" class=\"dataframe\">\n",
       "  <thead>\n",
       "    <tr>\n",
       "      <th></th>\n",
       "      <th>RETURNED_2ND_YR</th>\n",
       "      <th colspan=\"2\" halign=\"left\">0</th>\n",
       "      <th colspan=\"2\" halign=\"left\">1</th>\n",
       "    </tr>\n",
       "    <tr>\n",
       "      <th></th>\n",
       "      <th>HOUSING_STS</th>\n",
       "      <th>Off Campus</th>\n",
       "      <th>On Campus</th>\n",
       "      <th>Off Campus</th>\n",
       "      <th>On Campus</th>\n",
       "    </tr>\n",
       "    <tr>\n",
       "      <th>IN_STATE_FLAG</th>\n",
       "      <th>INTERNATIONAL_STS</th>\n",
       "      <th></th>\n",
       "      <th></th>\n",
       "      <th></th>\n",
       "      <th></th>\n",
       "    </tr>\n",
       "  </thead>\n",
       "  <tbody>\n",
       "    <tr>\n",
       "      <th rowspan=\"2\" valign=\"top\">N</th>\n",
       "      <th>N</th>\n",
       "      <td>0.014</td>\n",
       "      <td>0.009</td>\n",
       "      <td>0.053</td>\n",
       "      <td>0.016</td>\n",
       "    </tr>\n",
       "    <tr>\n",
       "      <th>Y</th>\n",
       "      <td>0.001</td>\n",
       "      <td>0.002</td>\n",
       "      <td>0.002</td>\n",
       "      <td>0.003</td>\n",
       "    </tr>\n",
       "    <tr>\n",
       "      <th>Y</th>\n",
       "      <th>N</th>\n",
       "      <td>0.099</td>\n",
       "      <td>0.087</td>\n",
       "      <td>0.414</td>\n",
       "      <td>0.301</td>\n",
       "    </tr>\n",
       "  </tbody>\n",
       "</table>\n",
       "</div>"
      ],
      "text/plain": [
       "RETURNED_2ND_YR                          0                    1          \n",
       "HOUSING_STS                     Off Campus On Campus Off Campus On Campus\n",
       "IN_STATE_FLAG INTERNATIONAL_STS                                          \n",
       "N             N                      0.014     0.009      0.053     0.016\n",
       "              Y                      0.001     0.002      0.002     0.003\n",
       "Y             N                      0.099     0.087      0.414     0.301"
      ]
     },
     "execution_count": 67,
     "metadata": {},
     "output_type": "execute_result"
    }
   ],
   "source": [
    "pd.crosstab([df.IN_STATE_FLAG,df.INTERNATIONAL_STS],[df.RETURNED_2ND_YR,df.HOUSING_STS],normalize='all')"
   ]
  },
  {
   "cell_type": "code",
   "execution_count": 68,
   "metadata": {},
   "outputs": [
    {
     "data": {
      "text/html": [
       "<div>\n",
       "<style scoped>\n",
       "    .dataframe tbody tr th:only-of-type {\n",
       "        vertical-align: middle;\n",
       "    }\n",
       "\n",
       "    .dataframe tbody tr th {\n",
       "        vertical-align: top;\n",
       "    }\n",
       "\n",
       "    .dataframe thead tr th {\n",
       "        text-align: left;\n",
       "    }\n",
       "\n",
       "    .dataframe thead tr:last-of-type th {\n",
       "        text-align: right;\n",
       "    }\n",
       "</style>\n",
       "<table border=\"1\" class=\"dataframe\">\n",
       "  <thead>\n",
       "    <tr>\n",
       "      <th></th>\n",
       "      <th>RETURNED_2ND_YR</th>\n",
       "      <th colspan=\"2\" halign=\"left\">0</th>\n",
       "      <th colspan=\"2\" halign=\"left\">1</th>\n",
       "      <th>All</th>\n",
       "    </tr>\n",
       "    <tr>\n",
       "      <th></th>\n",
       "      <th>HOUSING_STS</th>\n",
       "      <th>Off Campus</th>\n",
       "      <th>On Campus</th>\n",
       "      <th>Off Campus</th>\n",
       "      <th>On Campus</th>\n",
       "      <th></th>\n",
       "    </tr>\n",
       "    <tr>\n",
       "      <th>IN_STATE_FLAG</th>\n",
       "      <th>INTERNATIONAL_STS</th>\n",
       "      <th></th>\n",
       "      <th></th>\n",
       "      <th></th>\n",
       "      <th></th>\n",
       "      <th></th>\n",
       "    </tr>\n",
       "  </thead>\n",
       "  <tbody>\n",
       "    <tr>\n",
       "      <th rowspan=\"2\" valign=\"top\">N</th>\n",
       "      <th>N</th>\n",
       "      <td>46</td>\n",
       "      <td>31</td>\n",
       "      <td>180</td>\n",
       "      <td>53</td>\n",
       "      <td>310</td>\n",
       "    </tr>\n",
       "    <tr>\n",
       "      <th>Y</th>\n",
       "      <td>5</td>\n",
       "      <td>7</td>\n",
       "      <td>6</td>\n",
       "      <td>9</td>\n",
       "      <td>27</td>\n",
       "    </tr>\n",
       "    <tr>\n",
       "      <th>Y</th>\n",
       "      <th>N</th>\n",
       "      <td>338</td>\n",
       "      <td>296</td>\n",
       "      <td>1406</td>\n",
       "      <td>1023</td>\n",
       "      <td>3063</td>\n",
       "    </tr>\n",
       "    <tr>\n",
       "      <th>All</th>\n",
       "      <th></th>\n",
       "      <td>389</td>\n",
       "      <td>334</td>\n",
       "      <td>1592</td>\n",
       "      <td>1085</td>\n",
       "      <td>3400</td>\n",
       "    </tr>\n",
       "  </tbody>\n",
       "</table>\n",
       "</div>"
      ],
      "text/plain": [
       "RETURNED_2ND_YR                          0                    1            \\\n",
       "HOUSING_STS                     Off Campus On Campus Off Campus On Campus   \n",
       "IN_STATE_FLAG INTERNATIONAL_STS                                             \n",
       "N             N                         46        31        180        53   \n",
       "              Y                          5         7          6         9   \n",
       "Y             N                        338       296       1406      1023   \n",
       "All                                    389       334       1592      1085   \n",
       "\n",
       "RETURNED_2ND_YR                   All  \n",
       "HOUSING_STS                            \n",
       "IN_STATE_FLAG INTERNATIONAL_STS        \n",
       "N             N                   310  \n",
       "              Y                    27  \n",
       "Y             N                  3063  \n",
       "All                              3400  "
      ]
     },
     "execution_count": 68,
     "metadata": {},
     "output_type": "execute_result"
    }
   ],
   "source": [
    "pd.crosstab([df.IN_STATE_FLAG,df.INTERNATIONAL_STS],[df.RETURNED_2ND_YR,df.HOUSING_STS],margins=True)"
   ]
  },
  {
   "cell_type": "markdown",
   "metadata": {},
   "source": [
    "# STDNT_MAJOR"
   ]
  },
  {
   "cell_type": "code",
   "execution_count": 69,
   "metadata": {},
   "outputs": [
    {
     "data": {
      "text/plain": [
       "0"
      ]
     },
     "execution_count": 69,
     "metadata": {},
     "output_type": "execute_result"
    }
   ],
   "source": [
    "df['STDNT_MAJOR'].isnull().sum()"
   ]
  },
  {
   "cell_type": "code",
   "execution_count": 70,
   "metadata": {},
   "outputs": [
    {
     "data": {
      "text/plain": [
       "count           3400\n",
       "unique            54\n",
       "top       Undeclared\n",
       "freq             460\n",
       "Name: STDNT_MAJOR, dtype: object"
      ]
     },
     "execution_count": 70,
     "metadata": {},
     "output_type": "execute_result"
    }
   ],
   "source": [
    "df['STDNT_MAJOR'].describe()"
   ]
  },
  {
   "cell_type": "code",
   "execution_count": 71,
   "metadata": {},
   "outputs": [
    {
     "data": {
      "text/plain": [
       "Undeclared                        460\n",
       "Biology                           362\n",
       "Early Childhood Education         190\n",
       "Pre-Nursing                       177\n",
       "Nursing                           164\n",
       "Psychology                        155\n",
       "Pre-Business                      133\n",
       "Theatre Arts                      131\n",
       "Music Performance                  99\n",
       "Criminal Justice                   98\n",
       "Music Education                    96\n",
       "General Business                   85\n",
       "Exercise Science                   81\n",
       "Art                                75\n",
       "Management                         72\n",
       "Communication                      70\n",
       "Chemistry                          64\n",
       "Political Science                  64\n",
       "English Language/Literature        60\n",
       "Engineering Studies                60\n",
       "Marketing                          59\n",
       "Computer Science - Systems         58\n",
       "Accounting                         54\n",
       "Health Science                     48\n",
       "Computer Science - Games           40\n",
       "Joint Enrollment - Accel           35\n",
       "History                            33\n",
       "Applied Computer Science           32\n",
       "Theatre Education                  29\n",
       "English and Secondary Ed           28\n",
       "Pre-Engineering/RETP               27\n",
       "History and Secondary Ed           27\n",
       "Mathematics                        26\n",
       "Finance                            24\n",
       "Management Information Systems     21\n",
       "Sociology                          20\n",
       "Health and Physical Education      20\n",
       "Music                              17\n",
       "Middle Grades Education            17\n",
       "Spec Ed: Gen. Curr. - Reading      13\n",
       "General Studies/AS                 12\n",
       "Mathematics and Secondary Ed       11\n",
       "Information Technology             10\n",
       "Art Education                       9\n",
       "Biology and Secondary Ed            5\n",
       "Spanish                             5\n",
       "French with Teacher Cert            4\n",
       "French                              4\n",
       "Spanish with Teacher Cert           4\n",
       "Geology                             4\n",
       "Early Admission - Accel             3\n",
       "Earth and Space Science             2\n",
       "Chemistry and Secondary Ed          2\n",
       "Liberal Arts                        1\n",
       "Name: STDNT_MAJOR, dtype: int64"
      ]
     },
     "execution_count": 71,
     "metadata": {},
     "output_type": "execute_result"
    }
   ],
   "source": [
    "df['STDNT_MAJOR'].value_counts()"
   ]
  },
  {
   "cell_type": "code",
   "execution_count": 72,
   "metadata": {},
   "outputs": [],
   "source": [
    "list_science=['Mathematics','Biology','Chemistry','Engineering Studies','Computer Science - Systems',\n",
    "             'Pre-Engineering/RETP','Health Science','Geology','Applied Computer Science',\n",
    "             'Information Technology','Computer Science - Games','Earth and Space Science']"
   ]
  },
  {
   "cell_type": "code",
   "execution_count": 73,
   "metadata": {},
   "outputs": [],
   "source": [
    "list_other=['Criminal Justice','Joint Enrollment - Accel','Spec Ed: Gen. Curr. - Reading',\n",
    "            'Middle Grades Education','Management Information Systems','General Studies/AS',\n",
    "            'Early Admission - Accel','Exercise Science']"
   ]
  },
  {
   "cell_type": "code",
   "execution_count": 74,
   "metadata": {},
   "outputs": [],
   "source": [
    "list_edu=['Early Childhood Education','Psychology','French','Biology and Secondary Ed',\n",
    "          'Chemistry and Secondary Ed','History and Secondary Ed','French with Teacher Cert','English and Secondary Ed',\n",
    "         'Mathematics and Secondary Ed','Art Education']"
   ]
  },
  {
   "cell_type": "code",
   "execution_count": 75,
   "metadata": {},
   "outputs": [],
   "source": [
    "list_arts=['Art','Political Science','Theatre Arts','English Language/Literature',\n",
    "            'History','Music','Spanish','Communication','Music Performance',\n",
    "          'Liberal Arts','Spanish with Teacher Cert','French','Theatre Education','Music Education']"
   ]
  },
  {
   "cell_type": "code",
   "execution_count": 76,
   "metadata": {},
   "outputs": [],
   "source": [
    "list_business=['Accounting','Pre-Business', 'Management','Marketing','General Business','Finance']"
   ]
  },
  {
   "cell_type": "code",
   "execution_count": 77,
   "metadata": {},
   "outputs": [],
   "source": [
    "list_nursing=['Nursing', 'Pre-Nursing',]"
   ]
  },
  {
   "cell_type": "code",
   "execution_count": 78,
   "metadata": {},
   "outputs": [],
   "source": [
    "df['STDNT_MAJOR'].replace(list_science,'Science',inplace=True)"
   ]
  },
  {
   "cell_type": "code",
   "execution_count": 79,
   "metadata": {},
   "outputs": [],
   "source": [
    "df['STDNT_MAJOR'].replace(list_other,'Other',inplace=True)"
   ]
  },
  {
   "cell_type": "code",
   "execution_count": 80,
   "metadata": {},
   "outputs": [],
   "source": [
    "df['STDNT_MAJOR'].replace(list_edu,'Education',inplace=True)"
   ]
  },
  {
   "cell_type": "code",
   "execution_count": 81,
   "metadata": {},
   "outputs": [],
   "source": [
    "df['STDNT_MAJOR'].replace(list_arts,'Arts',inplace=True)"
   ]
  },
  {
   "cell_type": "code",
   "execution_count": 82,
   "metadata": {},
   "outputs": [],
   "source": [
    "df['STDNT_MAJOR'].replace(list_business,'Business',inplace=True)"
   ]
  },
  {
   "cell_type": "code",
   "execution_count": 83,
   "metadata": {},
   "outputs": [],
   "source": [
    "df['STDNT_MAJOR'].replace(list_nursing,'Nursing',inplace=True)"
   ]
  },
  {
   "cell_type": "code",
   "execution_count": 84,
   "metadata": {},
   "outputs": [
    {
     "data": {
      "text/plain": [
       "Science                          733\n",
       "Arts                             684\n",
       "Undeclared                       460\n",
       "Education                        435\n",
       "Business                         427\n",
       "Nursing                          341\n",
       "Other                            280\n",
       "Sociology                         20\n",
       "Health and Physical Education     20\n",
       "Name: STDNT_MAJOR, dtype: int64"
      ]
     },
     "execution_count": 84,
     "metadata": {},
     "output_type": "execute_result"
    }
   ],
   "source": [
    "df['STDNT_MAJOR'].value_counts()"
   ]
  },
  {
   "cell_type": "code",
   "execution_count": 85,
   "metadata": {},
   "outputs": [
    {
     "data": {
      "text/html": [
       "<div>\n",
       "<style scoped>\n",
       "    .dataframe tbody tr th:only-of-type {\n",
       "        vertical-align: middle;\n",
       "    }\n",
       "\n",
       "    .dataframe tbody tr th {\n",
       "        vertical-align: top;\n",
       "    }\n",
       "\n",
       "    .dataframe thead th {\n",
       "        text-align: right;\n",
       "    }\n",
       "</style>\n",
       "<table border=\"1\" class=\"dataframe\">\n",
       "  <thead>\n",
       "    <tr style=\"text-align: right;\">\n",
       "      <th>RETURNED_2ND_YR</th>\n",
       "      <th>0</th>\n",
       "      <th>1</th>\n",
       "    </tr>\n",
       "    <tr>\n",
       "      <th>STDNT_MAJOR</th>\n",
       "      <th></th>\n",
       "      <th></th>\n",
       "    </tr>\n",
       "  </thead>\n",
       "  <tbody>\n",
       "    <tr>\n",
       "      <th>Arts</th>\n",
       "      <td>105</td>\n",
       "      <td>579</td>\n",
       "    </tr>\n",
       "    <tr>\n",
       "      <th>Business</th>\n",
       "      <td>94</td>\n",
       "      <td>333</td>\n",
       "    </tr>\n",
       "    <tr>\n",
       "      <th>Education</th>\n",
       "      <td>99</td>\n",
       "      <td>336</td>\n",
       "    </tr>\n",
       "    <tr>\n",
       "      <th>Health and Physical Education</th>\n",
       "      <td>5</td>\n",
       "      <td>15</td>\n",
       "    </tr>\n",
       "    <tr>\n",
       "      <th>Nursing</th>\n",
       "      <td>84</td>\n",
       "      <td>257</td>\n",
       "    </tr>\n",
       "    <tr>\n",
       "      <th>Other</th>\n",
       "      <td>63</td>\n",
       "      <td>217</td>\n",
       "    </tr>\n",
       "    <tr>\n",
       "      <th>Science</th>\n",
       "      <td>158</td>\n",
       "      <td>575</td>\n",
       "    </tr>\n",
       "    <tr>\n",
       "      <th>Sociology</th>\n",
       "      <td>4</td>\n",
       "      <td>16</td>\n",
       "    </tr>\n",
       "    <tr>\n",
       "      <th>Undeclared</th>\n",
       "      <td>111</td>\n",
       "      <td>349</td>\n",
       "    </tr>\n",
       "  </tbody>\n",
       "</table>\n",
       "</div>"
      ],
      "text/plain": [
       "RETURNED_2ND_YR                  0    1\n",
       "STDNT_MAJOR                            \n",
       "Arts                           105  579\n",
       "Business                        94  333\n",
       "Education                       99  336\n",
       "Health and Physical Education    5   15\n",
       "Nursing                         84  257\n",
       "Other                           63  217\n",
       "Science                        158  575\n",
       "Sociology                        4   16\n",
       "Undeclared                     111  349"
      ]
     },
     "execution_count": 85,
     "metadata": {},
     "output_type": "execute_result"
    }
   ],
   "source": [
    "pd.crosstab(df.STDNT_MAJOR,df.RETURNED_2ND_YR)"
   ]
  },
  {
   "cell_type": "markdown",
   "metadata": {},
   "source": [
    "# STDNT_MINOR"
   ]
  },
  {
   "cell_type": "code",
   "execution_count": 86,
   "metadata": {},
   "outputs": [
    {
     "data": {
      "text/plain": [
       "count     3400\n",
       "unique      37\n",
       "top          N\n",
       "freq      3160\n",
       "Name: STDNT_MINOR, dtype: object"
      ]
     },
     "execution_count": 86,
     "metadata": {},
     "output_type": "execute_result"
    }
   ],
   "source": [
    "df['STDNT_MINOR'].describe()"
   ]
  },
  {
   "cell_type": "code",
   "execution_count": 87,
   "metadata": {},
   "outputs": [],
   "source": [
    "minor_perc=df['STDNT_MINOR'].value_counts()"
   ]
  },
  {
   "cell_type": "code",
   "execution_count": 88,
   "metadata": {},
   "outputs": [
    {
     "data": {
      "text/plain": [
       "N                               92.940\n",
       "Spanish                          0.760\n",
       "Psychology                       0.560\n",
       "Music                            0.560\n",
       "Foundations of Business          0.440\n",
       "Communication                    0.410\n",
       "History                          0.380\n",
       "Criminal Justice                 0.350\n",
       "Theatre Arts                     0.350\n",
       "Computer Science - Systems       0.290\n",
       "Early Childhood Education        0.260\n",
       "Mathematics                      0.210\n",
       "Marketing                        0.180\n",
       "Professional Writing             0.180\n",
       "Art History                      0.180\n",
       "English Language/Literature      0.150\n",
       "Sociology                        0.150\n",
       "Art                              0.150\n",
       "Accounting                       0.120\n",
       "Biology                          0.120\n",
       "Political Science                0.120\n",
       "Chemistry                        0.120\n",
       "French                           0.120\n",
       "Exercise Science                 0.090\n",
       "Economics                        0.090\n",
       "Health Science                   0.090\n",
       "Computer Info. Management        0.090\n",
       "International Business           0.090\n",
       "Anthropology                     0.060\n",
       "Creative Writing                 0.060\n",
       "Management                       0.060\n",
       "Philosophy                       0.060\n",
       "Asian Studies                    0.060\n",
       "Military Sci & Adv Leadership    0.060\n",
       "African Studies                  0.060\n",
       "Women's Studies                  0.030\n",
       "Finance                          0.030\n",
       "Name: STDNT_MINOR, dtype: float64"
      ]
     },
     "execution_count": 88,
     "metadata": {},
     "output_type": "execute_result"
    }
   ],
   "source": [
    "round(minor_perc/3400*100,2)"
   ]
  },
  {
   "cell_type": "markdown",
   "metadata": {},
   "source": [
    "Student minor has more than 90% missing values . So dropping it ."
   ]
  },
  {
   "cell_type": "markdown",
   "metadata": {},
   "source": [
    "# STDNT_TEST_ENTRANCE1"
   ]
  },
  {
   "cell_type": "code",
   "execution_count": 89,
   "metadata": {},
   "outputs": [
    {
     "data": {
      "text/plain": [
       "67.47058823529412"
      ]
     },
     "execution_count": 89,
     "metadata": {},
     "output_type": "execute_result"
    }
   ],
   "source": [
    "missing_perc= df['STDNT_TEST_ENTRANCE1'].isnull().sum()/df.shape[0] *100\n",
    "missing_perc"
   ]
  },
  {
   "cell_type": "markdown",
   "metadata": {},
   "source": [
    "# STDNT_TEST_ENTRANCE2"
   ]
  },
  {
   "cell_type": "code",
   "execution_count": 90,
   "metadata": {},
   "outputs": [
    {
     "data": {
      "text/plain": [
       "26.705882352941174"
      ]
     },
     "execution_count": 90,
     "metadata": {},
     "output_type": "execute_result"
    }
   ],
   "source": [
    "missing_perc= df['STDNT_TEST_ENTRANCE2'].isnull().sum()/df.shape[0] *100\n",
    "missing_perc"
   ]
  },
  {
   "cell_type": "code",
   "execution_count": 91,
   "metadata": {},
   "outputs": [
    {
     "data": {
      "text/plain": [
       "nan         908\n",
       "970.000      81\n",
       "1010.000     80\n",
       "1030.000     77\n",
       "940.000      74\n",
       "           ... \n",
       "1420.000      1\n",
       "670.000       1\n",
       "350.000       1\n",
       "1410.000      1\n",
       "710.000       1\n",
       "Name: STDNT_TEST_ENTRANCE2, Length: 110, dtype: int64"
      ]
     },
     "execution_count": 91,
     "metadata": {},
     "output_type": "execute_result"
    }
   ],
   "source": [
    "df['STDNT_TEST_ENTRANCE2'].value_counts(dropna=False)"
   ]
  },
  {
   "cell_type": "markdown",
   "metadata": {},
   "source": [
    "# STDNT_TEST_ENTRANCE_COMB"
   ]
  },
  {
   "cell_type": "code",
   "execution_count": 92,
   "metadata": {},
   "outputs": [
    {
     "data": {
      "text/plain": [
       "nan         518\n",
       "950.000     382\n",
       "990.000     352\n",
       "910.000     309\n",
       "1030.000    268\n",
       "870.000     238\n",
       "1070.000    234\n",
       "1110.000    212\n",
       "1150.000    159\n",
       "1190.000    139\n",
       "830.000     128\n",
       "1220.000    107\n",
       "1260.000     68\n",
       "530.000      51\n",
       "590.000      48\n",
       "790.000      48\n",
       "1300.000     35\n",
       "740.000      25\n",
       "640.000      23\n",
       "1340.000     22\n",
       "1380.000     17\n",
       "690.000       8\n",
       "1420.000      6\n",
       "1510.000      2\n",
       "1460.000      1\n",
       "Name: STDNT_TEST_ENTRANCE_COMB, dtype: int64"
      ]
     },
     "execution_count": 92,
     "metadata": {},
     "output_type": "execute_result"
    }
   ],
   "source": [
    "df['STDNT_TEST_ENTRANCE_COMB'].value_counts(dropna=False)"
   ]
  },
  {
   "cell_type": "code",
   "execution_count": 93,
   "metadata": {},
   "outputs": [
    {
     "data": {
      "text/plain": [
       "998"
      ]
     },
     "execution_count": 93,
     "metadata": {},
     "output_type": "execute_result"
    }
   ],
   "source": [
    "# Filling the missing values in STDNT_TEST_ENTRANCE_COMB column\n",
    "mean_comb=round(df['STDNT_TEST_ENTRANCE_COMB'].mean())\n",
    "mean_comb"
   ]
  },
  {
   "cell_type": "code",
   "execution_count": 94,
   "metadata": {},
   "outputs": [],
   "source": [
    "df['STDNT_TEST_ENTRANCE_COMB'].fillna(mean_comb,inplace=True)"
   ]
  },
  {
   "cell_type": "code",
   "execution_count": 95,
   "metadata": {},
   "outputs": [],
   "source": [
    "entrance_comb_perc=df['STDNT_TEST_ENTRANCE_COMB'].value_counts(dropna=False)"
   ]
  },
  {
   "cell_type": "code",
   "execution_count": 96,
   "metadata": {},
   "outputs": [
    {
     "data": {
      "text/plain": [
       "998.000    15.240\n",
       "950.000    11.240\n",
       "990.000    10.350\n",
       "910.000     9.090\n",
       "1030.000    7.880\n",
       "870.000     7.000\n",
       "1070.000    6.880\n",
       "1110.000    6.240\n",
       "1150.000    4.680\n",
       "1190.000    4.090\n",
       "830.000     3.760\n",
       "1220.000    3.150\n",
       "1260.000    2.000\n",
       "530.000     1.500\n",
       "590.000     1.410\n",
       "790.000     1.410\n",
       "1300.000    1.030\n",
       "740.000     0.740\n",
       "640.000     0.680\n",
       "1340.000    0.650\n",
       "1380.000    0.500\n",
       "690.000     0.240\n",
       "1420.000    0.180\n",
       "1510.000    0.060\n",
       "1460.000    0.030\n",
       "Name: STDNT_TEST_ENTRANCE_COMB, dtype: float64"
      ]
     },
     "execution_count": 96,
     "metadata": {},
     "output_type": "execute_result"
    }
   ],
   "source": [
    "round(entrance_comb_perc/3400*100,2)"
   ]
  },
  {
   "cell_type": "markdown",
   "metadata": {},
   "source": [
    "Information can be taken from Entrance score combination .\n",
    "So dropping Entrance Test 1 and Entrance Test 2 columns"
   ]
  },
  {
   "cell_type": "markdown",
   "metadata": {},
   "source": [
    "# Course name and Course grade"
   ]
  },
  {
   "cell_type": "code",
   "execution_count": 97,
   "metadata": {},
   "outputs": [
    {
     "data": {
      "text/plain": [
       "STUDENT_IDENTIFIER          0.000\n",
       "STDNT_AGE                   0.000\n",
       "STDNT_GENDER                0.000\n",
       "STDNT_BACKGROUND            0.000\n",
       "IN_STATE_FLAG               0.000\n",
       "INTERNATIONAL_STS           0.000\n",
       "STDNT_MAJOR                 0.000\n",
       "STDNT_MINOR                 0.000\n",
       "STDNT_TEST_ENTRANCE1       67.471\n",
       "STDNT_TEST_ENTRANCE2       26.706\n",
       "STDNT_TEST_ENTRANCE_COMB    0.000\n",
       "FIRST_TERM                  0.000\n",
       "CORE_COURSE_NAME_1_F        0.000\n",
       "CORE_COURSE_GRADE_1_F       0.000\n",
       "CORE_COURSE_NAME_2_F        2.912\n",
       "CORE_COURSE_GRADE_2_F       2.912\n",
       "CORE_COURSE_NAME_3_F       16.618\n",
       "CORE_COURSE_GRADE_3_F      16.618\n",
       "CORE_COURSE_NAME_4_F       46.971\n",
       "CORE_COURSE_GRADE_4_F      46.971\n",
       "CORE_COURSE_NAME_5_F       81.029\n",
       "CORE_COURSE_GRADE_5_F      81.029\n",
       "CORE_COURSE_NAME_6_F       96.235\n",
       "CORE_COURSE_GRADE_6_F      96.235\n",
       "SECOND_TERM                 0.000\n",
       "CORE_COURSE_NAME_1_S        4.618\n",
       "CORE_COURSE_GRADE_1_S       6.824\n",
       "CORE_COURSE_NAME_2_S       12.912\n",
       "CORE_COURSE_GRADE_2_S      12.912\n",
       "CORE_COURSE_NAME_3_S       30.529\n",
       "CORE_COURSE_GRADE_3_S      30.529\n",
       "CORE_COURSE_NAME_4_S       60.147\n",
       "CORE_COURSE_GRADE_4_S      60.147\n",
       "CORE_COURSE_NAME_5_S       86.765\n",
       "CORE_COURSE_GRADE_5_S      86.765\n",
       "CORE_COURSE_NAME_6_S       97.618\n",
       "CORE_COURSE_GRADE_6_S      97.618\n",
       "HOUSING_STS                 0.000\n",
       "RETURNED_2ND_YR             0.000\n",
       "DISTANCE_FROM_HOME          0.735\n",
       "HIGH_SCHL_GPA               1.559\n",
       "HIGH_SCHL_NAME              0.029\n",
       "FATHER_HI_EDU_CD           12.706\n",
       "FATHER_HI_EDU_DESC          0.000\n",
       "MOTHER_HI_EDU_CD           14.382\n",
       "MOTHER_HI_EDU_DESC          0.000\n",
       "DEGREE_GROUP_CD             0.000\n",
       "DEGREE_GROUP_DESC           0.000\n",
       "FIRST_TERM_ATTEMPT_HRS      0.000\n",
       "FIRST_TERM_EARNED_HRS       0.000\n",
       "SECOND_TERM_ATTEMPT_HRS     6.059\n",
       "SECOND_TERM_EARNED_HRS      6.147\n",
       "GROSS_FIN_NEED              0.000\n",
       "COST_OF_ATTEND              0.000\n",
       "EST_FAM_CONTRIBUTION        0.000\n",
       "UNMET_NEED                  0.000\n",
       "dtype: float64"
      ]
     },
     "execution_count": 97,
     "metadata": {},
     "output_type": "execute_result"
    }
   ],
   "source": [
    "missing_perc= df.isnull().sum()/df.shape[0] *100\n",
    "missing_perc"
   ]
  },
  {
   "cell_type": "markdown",
   "metadata": {},
   "source": [
    "Majority columns of courses and grades have large percentage of missing values.\n",
    "So dropping all of them"
   ]
  },
  {
   "cell_type": "markdown",
   "metadata": {},
   "source": [
    "# DISTANCE_FROM_HOME"
   ]
  },
  {
   "cell_type": "code",
   "execution_count": 98,
   "metadata": {},
   "outputs": [
    {
     "data": {
      "text/plain": [
       "25"
      ]
     },
     "execution_count": 98,
     "metadata": {},
     "output_type": "execute_result"
    }
   ],
   "source": [
    "df['DISTANCE_FROM_HOME'].isnull().sum()"
   ]
  },
  {
   "cell_type": "code",
   "execution_count": 99,
   "metadata": {},
   "outputs": [
    {
     "data": {
      "text/plain": [
       "69.000      1402\n",
       "0.000        671\n",
       "150.000      497\n",
       "90.000       248\n",
       "138.000      227\n",
       "59.000        53\n",
       "nan           25\n",
       "181.000       24\n",
       "188.000       24\n",
       "190.000       22\n",
       "235.000       20\n",
       "91.000        18\n",
       "176.000       15\n",
       "137.000       14\n",
       "215.000       13\n",
       "136.000       12\n",
       "117.000       11\n",
       "222.000       10\n",
       "237.000        9\n",
       "666.000        6\n",
       "208.000        5\n",
       "246.000        4\n",
       "275.000        4\n",
       "299.000        4\n",
       "5932.000       3\n",
       "270.000        3\n",
       "513.000        2\n",
       "661.000        2\n",
       "997.000        2\n",
       "398.000        2\n",
       "301.000        2\n",
       "711.000        2\n",
       "871.000        2\n",
       "4501.000       2\n",
       "283.000        2\n",
       "703.000        2\n",
       "722.000        1\n",
       "614.000        1\n",
       "382.000        1\n",
       "556.000        1\n",
       "1854.000       1\n",
       "1161.000       1\n",
       "355.000        1\n",
       "366.000        1\n",
       "786.000        1\n",
       "1216.000       1\n",
       "310.000        1\n",
       "2221.000       1\n",
       "778.000        1\n",
       "1222.000       1\n",
       "1735.000       1\n",
       "330.000        1\n",
       "2203.000       1\n",
       "919.000        1\n",
       "421.000        1\n",
       "225.000        1\n",
       "1078.000       1\n",
       "477.000        1\n",
       "528.000        1\n",
       "274.000        1\n",
       "1001.000       1\n",
       "517.000        1\n",
       "609.000        1\n",
       "769.000        1\n",
       "694.000        1\n",
       "1270.000       1\n",
       "316.000        1\n",
       "151.000        1\n",
       "403.000        1\n",
       "441.000        1\n",
       "572.000        1\n",
       "574.000        1\n",
       "Name: DISTANCE_FROM_HOME, dtype: int64"
      ]
     },
     "execution_count": 99,
     "metadata": {},
     "output_type": "execute_result"
    }
   ],
   "source": [
    "df['DISTANCE_FROM_HOME'].value_counts(dropna=False)"
   ]
  },
  {
   "cell_type": "code",
   "execution_count": 100,
   "metadata": {},
   "outputs": [
    {
     "data": {
      "text/plain": [
       "count   3375.000\n",
       "mean      99.825\n",
       "std      235.197\n",
       "min        0.000\n",
       "25%       69.000\n",
       "50%       69.000\n",
       "75%      138.000\n",
       "max     5932.000\n",
       "Name: DISTANCE_FROM_HOME, dtype: float64"
      ]
     },
     "execution_count": 100,
     "metadata": {},
     "output_type": "execute_result"
    }
   ],
   "source": [
    "df['DISTANCE_FROM_HOME'].describe()"
   ]
  },
  {
   "cell_type": "code",
   "execution_count": 101,
   "metadata": {},
   "outputs": [],
   "source": [
    "DIST_perc=df['DISTANCE_FROM_HOME'].value_counts()"
   ]
  },
  {
   "cell_type": "code",
   "execution_count": 102,
   "metadata": {},
   "outputs": [
    {
     "data": {
      "text/plain": [
       "69.000     41.240\n",
       "0.000      19.740\n",
       "150.000    14.620\n",
       "90.000      7.290\n",
       "138.000     6.680\n",
       "59.000      1.560\n",
       "188.000     0.710\n",
       "181.000     0.710\n",
       "190.000     0.650\n",
       "235.000     0.590\n",
       "91.000      0.530\n",
       "176.000     0.440\n",
       "137.000     0.410\n",
       "215.000     0.380\n",
       "136.000     0.350\n",
       "117.000     0.320\n",
       "222.000     0.290\n",
       "237.000     0.260\n",
       "666.000     0.180\n",
       "208.000     0.150\n",
       "275.000     0.120\n",
       "299.000     0.120\n",
       "246.000     0.120\n",
       "5932.000    0.090\n",
       "270.000     0.090\n",
       "283.000     0.060\n",
       "513.000     0.060\n",
       "711.000     0.060\n",
       "398.000     0.060\n",
       "997.000     0.060\n",
       "301.000     0.060\n",
       "661.000     0.060\n",
       "871.000     0.060\n",
       "4501.000    0.060\n",
       "703.000     0.060\n",
       "355.000     0.030\n",
       "614.000     0.030\n",
       "382.000     0.030\n",
       "556.000     0.030\n",
       "1854.000    0.030\n",
       "310.000     0.030\n",
       "1161.000    0.030\n",
       "919.000     0.030\n",
       "786.000     0.030\n",
       "366.000     0.030\n",
       "1216.000    0.030\n",
       "2221.000    0.030\n",
       "778.000     0.030\n",
       "1222.000    0.030\n",
       "1735.000    0.030\n",
       "330.000     0.030\n",
       "722.000     0.030\n",
       "2203.000    0.030\n",
       "421.000     0.030\n",
       "225.000     0.030\n",
       "477.000     0.030\n",
       "574.000     0.030\n",
       "528.000     0.030\n",
       "1001.000    0.030\n",
       "274.000     0.030\n",
       "517.000     0.030\n",
       "694.000     0.030\n",
       "609.000     0.030\n",
       "769.000     0.030\n",
       "1270.000    0.030\n",
       "441.000     0.030\n",
       "316.000     0.030\n",
       "151.000     0.030\n",
       "403.000     0.030\n",
       "572.000     0.030\n",
       "1078.000    0.030\n",
       "Name: DISTANCE_FROM_HOME, dtype: float64"
      ]
     },
     "execution_count": 102,
     "metadata": {},
     "output_type": "execute_result"
    }
   ],
   "source": [
    "round(DIST_perc/3400*100,2)"
   ]
  },
  {
   "cell_type": "markdown",
   "metadata": {},
   "source": [
    "# HIGH_SCHL_GPA"
   ]
  },
  {
   "cell_type": "code",
   "execution_count": 103,
   "metadata": {},
   "outputs": [
    {
     "data": {
      "text/plain": [
       "53"
      ]
     },
     "execution_count": 103,
     "metadata": {},
     "output_type": "execute_result"
    }
   ],
   "source": [
    "df['HIGH_SCHL_GPA'].isnull().sum()"
   ]
  },
  {
   "cell_type": "code",
   "execution_count": 104,
   "metadata": {},
   "outputs": [
    {
     "data": {
      "text/plain": [
       "3.000    146\n",
       "4.000    124\n",
       "3.500     88\n",
       "2.930     73\n",
       "3.130     71\n",
       "        ... \n",
       "2.340      1\n",
       "2.150      1\n",
       "2.687      1\n",
       "2.923      1\n",
       "2.280      1\n",
       "Name: HIGH_SCHL_GPA, Length: 201, dtype: int64"
      ]
     },
     "execution_count": 104,
     "metadata": {},
     "output_type": "execute_result"
    }
   ],
   "source": [
    "df['HIGH_SCHL_GPA'].value_counts(dropna=False)"
   ]
  },
  {
   "cell_type": "code",
   "execution_count": 105,
   "metadata": {},
   "outputs": [
    {
     "data": {
      "text/plain": [
       "count   3347.000\n",
       "mean       3.203\n",
       "std        0.455\n",
       "min        0.000\n",
       "25%        2.870\n",
       "50%        3.200\n",
       "75%        3.560\n",
       "max        4.000\n",
       "Name: HIGH_SCHL_GPA, dtype: float64"
      ]
     },
     "execution_count": 105,
     "metadata": {},
     "output_type": "execute_result"
    }
   ],
   "source": [
    "df['HIGH_SCHL_GPA'].describe()"
   ]
  },
  {
   "cell_type": "code",
   "execution_count": 106,
   "metadata": {},
   "outputs": [
    {
     "data": {
      "text/plain": [
       "3.000    146\n",
       "4.000    124\n",
       "3.500     88\n",
       "2.930     73\n",
       "3.130     71\n",
       "        ... \n",
       "3.938      1\n",
       "3.438      1\n",
       "3.010      1\n",
       "2.230      1\n",
       "2.340      1\n",
       "Name: HIGH_SCHL_GPA, Length: 200, dtype: int64"
      ]
     },
     "execution_count": 106,
     "metadata": {},
     "output_type": "execute_result"
    }
   ],
   "source": [
    "df['HIGH_SCHL_GPA'].value_counts()"
   ]
  },
  {
   "cell_type": "code",
   "execution_count": 107,
   "metadata": {},
   "outputs": [
    {
     "data": {
      "text/plain": [
       "3"
      ]
     },
     "execution_count": 107,
     "metadata": {},
     "output_type": "execute_result"
    }
   ],
   "source": [
    "mean_gpa=round(df['HIGH_SCHL_GPA'].mean())\n",
    "mean_gpa"
   ]
  },
  {
   "cell_type": "code",
   "execution_count": 108,
   "metadata": {},
   "outputs": [],
   "source": [
    "df['HIGH_SCHL_GPA'].fillna(mean_gpa,inplace=True)"
   ]
  },
  {
   "cell_type": "code",
   "execution_count": 109,
   "metadata": {},
   "outputs": [],
   "source": [
    "GPA_perc=df['HIGH_SCHL_GPA'].value_counts()"
   ]
  },
  {
   "cell_type": "code",
   "execution_count": 110,
   "metadata": {},
   "outputs": [
    {
     "data": {
      "text/plain": [
       "3.000   5.850\n",
       "4.000   3.650\n",
       "3.500   2.590\n",
       "2.930   2.150\n",
       "3.130   2.090\n",
       "         ... \n",
       "3.938   0.030\n",
       "3.438   0.030\n",
       "3.010   0.030\n",
       "2.230   0.030\n",
       "2.340   0.030\n",
       "Name: HIGH_SCHL_GPA, Length: 200, dtype: float64"
      ]
     },
     "execution_count": 110,
     "metadata": {},
     "output_type": "execute_result"
    }
   ],
   "source": [
    "round(GPA_perc/3400*100,2)"
   ]
  },
  {
   "cell_type": "code",
   "execution_count": 111,
   "metadata": {},
   "outputs": [],
   "source": [
    "GPA_returned_perc=df_returned['HIGH_SCHL_GPA'].value_counts()"
   ]
  },
  {
   "cell_type": "code",
   "execution_count": 112,
   "metadata": {},
   "outputs": [
    {
     "data": {
      "text/plain": [
       "4.000   4.070\n",
       "3.000   3.850\n",
       "3.500   2.650\n",
       "3.400   2.200\n",
       "2.930   2.200\n",
       "         ... \n",
       "2.450   0.040\n",
       "3.890   0.040\n",
       "3.510   0.040\n",
       "2.210   0.040\n",
       "1.940   0.040\n",
       "Name: HIGH_SCHL_GPA, Length: 194, dtype: float64"
      ]
     },
     "execution_count": 112,
     "metadata": {},
     "output_type": "execute_result"
    }
   ],
   "source": [
    "round(GPA_returned_perc/2677*100,2)"
   ]
  },
  {
   "cell_type": "code",
   "execution_count": 113,
   "metadata": {},
   "outputs": [
    {
     "data": {
      "text/plain": [
       "<matplotlib.axes._subplots.AxesSubplot at 0x7fc7e0852350>"
      ]
     },
     "execution_count": 113,
     "metadata": {},
     "output_type": "execute_result"
    },
    {
     "data": {
      "image/png": "[encoded data removed]",
      "text/plain": [
       "<Figure size 432x288 with 1 Axes>"
      ]
     },
     "metadata": {
      "needs_background": "light"
     },
     "output_type": "display_data"
    }
   ],
   "source": [
    "sns.scatterplot(x=\"HIGH_SCHL_GPA\", y=\"STDNT_TEST_ENTRANCE_COMB\", data=df)"
   ]
  },
  {
   "cell_type": "markdown",
   "metadata": {},
   "source": [
    "# HIGH_SCHL_NAME"
   ]
  },
  {
   "cell_type": "code",
   "execution_count": 114,
   "metadata": {},
   "outputs": [
    {
     "data": {
      "text/plain": [
       "1"
      ]
     },
     "execution_count": 114,
     "metadata": {},
     "output_type": "execute_result"
    }
   ],
   "source": [
    "df['HIGH_SCHL_NAME'].isnull().sum()"
   ]
  },
  {
   "cell_type": "code",
   "execution_count": 115,
   "metadata": {},
   "outputs": [
    {
     "data": {
      "text/plain": [
       "439"
      ]
     },
     "execution_count": 115,
     "metadata": {},
     "output_type": "execute_result"
    }
   ],
   "source": [
    "df['HIGH_SCHL_NAME'].nunique()"
   ]
  },
  {
   "cell_type": "code",
   "execution_count": 116,
   "metadata": {},
   "outputs": [
    {
     "data": {
      "text/plain": [
       "SCHOOL 11     249\n",
       "SCHOOL 130    245\n",
       "SCHOOL 10     238\n",
       "SCHOOL 1      209\n",
       "SCHOOL 2      129\n",
       "             ... \n",
       "SCHOOL 165      1\n",
       "SCHOOL 264      1\n",
       "SCHOOL 524      1\n",
       "SCHOOL 117      1\n",
       "NaN             1\n",
       "Name: HIGH_SCHL_NAME, Length: 440, dtype: int64"
      ]
     },
     "execution_count": 116,
     "metadata": {},
     "output_type": "execute_result"
    }
   ],
   "source": [
    "df['HIGH_SCHL_NAME'].value_counts(dropna=False)"
   ]
  },
  {
   "cell_type": "code",
   "execution_count": 117,
   "metadata": {},
   "outputs": [
    {
     "data": {
      "text/plain": [
       "count          3399\n",
       "unique          439\n",
       "top       SCHOOL 11\n",
       "freq            249\n",
       "Name: HIGH_SCHL_NAME, dtype: object"
      ]
     },
     "execution_count": 117,
     "metadata": {},
     "output_type": "execute_result"
    }
   ],
   "source": [
    "df['HIGH_SCHL_NAME'].describe()"
   ]
  },
  {
   "cell_type": "markdown",
   "metadata": {},
   "source": [
    "High school name does not give any important information , so dropping it"
   ]
  },
  {
   "cell_type": "markdown",
   "metadata": {},
   "source": [
    "# FATHER_HI_EDU_DESC"
   ]
  },
  {
   "cell_type": "code",
   "execution_count": 118,
   "metadata": {},
   "outputs": [
    {
     "data": {
      "text/plain": [
       "0"
      ]
     },
     "execution_count": 118,
     "metadata": {},
     "output_type": "execute_result"
    }
   ],
   "source": [
    "df['FATHER_HI_EDU_DESC'].isnull().sum()"
   ]
  },
  {
   "cell_type": "code",
   "execution_count": 119,
   "metadata": {},
   "outputs": [
    {
     "data": {
      "text/plain": [
       "5"
      ]
     },
     "execution_count": 119,
     "metadata": {},
     "output_type": "execute_result"
    }
   ],
   "source": [
    "df['FATHER_HI_EDU_DESC'].nunique()"
   ]
  },
  {
   "cell_type": "code",
   "execution_count": 120,
   "metadata": {},
   "outputs": [
    {
     "data": {
      "text/plain": [
       "High School                  1336\n",
       "College/Beyond               1309\n",
       "No Information                432\n",
       "Other/Unknown                 226\n",
       "Middle School/Junior High      97\n",
       "Name: FATHER_HI_EDU_DESC, dtype: int64"
      ]
     },
     "execution_count": 120,
     "metadata": {},
     "output_type": "execute_result"
    }
   ],
   "source": [
    "df['FATHER_HI_EDU_DESC'].value_counts(dropna=False)"
   ]
  },
  {
   "cell_type": "code",
   "execution_count": 121,
   "metadata": {},
   "outputs": [
    {
     "data": {
      "text/plain": [
       "count            3400\n",
       "unique              5\n",
       "top       High School\n",
       "freq             1336\n",
       "Name: FATHER_HI_EDU_DESC, dtype: object"
      ]
     },
     "execution_count": 121,
     "metadata": {},
     "output_type": "execute_result"
    }
   ],
   "source": [
    "df['FATHER_HI_EDU_DESC'].describe()"
   ]
  },
  {
   "cell_type": "code",
   "execution_count": 122,
   "metadata": {},
   "outputs": [
    {
     "data": {
      "text/plain": [
       "High School                  1336\n",
       "College/Beyond               1309\n",
       "No Information                432\n",
       "Other/Unknown                 226\n",
       "Middle School/Junior High      97\n",
       "Name: FATHER_HI_EDU_DESC, dtype: int64"
      ]
     },
     "execution_count": 122,
     "metadata": {},
     "output_type": "execute_result"
    }
   ],
   "source": [
    "df['FATHER_HI_EDU_DESC'].value_counts()"
   ]
  },
  {
   "cell_type": "code",
   "execution_count": 123,
   "metadata": {},
   "outputs": [],
   "source": [
    "FA_perc=df['FATHER_HI_EDU_DESC'].value_counts()"
   ]
  },
  {
   "cell_type": "code",
   "execution_count": 124,
   "metadata": {},
   "outputs": [
    {
     "data": {
      "text/plain": [
       "High School                 39.290\n",
       "College/Beyond              38.500\n",
       "No Information              12.710\n",
       "Other/Unknown                6.650\n",
       "Middle School/Junior High    2.850\n",
       "Name: FATHER_HI_EDU_DESC, dtype: float64"
      ]
     },
     "execution_count": 124,
     "metadata": {},
     "output_type": "execute_result"
    }
   ],
   "source": [
    "round(FA_perc/3400*100,2)"
   ]
  },
  {
   "cell_type": "markdown",
   "metadata": {},
   "source": [
    "# MOTHER_HI_EDU_DESC"
   ]
  },
  {
   "cell_type": "code",
   "execution_count": 125,
   "metadata": {},
   "outputs": [
    {
     "data": {
      "text/plain": [
       "0"
      ]
     },
     "execution_count": 125,
     "metadata": {},
     "output_type": "execute_result"
    }
   ],
   "source": [
    "df['MOTHER_HI_EDU_DESC'].isnull().sum()"
   ]
  },
  {
   "cell_type": "code",
   "execution_count": 126,
   "metadata": {},
   "outputs": [
    {
     "data": {
      "text/plain": [
       "5"
      ]
     },
     "execution_count": 126,
     "metadata": {},
     "output_type": "execute_result"
    }
   ],
   "source": [
    "df['MOTHER_HI_EDU_DESC'].nunique()"
   ]
  },
  {
   "cell_type": "code",
   "execution_count": 127,
   "metadata": {},
   "outputs": [
    {
     "data": {
      "text/plain": [
       "College/Beyond               1500\n",
       "High School                  1223\n",
       "No Information                489\n",
       "Other/Unknown                 117\n",
       "Middle School/Junior High      71\n",
       "Name: MOTHER_HI_EDU_DESC, dtype: int64"
      ]
     },
     "execution_count": 127,
     "metadata": {},
     "output_type": "execute_result"
    }
   ],
   "source": [
    "df['MOTHER_HI_EDU_DESC'].value_counts(dropna=False)"
   ]
  },
  {
   "cell_type": "code",
   "execution_count": 128,
   "metadata": {},
   "outputs": [
    {
     "data": {
      "text/plain": [
       "count               3400\n",
       "unique                 5\n",
       "top       College/Beyond\n",
       "freq                1500\n",
       "Name: MOTHER_HI_EDU_DESC, dtype: object"
      ]
     },
     "execution_count": 128,
     "metadata": {},
     "output_type": "execute_result"
    }
   ],
   "source": [
    "df['MOTHER_HI_EDU_DESC'].describe()"
   ]
  },
  {
   "cell_type": "code",
   "execution_count": 129,
   "metadata": {},
   "outputs": [],
   "source": [
    "MOT_perc=df['MOTHER_HI_EDU_DESC'].value_counts()"
   ]
  },
  {
   "cell_type": "code",
   "execution_count": 130,
   "metadata": {},
   "outputs": [
    {
     "data": {
      "text/plain": [
       "College/Beyond              44.120\n",
       "High School                 35.970\n",
       "No Information              14.380\n",
       "Other/Unknown                3.440\n",
       "Middle School/Junior High    2.090\n",
       "Name: MOTHER_HI_EDU_DESC, dtype: float64"
      ]
     },
     "execution_count": 130,
     "metadata": {},
     "output_type": "execute_result"
    }
   ],
   "source": [
    "round(MOT_perc/3400*100,2)"
   ]
  },
  {
   "cell_type": "code",
   "execution_count": 131,
   "metadata": {},
   "outputs": [
    {
     "data": {
      "text/plain": [
       "<seaborn.axisgrid.FacetGrid at 0x7fc7e08d0e50>"
      ]
     },
     "execution_count": 131,
     "metadata": {},
     "output_type": "execute_result"
    },
    {
     "data": {
      "image/png": "[encoded data removed]",
      "text/plain": [
       "<Figure size 540x360 with 1 Axes>"
      ]
     },
     "metadata": {
      "needs_background": "light"
     },
     "output_type": "display_data"
    }
   ],
   "source": [
    "sns.catplot(x=\"FATHER_HI_EDU_DESC\", y=\"EST_FAM_CONTRIBUTION\",aspect=1.5,height=5 ,data=df)"
   ]
  },
  {
   "cell_type": "code",
   "execution_count": 132,
   "metadata": {},
   "outputs": [
    {
     "data": {
      "text/plain": [
       "<seaborn.axisgrid.FacetGrid at 0x7fc7e08abc10>"
      ]
     },
     "execution_count": 132,
     "metadata": {},
     "output_type": "execute_result"
    },
    {
     "data": {
      "image/png": "[encoded data removed]",
      "text/plain": [
       "<Figure size 540x360 with 1 Axes>"
      ]
     },
     "metadata": {
      "needs_background": "light"
     },
     "output_type": "display_data"
    }
   ],
   "source": [
    "sns.catplot(x=\"MOTHER_HI_EDU_DESC\", y=\"EST_FAM_CONTRIBUTION\",aspect=1.5,height=5 ,data=df)"
   ]
  },
  {
   "cell_type": "markdown",
   "metadata": {},
   "source": [
    "# DEGREE_GROUP_DESC"
   ]
  },
  {
   "cell_type": "code",
   "execution_count": 133,
   "metadata": {},
   "outputs": [
    {
     "data": {
      "text/plain": [
       "0"
      ]
     },
     "execution_count": 133,
     "metadata": {},
     "output_type": "execute_result"
    }
   ],
   "source": [
    "df['DEGREE_GROUP_DESC'].isnull().sum()"
   ]
  },
  {
   "cell_type": "code",
   "execution_count": 134,
   "metadata": {},
   "outputs": [
    {
     "data": {
      "text/plain": [
       "3"
      ]
     },
     "execution_count": 134,
     "metadata": {},
     "output_type": "execute_result"
    }
   ],
   "source": [
    "df['DEGREE_GROUP_DESC'].nunique()"
   ]
  },
  {
   "cell_type": "code",
   "execution_count": 135,
   "metadata": {},
   "outputs": [
    {
     "data": {
      "text/plain": [
       "Bachelors           3384\n",
       "Associate             12\n",
       "Career Associate       4\n",
       "Name: DEGREE_GROUP_DESC, dtype: int64"
      ]
     },
     "execution_count": 135,
     "metadata": {},
     "output_type": "execute_result"
    }
   ],
   "source": [
    "df['DEGREE_GROUP_DESC'].value_counts(dropna=False)"
   ]
  },
  {
   "cell_type": "code",
   "execution_count": 136,
   "metadata": {},
   "outputs": [
    {
     "data": {
      "text/plain": [
       "count          3400\n",
       "unique            3\n",
       "top       Bachelors\n",
       "freq           3384\n",
       "Name: DEGREE_GROUP_DESC, dtype: object"
      ]
     },
     "execution_count": 136,
     "metadata": {},
     "output_type": "execute_result"
    }
   ],
   "source": [
    "df['DEGREE_GROUP_DESC'].describe()"
   ]
  },
  {
   "cell_type": "code",
   "execution_count": 137,
   "metadata": {},
   "outputs": [],
   "source": [
    "DEG_perc=df['DEGREE_GROUP_DESC'].value_counts()"
   ]
  },
  {
   "cell_type": "code",
   "execution_count": 138,
   "metadata": {},
   "outputs": [
    {
     "data": {
      "text/plain": [
       "Bachelors          99.530\n",
       "Associate           0.350\n",
       "Career Associate    0.120\n",
       "Name: DEGREE_GROUP_DESC, dtype: float64"
      ]
     },
     "execution_count": 138,
     "metadata": {},
     "output_type": "execute_result"
    }
   ],
   "source": [
    "round(DEG_perc/3400*100,2)"
   ]
  },
  {
   "cell_type": "markdown",
   "metadata": {},
   "source": [
    "# FIRST_TERM_ATTEMPT_HRS"
   ]
  },
  {
   "cell_type": "code",
   "execution_count": 139,
   "metadata": {},
   "outputs": [
    {
     "data": {
      "text/plain": [
       "0"
      ]
     },
     "execution_count": 139,
     "metadata": {},
     "output_type": "execute_result"
    }
   ],
   "source": [
    "df['FIRST_TERM_ATTEMPT_HRS'].isnull().sum()"
   ]
  },
  {
   "cell_type": "code",
   "execution_count": 140,
   "metadata": {},
   "outputs": [
    {
     "data": {
      "text/plain": [
       "12"
      ]
     },
     "execution_count": 140,
     "metadata": {},
     "output_type": "execute_result"
    }
   ],
   "source": [
    "df['FIRST_TERM_ATTEMPT_HRS'].nunique()"
   ]
  },
  {
   "cell_type": "code",
   "execution_count": 141,
   "metadata": {},
   "outputs": [
    {
     "data": {
      "text/plain": [
       "15    798\n",
       "13    743\n",
       "12    737\n",
       "14    531\n",
       "16    431\n",
       "17    110\n",
       "18     31\n",
       "19     10\n",
       "9       3\n",
       "21      2\n",
       "11      2\n",
       "20      2\n",
       "Name: FIRST_TERM_ATTEMPT_HRS, dtype: int64"
      ]
     },
     "execution_count": 141,
     "metadata": {},
     "output_type": "execute_result"
    }
   ],
   "source": [
    "df['FIRST_TERM_ATTEMPT_HRS'].value_counts(dropna=False)"
   ]
  },
  {
   "cell_type": "code",
   "execution_count": 142,
   "metadata": {},
   "outputs": [
    {
     "data": {
      "text/plain": [
       "count   3400.000\n",
       "mean      13.986\n",
       "std        1.554\n",
       "min        9.000\n",
       "25%       13.000\n",
       "50%       14.000\n",
       "75%       15.000\n",
       "max       21.000\n",
       "Name: FIRST_TERM_ATTEMPT_HRS, dtype: float64"
      ]
     },
     "execution_count": 142,
     "metadata": {},
     "output_type": "execute_result"
    }
   ],
   "source": [
    "df['FIRST_TERM_ATTEMPT_HRS'].describe()"
   ]
  },
  {
   "cell_type": "markdown",
   "metadata": {},
   "source": [
    "# FIRST_TERM_EARNED_HRS"
   ]
  },
  {
   "cell_type": "code",
   "execution_count": 143,
   "metadata": {},
   "outputs": [
    {
     "data": {
      "text/plain": [
       "0"
      ]
     },
     "execution_count": 143,
     "metadata": {},
     "output_type": "execute_result"
    }
   ],
   "source": [
    "df['FIRST_TERM_EARNED_HRS'].isnull().sum()"
   ]
  },
  {
   "cell_type": "code",
   "execution_count": 144,
   "metadata": {},
   "outputs": [
    {
     "data": {
      "text/plain": [
       "22"
      ]
     },
     "execution_count": 144,
     "metadata": {},
     "output_type": "execute_result"
    }
   ],
   "source": [
    "df['FIRST_TERM_EARNED_HRS'].nunique()"
   ]
  },
  {
   "cell_type": "code",
   "execution_count": 145,
   "metadata": {},
   "outputs": [
    {
     "data": {
      "text/plain": [
       "12    685\n",
       "15    532\n",
       "13    527\n",
       "14    323\n",
       "9     286\n",
       "16    252\n",
       "10    212\n",
       "11    158\n",
       "6      97\n",
       "8      93\n",
       "7      73\n",
       "17     50\n",
       "3      34\n",
       "4      18\n",
       "18     17\n",
       "5      12\n",
       "0       8\n",
       "19      8\n",
       "2       7\n",
       "1       5\n",
       "21      2\n",
       "20      1\n",
       "Name: FIRST_TERM_EARNED_HRS, dtype: int64"
      ]
     },
     "execution_count": 145,
     "metadata": {},
     "output_type": "execute_result"
    }
   ],
   "source": [
    "df['FIRST_TERM_EARNED_HRS'].value_counts(dropna=False)"
   ]
  },
  {
   "cell_type": "code",
   "execution_count": 146,
   "metadata": {},
   "outputs": [
    {
     "data": {
      "text/plain": [
       "count   3400.000\n",
       "mean      12.205\n",
       "std        2.986\n",
       "min        0.000\n",
       "25%       11.000\n",
       "50%       13.000\n",
       "75%       15.000\n",
       "max       21.000\n",
       "Name: FIRST_TERM_EARNED_HRS, dtype: float64"
      ]
     },
     "execution_count": 146,
     "metadata": {},
     "output_type": "execute_result"
    }
   ],
   "source": [
    "df['FIRST_TERM_EARNED_HRS'].describe()"
   ]
  },
  {
   "cell_type": "markdown",
   "metadata": {},
   "source": [
    "# SECOND_TERM_ATTEMPT_HRS"
   ]
  },
  {
   "cell_type": "code",
   "execution_count": 147,
   "metadata": {},
   "outputs": [
    {
     "data": {
      "text/plain": [
       "206"
      ]
     },
     "execution_count": 147,
     "metadata": {},
     "output_type": "execute_result"
    }
   ],
   "source": [
    "df['SECOND_TERM_ATTEMPT_HRS'].isnull().sum()"
   ]
  },
  {
   "cell_type": "code",
   "execution_count": 148,
   "metadata": {},
   "outputs": [
    {
     "data": {
      "text/plain": [
       "12.000    609\n",
       "15.000    609\n",
       "13.000    571\n",
       "16.000    487\n",
       "14.000    424\n",
       "nan       206\n",
       "17.000    205\n",
       "18.000    119\n",
       "19.000     73\n",
       "9.000      21\n",
       "10.000     20\n",
       "11.000     19\n",
       "20.000     10\n",
       "7.000       9\n",
       "6.000       4\n",
       "3.000       3\n",
       "8.000       3\n",
       "4.000       3\n",
       "23.000      2\n",
       "21.000      1\n",
       "22.000      1\n",
       "2.000       1\n",
       "Name: SECOND_TERM_ATTEMPT_HRS, dtype: int64"
      ]
     },
     "execution_count": 148,
     "metadata": {},
     "output_type": "execute_result"
    }
   ],
   "source": [
    "df['SECOND_TERM_ATTEMPT_HRS'].value_counts(dropna=False)"
   ]
  },
  {
   "cell_type": "markdown",
   "metadata": {},
   "source": [
    "# SECOND_TERM_EARNED_HRS"
   ]
  },
  {
   "cell_type": "code",
   "execution_count": 149,
   "metadata": {},
   "outputs": [
    {
     "data": {
      "text/plain": [
       "209"
      ]
     },
     "execution_count": 149,
     "metadata": {},
     "output_type": "execute_result"
    }
   ],
   "source": [
    "df['SECOND_TERM_EARNED_HRS'].isnull().sum()"
   ]
  },
  {
   "cell_type": "code",
   "execution_count": 150,
   "metadata": {},
   "outputs": [
    {
     "data": {
      "text/plain": [
       "23"
      ]
     },
     "execution_count": 150,
     "metadata": {},
     "output_type": "execute_result"
    }
   ],
   "source": [
    "df['SECOND_TERM_EARNED_HRS'].nunique()"
   ]
  },
  {
   "cell_type": "code",
   "execution_count": 151,
   "metadata": {},
   "outputs": [
    {
     "data": {
      "text/plain": [
       "12.000    565\n",
       "13.000    440\n",
       "15.000    438\n",
       "16.000    316\n",
       "14.000    308\n",
       "9.000     240\n",
       "nan       209\n",
       "10.000    168\n",
       "17.000    130\n",
       "11.000    115\n",
       "6.000      94\n",
       "18.000     84\n",
       "8.000      60\n",
       "7.000      59\n",
       "3.000      57\n",
       "19.000     31\n",
       "4.000      25\n",
       "0.000      20\n",
       "5.000      19\n",
       "20.000      8\n",
       "2.000       8\n",
       "1.000       3\n",
       "23.000      2\n",
       "21.000      1\n",
       "Name: SECOND_TERM_EARNED_HRS, dtype: int64"
      ]
     },
     "execution_count": 151,
     "metadata": {},
     "output_type": "execute_result"
    }
   ],
   "source": [
    "df['SECOND_TERM_EARNED_HRS'].value_counts(dropna=False)"
   ]
  },
  {
   "cell_type": "code",
   "execution_count": 152,
   "metadata": {},
   "outputs": [
    {
     "data": {
      "text/plain": [
       "count   3191.000\n",
       "mean      12.511\n",
       "std        3.470\n",
       "min        0.000\n",
       "25%       11.000\n",
       "50%       13.000\n",
       "75%       15.000\n",
       "max       23.000\n",
       "Name: SECOND_TERM_EARNED_HRS, dtype: float64"
      ]
     },
     "execution_count": 152,
     "metadata": {},
     "output_type": "execute_result"
    }
   ],
   "source": [
    "df['SECOND_TERM_EARNED_HRS'].describe()"
   ]
  },
  {
   "cell_type": "code",
   "execution_count": 153,
   "metadata": {},
   "outputs": [
    {
     "data": {
      "text/html": [
       "<div>\n",
       "<style scoped>\n",
       "    .dataframe tbody tr th:only-of-type {\n",
       "        vertical-align: middle;\n",
       "    }\n",
       "\n",
       "    .dataframe tbody tr th {\n",
       "        vertical-align: top;\n",
       "    }\n",
       "\n",
       "    .dataframe thead th {\n",
       "        text-align: right;\n",
       "    }\n",
       "</style>\n",
       "<table border=\"1\" class=\"dataframe\">\n",
       "  <thead>\n",
       "    <tr style=\"text-align: right;\">\n",
       "      <th></th>\n",
       "      <th>STUDENT_IDENTIFIER</th>\n",
       "      <th>STDNT_AGE</th>\n",
       "      <th>STDNT_GENDER</th>\n",
       "      <th>STDNT_BACKGROUND</th>\n",
       "      <th>IN_STATE_FLAG</th>\n",
       "      <th>INTERNATIONAL_STS</th>\n",
       "      <th>STDNT_MAJOR</th>\n",
       "      <th>STDNT_MINOR</th>\n",
       "      <th>STDNT_TEST_ENTRANCE1</th>\n",
       "      <th>STDNT_TEST_ENTRANCE2</th>\n",
       "      <th>STDNT_TEST_ENTRANCE_COMB</th>\n",
       "      <th>FIRST_TERM</th>\n",
       "      <th>CORE_COURSE_NAME_1_F</th>\n",
       "      <th>CORE_COURSE_GRADE_1_F</th>\n",
       "      <th>CORE_COURSE_NAME_2_F</th>\n",
       "      <th>CORE_COURSE_GRADE_2_F</th>\n",
       "      <th>CORE_COURSE_NAME_3_F</th>\n",
       "      <th>CORE_COURSE_GRADE_3_F</th>\n",
       "      <th>CORE_COURSE_NAME_4_F</th>\n",
       "      <th>CORE_COURSE_GRADE_4_F</th>\n",
       "      <th>CORE_COURSE_NAME_5_F</th>\n",
       "      <th>CORE_COURSE_GRADE_5_F</th>\n",
       "      <th>CORE_COURSE_NAME_6_F</th>\n",
       "      <th>CORE_COURSE_GRADE_6_F</th>\n",
       "      <th>SECOND_TERM</th>\n",
       "      <th>CORE_COURSE_NAME_1_S</th>\n",
       "      <th>CORE_COURSE_GRADE_1_S</th>\n",
       "      <th>CORE_COURSE_NAME_2_S</th>\n",
       "      <th>CORE_COURSE_GRADE_2_S</th>\n",
       "      <th>CORE_COURSE_NAME_3_S</th>\n",
       "      <th>CORE_COURSE_GRADE_3_S</th>\n",
       "      <th>CORE_COURSE_NAME_4_S</th>\n",
       "      <th>CORE_COURSE_GRADE_4_S</th>\n",
       "      <th>CORE_COURSE_NAME_5_S</th>\n",
       "      <th>CORE_COURSE_GRADE_5_S</th>\n",
       "      <th>CORE_COURSE_NAME_6_S</th>\n",
       "      <th>CORE_COURSE_GRADE_6_S</th>\n",
       "      <th>HOUSING_STS</th>\n",
       "      <th>RETURNED_2ND_YR</th>\n",
       "      <th>DISTANCE_FROM_HOME</th>\n",
       "      <th>HIGH_SCHL_GPA</th>\n",
       "      <th>HIGH_SCHL_NAME</th>\n",
       "      <th>FATHER_HI_EDU_CD</th>\n",
       "      <th>FATHER_HI_EDU_DESC</th>\n",
       "      <th>MOTHER_HI_EDU_CD</th>\n",
       "      <th>MOTHER_HI_EDU_DESC</th>\n",
       "      <th>DEGREE_GROUP_CD</th>\n",
       "      <th>DEGREE_GROUP_DESC</th>\n",
       "      <th>FIRST_TERM_ATTEMPT_HRS</th>\n",
       "      <th>FIRST_TERM_EARNED_HRS</th>\n",
       "      <th>SECOND_TERM_ATTEMPT_HRS</th>\n",
       "      <th>SECOND_TERM_EARNED_HRS</th>\n",
       "      <th>GROSS_FIN_NEED</th>\n",
       "      <th>COST_OF_ATTEND</th>\n",
       "      <th>EST_FAM_CONTRIBUTION</th>\n",
       "      <th>UNMET_NEED</th>\n",
       "    </tr>\n",
       "  </thead>\n",
       "  <tbody>\n",
       "    <tr>\n",
       "      <th>676</th>\n",
       "      <td>7756369</td>\n",
       "      <td>18</td>\n",
       "      <td>F</td>\n",
       "      <td>BGD 3</td>\n",
       "      <td>Y</td>\n",
       "      <td>N</td>\n",
       "      <td>Nursing</td>\n",
       "      <td>N</td>\n",
       "      <td>nan</td>\n",
       "      <td>nan</td>\n",
       "      <td>998.000</td>\n",
       "      <td>200908</td>\n",
       "      <td>ENGL 1101</td>\n",
       "      <td>C</td>\n",
       "      <td>CHEM 1151</td>\n",
       "      <td>A</td>\n",
       "      <td>CHEM 1151L</td>\n",
       "      <td>A</td>\n",
       "      <td>ITDS 2749</td>\n",
       "      <td>A</td>\n",
       "      <td>NaN</td>\n",
       "      <td>NaN</td>\n",
       "      <td>NaN</td>\n",
       "      <td>NaN</td>\n",
       "      <td>201002</td>\n",
       "      <td>ENGL 1102</td>\n",
       "      <td>C</td>\n",
       "      <td>CPSC 1105</td>\n",
       "      <td>A</td>\n",
       "      <td>HIST 2111</td>\n",
       "      <td>A</td>\n",
       "      <td>NaN</td>\n",
       "      <td>NaN</td>\n",
       "      <td>NaN</td>\n",
       "      <td>NaN</td>\n",
       "      <td>NaN</td>\n",
       "      <td>NaN</td>\n",
       "      <td>On Campus</td>\n",
       "      <td>1</td>\n",
       "      <td>90.000</td>\n",
       "      <td>3.400</td>\n",
       "      <td>SCHOOL 29</td>\n",
       "      <td>2.000</td>\n",
       "      <td>High School</td>\n",
       "      <td>2.000</td>\n",
       "      <td>High School</td>\n",
       "      <td>B</td>\n",
       "      <td>Bachelors</td>\n",
       "      <td>13</td>\n",
       "      <td>13</td>\n",
       "      <td>14.000</td>\n",
       "      <td>nan</td>\n",
       "      <td>0</td>\n",
       "      <td>0</td>\n",
       "      <td>0</td>\n",
       "      <td>0.000</td>\n",
       "    </tr>\n",
       "    <tr>\n",
       "      <th>2731</th>\n",
       "      <td>7853483</td>\n",
       "      <td>19</td>\n",
       "      <td>F</td>\n",
       "      <td>BGD 3</td>\n",
       "      <td>Y</td>\n",
       "      <td>N</td>\n",
       "      <td>Science</td>\n",
       "      <td>N</td>\n",
       "      <td>19.000</td>\n",
       "      <td>840.000</td>\n",
       "      <td>910.000</td>\n",
       "      <td>201008</td>\n",
       "      <td>BIOL 1215K</td>\n",
       "      <td>D</td>\n",
       "      <td>ENGL 1101</td>\n",
       "      <td>C</td>\n",
       "      <td>COMM 1110</td>\n",
       "      <td>B</td>\n",
       "      <td>NaN</td>\n",
       "      <td>NaN</td>\n",
       "      <td>NaN</td>\n",
       "      <td>NaN</td>\n",
       "      <td>NaN</td>\n",
       "      <td>NaN</td>\n",
       "      <td>201102</td>\n",
       "      <td>MATH 1111</td>\n",
       "      <td>F</td>\n",
       "      <td>BIOL 1225K</td>\n",
       "      <td>D</td>\n",
       "      <td>ENGL 1102</td>\n",
       "      <td>B</td>\n",
       "      <td>MUSC 1100</td>\n",
       "      <td>B</td>\n",
       "      <td>NaN</td>\n",
       "      <td>NaN</td>\n",
       "      <td>NaN</td>\n",
       "      <td>NaN</td>\n",
       "      <td>On Campus</td>\n",
       "      <td>1</td>\n",
       "      <td>117.000</td>\n",
       "      <td>3.100</td>\n",
       "      <td>SCHOOL 186</td>\n",
       "      <td>2.000</td>\n",
       "      <td>High School</td>\n",
       "      <td>2.000</td>\n",
       "      <td>High School</td>\n",
       "      <td>B</td>\n",
       "      <td>Bachelors</td>\n",
       "      <td>14</td>\n",
       "      <td>6</td>\n",
       "      <td>13.000</td>\n",
       "      <td>nan</td>\n",
       "      <td>0</td>\n",
       "      <td>0</td>\n",
       "      <td>0</td>\n",
       "      <td>0.000</td>\n",
       "    </tr>\n",
       "    <tr>\n",
       "      <th>2830</th>\n",
       "      <td>7849592</td>\n",
       "      <td>18</td>\n",
       "      <td>F</td>\n",
       "      <td>BGD 4</td>\n",
       "      <td>Y</td>\n",
       "      <td>N</td>\n",
       "      <td>Nursing</td>\n",
       "      <td>N</td>\n",
       "      <td>19.000</td>\n",
       "      <td>nan</td>\n",
       "      <td>910.000</td>\n",
       "      <td>200908</td>\n",
       "      <td>ENGL 1101</td>\n",
       "      <td>C</td>\n",
       "      <td>CHEM 1151</td>\n",
       "      <td>B</td>\n",
       "      <td>SOCI 1101</td>\n",
       "      <td>B</td>\n",
       "      <td>CHEM 1151L</td>\n",
       "      <td>A</td>\n",
       "      <td>ITDS 2748</td>\n",
       "      <td>A</td>\n",
       "      <td>NaN</td>\n",
       "      <td>NaN</td>\n",
       "      <td>201002</td>\n",
       "      <td>ENGL 1102</td>\n",
       "      <td>F</td>\n",
       "      <td>MATH 1101</td>\n",
       "      <td>F</td>\n",
       "      <td>NaN</td>\n",
       "      <td>NaN</td>\n",
       "      <td>NaN</td>\n",
       "      <td>NaN</td>\n",
       "      <td>NaN</td>\n",
       "      <td>NaN</td>\n",
       "      <td>NaN</td>\n",
       "      <td>NaN</td>\n",
       "      <td>Off Campus</td>\n",
       "      <td>1</td>\n",
       "      <td>0.000</td>\n",
       "      <td>3.530</td>\n",
       "      <td>SCHOOL 395</td>\n",
       "      <td>2.000</td>\n",
       "      <td>High School</td>\n",
       "      <td>3.000</td>\n",
       "      <td>College/Beyond</td>\n",
       "      <td>B</td>\n",
       "      <td>Bachelors</td>\n",
       "      <td>14</td>\n",
       "      <td>14</td>\n",
       "      <td>12.000</td>\n",
       "      <td>nan</td>\n",
       "      <td>1104060</td>\n",
       "      <td>1324500</td>\n",
       "      <td>220440</td>\n",
       "      <td>309360.000</td>\n",
       "    </tr>\n",
       "  </tbody>\n",
       "</table>\n",
       "</div>"
      ],
      "text/plain": [
       "      STUDENT_IDENTIFIER  STDNT_AGE STDNT_GENDER STDNT_BACKGROUND  \\\n",
       "676              7756369         18            F            BGD 3   \n",
       "2731             7853483         19            F            BGD 3   \n",
       "2830             7849592         18            F            BGD 4   \n",
       "\n",
       "     IN_STATE_FLAG INTERNATIONAL_STS STDNT_MAJOR STDNT_MINOR  \\\n",
       "676              Y                 N     Nursing           N   \n",
       "2731             Y                 N     Science           N   \n",
       "2830             Y                 N     Nursing           N   \n",
       "\n",
       "      STDNT_TEST_ENTRANCE1  STDNT_TEST_ENTRANCE2  STDNT_TEST_ENTRANCE_COMB  \\\n",
       "676                    nan                   nan                   998.000   \n",
       "2731                19.000               840.000                   910.000   \n",
       "2830                19.000                   nan                   910.000   \n",
       "\n",
       "      FIRST_TERM CORE_COURSE_NAME_1_F CORE_COURSE_GRADE_1_F  \\\n",
       "676       200908            ENGL 1101                     C   \n",
       "2731      201008           BIOL 1215K                     D   \n",
       "2830      200908            ENGL 1101                     C   \n",
       "\n",
       "     CORE_COURSE_NAME_2_F CORE_COURSE_GRADE_2_F CORE_COURSE_NAME_3_F  \\\n",
       "676             CHEM 1151                     A           CHEM 1151L   \n",
       "2731            ENGL 1101                     C            COMM 1110   \n",
       "2830            CHEM 1151                     B            SOCI 1101   \n",
       "\n",
       "     CORE_COURSE_GRADE_3_F CORE_COURSE_NAME_4_F CORE_COURSE_GRADE_4_F  \\\n",
       "676                      A            ITDS 2749                     A   \n",
       "2731                     B                  NaN                   NaN   \n",
       "2830                     B           CHEM 1151L                     A   \n",
       "\n",
       "     CORE_COURSE_NAME_5_F CORE_COURSE_GRADE_5_F CORE_COURSE_NAME_6_F  \\\n",
       "676                   NaN                   NaN                  NaN   \n",
       "2731                  NaN                   NaN                  NaN   \n",
       "2830            ITDS 2748                     A                  NaN   \n",
       "\n",
       "     CORE_COURSE_GRADE_6_F  SECOND_TERM CORE_COURSE_NAME_1_S  \\\n",
       "676                    NaN       201002            ENGL 1102   \n",
       "2731                   NaN       201102            MATH 1111   \n",
       "2830                   NaN       201002            ENGL 1102   \n",
       "\n",
       "     CORE_COURSE_GRADE_1_S CORE_COURSE_NAME_2_S CORE_COURSE_GRADE_2_S  \\\n",
       "676                      C            CPSC 1105                     A   \n",
       "2731                     F           BIOL 1225K                     D   \n",
       "2830                     F            MATH 1101                     F   \n",
       "\n",
       "     CORE_COURSE_NAME_3_S CORE_COURSE_GRADE_3_S CORE_COURSE_NAME_4_S  \\\n",
       "676             HIST 2111                     A                  NaN   \n",
       "2731            ENGL 1102                     B            MUSC 1100   \n",
       "2830                  NaN                   NaN                  NaN   \n",
       "\n",
       "     CORE_COURSE_GRADE_4_S CORE_COURSE_NAME_5_S CORE_COURSE_GRADE_5_S  \\\n",
       "676                    NaN                  NaN                   NaN   \n",
       "2731                     B                  NaN                   NaN   \n",
       "2830                   NaN                  NaN                   NaN   \n",
       "\n",
       "     CORE_COURSE_NAME_6_S CORE_COURSE_GRADE_6_S HOUSING_STS  RETURNED_2ND_YR  \\\n",
       "676                   NaN                   NaN   On Campus                1   \n",
       "2731                  NaN                   NaN   On Campus                1   \n",
       "2830                  NaN                   NaN  Off Campus                1   \n",
       "\n",
       "      DISTANCE_FROM_HOME  HIGH_SCHL_GPA HIGH_SCHL_NAME  FATHER_HI_EDU_CD  \\\n",
       "676               90.000          3.400      SCHOOL 29             2.000   \n",
       "2731             117.000          3.100     SCHOOL 186             2.000   \n",
       "2830               0.000          3.530     SCHOOL 395             2.000   \n",
       "\n",
       "     FATHER_HI_EDU_DESC  MOTHER_HI_EDU_CD MOTHER_HI_EDU_DESC DEGREE_GROUP_CD  \\\n",
       "676         High School             2.000        High School               B   \n",
       "2731        High School             2.000        High School               B   \n",
       "2830        High School             3.000     College/Beyond               B   \n",
       "\n",
       "     DEGREE_GROUP_DESC  FIRST_TERM_ATTEMPT_HRS  FIRST_TERM_EARNED_HRS  \\\n",
       "676          Bachelors                      13                     13   \n",
       "2731         Bachelors                      14                      6   \n",
       "2830         Bachelors                      14                     14   \n",
       "\n",
       "      SECOND_TERM_ATTEMPT_HRS  SECOND_TERM_EARNED_HRS  GROSS_FIN_NEED  \\\n",
       "676                    14.000                     nan               0   \n",
       "2731                   13.000                     nan               0   \n",
       "2830                   12.000                     nan         1104060   \n",
       "\n",
       "      COST_OF_ATTEND  EST_FAM_CONTRIBUTION  UNMET_NEED  \n",
       "676                0                     0       0.000  \n",
       "2731               0                     0       0.000  \n",
       "2830         1324500                220440  309360.000  "
      ]
     },
     "execution_count": 153,
     "metadata": {},
     "output_type": "execute_result"
    }
   ],
   "source": [
    "df.iloc[[676,2731,2830]]"
   ]
  },
  {
   "cell_type": "code",
   "execution_count": 154,
   "metadata": {},
   "outputs": [
    {
     "data": {
      "text/html": [
       "<div>\n",
       "<style scoped>\n",
       "    .dataframe tbody tr th:only-of-type {\n",
       "        vertical-align: middle;\n",
       "    }\n",
       "\n",
       "    .dataframe tbody tr th {\n",
       "        vertical-align: top;\n",
       "    }\n",
       "\n",
       "    .dataframe thead th {\n",
       "        text-align: right;\n",
       "    }\n",
       "</style>\n",
       "<table border=\"1\" class=\"dataframe\">\n",
       "  <thead>\n",
       "    <tr style=\"text-align: right;\">\n",
       "      <th></th>\n",
       "      <th>STUDENT_IDENTIFIER</th>\n",
       "      <th>STDNT_AGE</th>\n",
       "      <th>STDNT_GENDER</th>\n",
       "      <th>STDNT_BACKGROUND</th>\n",
       "      <th>IN_STATE_FLAG</th>\n",
       "      <th>INTERNATIONAL_STS</th>\n",
       "      <th>STDNT_MAJOR</th>\n",
       "      <th>STDNT_MINOR</th>\n",
       "      <th>STDNT_TEST_ENTRANCE1</th>\n",
       "      <th>STDNT_TEST_ENTRANCE2</th>\n",
       "      <th>STDNT_TEST_ENTRANCE_COMB</th>\n",
       "      <th>FIRST_TERM</th>\n",
       "      <th>CORE_COURSE_NAME_1_F</th>\n",
       "      <th>CORE_COURSE_GRADE_1_F</th>\n",
       "      <th>CORE_COURSE_NAME_2_F</th>\n",
       "      <th>CORE_COURSE_GRADE_2_F</th>\n",
       "      <th>CORE_COURSE_NAME_3_F</th>\n",
       "      <th>CORE_COURSE_GRADE_3_F</th>\n",
       "      <th>CORE_COURSE_NAME_4_F</th>\n",
       "      <th>CORE_COURSE_GRADE_4_F</th>\n",
       "      <th>CORE_COURSE_NAME_5_F</th>\n",
       "      <th>CORE_COURSE_GRADE_5_F</th>\n",
       "      <th>CORE_COURSE_NAME_6_F</th>\n",
       "      <th>CORE_COURSE_GRADE_6_F</th>\n",
       "      <th>SECOND_TERM</th>\n",
       "      <th>CORE_COURSE_NAME_1_S</th>\n",
       "      <th>CORE_COURSE_GRADE_1_S</th>\n",
       "      <th>CORE_COURSE_NAME_2_S</th>\n",
       "      <th>CORE_COURSE_GRADE_2_S</th>\n",
       "      <th>CORE_COURSE_NAME_3_S</th>\n",
       "      <th>CORE_COURSE_GRADE_3_S</th>\n",
       "      <th>CORE_COURSE_NAME_4_S</th>\n",
       "      <th>CORE_COURSE_GRADE_4_S</th>\n",
       "      <th>CORE_COURSE_NAME_5_S</th>\n",
       "      <th>CORE_COURSE_GRADE_5_S</th>\n",
       "      <th>CORE_COURSE_NAME_6_S</th>\n",
       "      <th>CORE_COURSE_GRADE_6_S</th>\n",
       "      <th>HOUSING_STS</th>\n",
       "      <th>RETURNED_2ND_YR</th>\n",
       "      <th>DISTANCE_FROM_HOME</th>\n",
       "      <th>HIGH_SCHL_GPA</th>\n",
       "      <th>HIGH_SCHL_NAME</th>\n",
       "      <th>FATHER_HI_EDU_CD</th>\n",
       "      <th>FATHER_HI_EDU_DESC</th>\n",
       "      <th>MOTHER_HI_EDU_CD</th>\n",
       "      <th>MOTHER_HI_EDU_DESC</th>\n",
       "      <th>DEGREE_GROUP_CD</th>\n",
       "      <th>DEGREE_GROUP_DESC</th>\n",
       "      <th>FIRST_TERM_ATTEMPT_HRS</th>\n",
       "      <th>FIRST_TERM_EARNED_HRS</th>\n",
       "      <th>SECOND_TERM_ATTEMPT_HRS</th>\n",
       "      <th>SECOND_TERM_EARNED_HRS</th>\n",
       "      <th>GROSS_FIN_NEED</th>\n",
       "      <th>COST_OF_ATTEND</th>\n",
       "      <th>EST_FAM_CONTRIBUTION</th>\n",
       "      <th>UNMET_NEED</th>\n",
       "    </tr>\n",
       "  </thead>\n",
       "  <tbody>\n",
       "    <tr>\n",
       "      <th>662</th>\n",
       "      <td>7946631</td>\n",
       "      <td>18</td>\n",
       "      <td>M</td>\n",
       "      <td>BGD 1</td>\n",
       "      <td>N</td>\n",
       "      <td>N</td>\n",
       "      <td>Arts</td>\n",
       "      <td>N</td>\n",
       "      <td>nan</td>\n",
       "      <td>nan</td>\n",
       "      <td>998.000</td>\n",
       "      <td>200808</td>\n",
       "      <td>ENGL 1101</td>\n",
       "      <td>B</td>\n",
       "      <td>ITDS 2735</td>\n",
       "      <td>A</td>\n",
       "      <td>MUSC 1100</td>\n",
       "      <td>A</td>\n",
       "      <td>NaN</td>\n",
       "      <td>NaN</td>\n",
       "      <td>NaN</td>\n",
       "      <td>NaN</td>\n",
       "      <td>NaN</td>\n",
       "      <td>NaN</td>\n",
       "      <td>200902</td>\n",
       "      <td>ECON 2105</td>\n",
       "      <td>C</td>\n",
       "      <td>COMM 1110</td>\n",
       "      <td>A</td>\n",
       "      <td>ENGL 1102</td>\n",
       "      <td>A</td>\n",
       "      <td>MATH 1111</td>\n",
       "      <td>A</td>\n",
       "      <td>NaN</td>\n",
       "      <td>NaN</td>\n",
       "      <td>NaN</td>\n",
       "      <td>NaN</td>\n",
       "      <td>Off Campus</td>\n",
       "      <td>0</td>\n",
       "      <td>274.000</td>\n",
       "      <td>3.640</td>\n",
       "      <td>SCHOOL 378</td>\n",
       "      <td>3.000</td>\n",
       "      <td>College/Beyond</td>\n",
       "      <td>nan</td>\n",
       "      <td>No Information</td>\n",
       "      <td>B</td>\n",
       "      <td>Bachelors</td>\n",
       "      <td>17</td>\n",
       "      <td>17</td>\n",
       "      <td>18.000</td>\n",
       "      <td>19.000</td>\n",
       "      <td>0</td>\n",
       "      <td>939000</td>\n",
       "      <td>5329500</td>\n",
       "      <td>0.000</td>\n",
       "    </tr>\n",
       "  </tbody>\n",
       "</table>\n",
       "</div>"
      ],
      "text/plain": [
       "     STUDENT_IDENTIFIER  STDNT_AGE STDNT_GENDER STDNT_BACKGROUND  \\\n",
       "662             7946631         18            M            BGD 1   \n",
       "\n",
       "    IN_STATE_FLAG INTERNATIONAL_STS STDNT_MAJOR STDNT_MINOR  \\\n",
       "662             N                 N        Arts           N   \n",
       "\n",
       "     STDNT_TEST_ENTRANCE1  STDNT_TEST_ENTRANCE2  STDNT_TEST_ENTRANCE_COMB  \\\n",
       "662                   nan                   nan                   998.000   \n",
       "\n",
       "     FIRST_TERM CORE_COURSE_NAME_1_F CORE_COURSE_GRADE_1_F  \\\n",
       "662      200808            ENGL 1101                     B   \n",
       "\n",
       "    CORE_COURSE_NAME_2_F CORE_COURSE_GRADE_2_F CORE_COURSE_NAME_3_F  \\\n",
       "662            ITDS 2735                     A            MUSC 1100   \n",
       "\n",
       "    CORE_COURSE_GRADE_3_F CORE_COURSE_NAME_4_F CORE_COURSE_GRADE_4_F  \\\n",
       "662                     A                  NaN                   NaN   \n",
       "\n",
       "    CORE_COURSE_NAME_5_F CORE_COURSE_GRADE_5_F CORE_COURSE_NAME_6_F  \\\n",
       "662                  NaN                   NaN                  NaN   \n",
       "\n",
       "    CORE_COURSE_GRADE_6_F  SECOND_TERM CORE_COURSE_NAME_1_S  \\\n",
       "662                   NaN       200902            ECON 2105   \n",
       "\n",
       "    CORE_COURSE_GRADE_1_S CORE_COURSE_NAME_2_S CORE_COURSE_GRADE_2_S  \\\n",
       "662                     C            COMM 1110                     A   \n",
       "\n",
       "    CORE_COURSE_NAME_3_S CORE_COURSE_GRADE_3_S CORE_COURSE_NAME_4_S  \\\n",
       "662            ENGL 1102                     A            MATH 1111   \n",
       "\n",
       "    CORE_COURSE_GRADE_4_S CORE_COURSE_NAME_5_S CORE_COURSE_GRADE_5_S  \\\n",
       "662                     A                  NaN                   NaN   \n",
       "\n",
       "    CORE_COURSE_NAME_6_S CORE_COURSE_GRADE_6_S HOUSING_STS  RETURNED_2ND_YR  \\\n",
       "662                  NaN                   NaN  Off Campus                0   \n",
       "\n",
       "     DISTANCE_FROM_HOME  HIGH_SCHL_GPA HIGH_SCHL_NAME  FATHER_HI_EDU_CD  \\\n",
       "662             274.000          3.640     SCHOOL 378             3.000   \n",
       "\n",
       "    FATHER_HI_EDU_DESC  MOTHER_HI_EDU_CD MOTHER_HI_EDU_DESC DEGREE_GROUP_CD  \\\n",
       "662     College/Beyond               nan     No Information               B   \n",
       "\n",
       "    DEGREE_GROUP_DESC  FIRST_TERM_ATTEMPT_HRS  FIRST_TERM_EARNED_HRS  \\\n",
       "662         Bachelors                      17                     17   \n",
       "\n",
       "     SECOND_TERM_ATTEMPT_HRS  SECOND_TERM_EARNED_HRS  GROSS_FIN_NEED  \\\n",
       "662                   18.000                  19.000               0   \n",
       "\n",
       "     COST_OF_ATTEND  EST_FAM_CONTRIBUTION  UNMET_NEED  \n",
       "662          939000               5329500       0.000  "
      ]
     },
     "execution_count": 154,
     "metadata": {},
     "output_type": "execute_result"
    }
   ],
   "source": [
    "df[df['SECOND_TERM_ATTEMPT_HRS'] < df['SECOND_TERM_EARNED_HRS']]"
   ]
  },
  {
   "cell_type": "code",
   "execution_count": 155,
   "metadata": {},
   "outputs": [],
   "source": [
    "df=df.drop([662,676,2731,2830],axis=0)"
   ]
  },
  {
   "cell_type": "code",
   "execution_count": 156,
   "metadata": {},
   "outputs": [
    {
     "data": {
      "text/plain": [
       "(206, 56)"
      ]
     },
     "execution_count": 156,
     "metadata": {},
     "output_type": "execute_result"
    }
   ],
   "source": [
    "df[(df['SECOND_TERM_ATTEMPT_HRS'].isnull())&(df['SECOND_TERM_EARNED_HRS'].isnull())].shape"
   ]
  },
  {
   "cell_type": "code",
   "execution_count": 157,
   "metadata": {},
   "outputs": [
    {
     "data": {
      "text/plain": [
       "14"
      ]
     },
     "execution_count": 157,
     "metadata": {},
     "output_type": "execute_result"
    }
   ],
   "source": [
    "mean_hrs=round(df['SECOND_TERM_ATTEMPT_HRS'].mean())\n",
    "mean_hrs"
   ]
  },
  {
   "cell_type": "code",
   "execution_count": 158,
   "metadata": {},
   "outputs": [],
   "source": [
    "df['SECOND_TERM_ATTEMPT_HRS'].fillna(mean_hrs,inplace=True)"
   ]
  },
  {
   "cell_type": "code",
   "execution_count": 159,
   "metadata": {},
   "outputs": [],
   "source": [
    "df['SECOND_TERM_EARNED_HRS'].fillna(mean_hrs,inplace=True)"
   ]
  },
  {
   "cell_type": "markdown",
   "metadata": {},
   "source": [
    "# GROSS_FIN_NEED"
   ]
  },
  {
   "cell_type": "code",
   "execution_count": 160,
   "metadata": {},
   "outputs": [
    {
     "data": {
      "text/plain": [
       "0"
      ]
     },
     "execution_count": 160,
     "metadata": {},
     "output_type": "execute_result"
    }
   ],
   "source": [
    "df['GROSS_FIN_NEED'].isnull().sum()"
   ]
  },
  {
   "cell_type": "code",
   "execution_count": 161,
   "metadata": {},
   "outputs": [
    {
     "data": {
      "text/plain": [
       "0          2234\n",
       "1418100      69\n",
       "1306020      18\n",
       "1146420      15\n",
       "1316580      14\n",
       "           ... \n",
       "1034820       1\n",
       "1022520       1\n",
       "854580        1\n",
       "299820        1\n",
       "1333200       1\n",
       "Name: GROSS_FIN_NEED, Length: 926, dtype: int64"
      ]
     },
     "execution_count": 161,
     "metadata": {},
     "output_type": "execute_result"
    }
   ],
   "source": [
    "df['GROSS_FIN_NEED'].value_counts(dropna=False)"
   ]
  },
  {
   "cell_type": "code",
   "execution_count": 162,
   "metadata": {},
   "outputs": [
    {
     "data": {
      "text/plain": [
       "count      3396.000\n",
       "mean     303434.765\n",
       "std      483631.042\n",
       "min           0.000\n",
       "25%           0.000\n",
       "50%           0.000\n",
       "75%      599580.000\n",
       "max     2124900.000\n",
       "Name: GROSS_FIN_NEED, dtype: float64"
      ]
     },
     "execution_count": 162,
     "metadata": {},
     "output_type": "execute_result"
    }
   ],
   "source": [
    "df['GROSS_FIN_NEED'].describe()"
   ]
  },
  {
   "cell_type": "markdown",
   "metadata": {},
   "source": [
    "# COST_OF_ATTEND"
   ]
  },
  {
   "cell_type": "code",
   "execution_count": 163,
   "metadata": {},
   "outputs": [
    {
     "data": {
      "text/plain": [
       "0"
      ]
     },
     "execution_count": 163,
     "metadata": {},
     "output_type": "execute_result"
    }
   ],
   "source": [
    "df['COST_OF_ATTEND'].isnull().sum()"
   ]
  },
  {
   "cell_type": "code",
   "execution_count": 164,
   "metadata": {},
   "outputs": [
    {
     "data": {
      "text/plain": [
       "count      3396.000\n",
       "mean     551516.625\n",
       "std      606468.275\n",
       "min           0.000\n",
       "25%           0.000\n",
       "50%      150540.000\n",
       "75%     1192815.000\n",
       "max     2124900.000\n",
       "Name: COST_OF_ATTEND, dtype: float64"
      ]
     },
     "execution_count": 164,
     "metadata": {},
     "output_type": "execute_result"
    }
   ],
   "source": [
    "df['COST_OF_ATTEND'].describe()"
   ]
  },
  {
   "cell_type": "markdown",
   "metadata": {},
   "source": [
    "# EST_FAM_CONTRIBUTION"
   ]
  },
  {
   "cell_type": "code",
   "execution_count": 165,
   "metadata": {},
   "outputs": [
    {
     "data": {
      "text/plain": [
       "0          2110\n",
       "5999940      12\n",
       "1080          4\n",
       "800220        3\n",
       "2400          3\n",
       "           ... \n",
       "10920         1\n",
       "117420        1\n",
       "715440        1\n",
       "129240        1\n",
       "232800        1\n",
       "Name: EST_FAM_CONTRIBUTION, Length: 1234, dtype: int64"
      ]
     },
     "execution_count": 165,
     "metadata": {},
     "output_type": "execute_result"
    }
   ],
   "source": [
    "df['EST_FAM_CONTRIBUTION'].value_counts(dropna=False)"
   ]
  },
  {
   "cell_type": "code",
   "execution_count": 166,
   "metadata": {
    "scrolled": true
   },
   "outputs": [
    {
     "data": {
      "text/plain": [
       "count      3396.000\n",
       "mean     343461.661\n",
       "std      782942.871\n",
       "min           0.000\n",
       "25%           0.000\n",
       "50%           0.000\n",
       "75%      324180.000\n",
       "max     5999940.000\n",
       "Name: EST_FAM_CONTRIBUTION, dtype: float64"
      ]
     },
     "execution_count": 166,
     "metadata": {},
     "output_type": "execute_result"
    }
   ],
   "source": [
    "df['EST_FAM_CONTRIBUTION'].describe()"
   ]
  },
  {
   "cell_type": "markdown",
   "metadata": {},
   "source": [
    "# UNMET_NEED"
   ]
  },
  {
   "cell_type": "code",
   "execution_count": 167,
   "metadata": {},
   "outputs": [
    {
     "data": {
      "text/plain": [
       "0"
      ]
     },
     "execution_count": 167,
     "metadata": {},
     "output_type": "execute_result"
    }
   ],
   "source": [
    "df['UNMET_NEED'].isnull().sum()"
   ]
  },
  {
   "cell_type": "code",
   "execution_count": 168,
   "metadata": {},
   "outputs": [
    {
     "data": {
      "text/plain": [
       "count       3396.000\n",
       "mean       72214.486\n",
       "std       279694.719\n",
       "min     -1212072.000\n",
       "25%            0.000\n",
       "50%            0.000\n",
       "75%       187615.500\n",
       "max      1632660.000\n",
       "Name: UNMET_NEED, dtype: float64"
      ]
     },
     "execution_count": 168,
     "metadata": {},
     "output_type": "execute_result"
    }
   ],
   "source": [
    "df['UNMET_NEED'].describe()"
   ]
  },
  {
   "cell_type": "code",
   "execution_count": 169,
   "metadata": {},
   "outputs": [
    {
     "data": {
      "text/plain": [
       "<matplotlib.axes._subplots.AxesSubplot at 0x7fc7ff05b410>"
      ]
     },
     "execution_count": 169,
     "metadata": {},
     "output_type": "execute_result"
    },
    {
     "data": {
      "image/png": "[encoded data removed]",
      "text/plain": [
       "<Figure size 432x288 with 1 Axes>"
      ]
     },
     "metadata": {
      "needs_background": "light"
     },
     "output_type": "display_data"
    }
   ],
   "source": [
    "sns.scatterplot(x=\"COST_OF_ATTEND\", y=\"EST_FAM_CONTRIBUTION\", data=df)"
   ]
  },
  {
   "cell_type": "code",
   "execution_count": 170,
   "metadata": {},
   "outputs": [
    {
     "data": {
      "text/plain": [
       "<matplotlib.axes._subplots.AxesSubplot at 0x7fc7ff646f90>"
      ]
     },
     "execution_count": 170,
     "metadata": {},
     "output_type": "execute_result"
    },
    {
     "data": {
      "image/png": "[encoded data removed]",
      "text/plain": [
       "<Figure size 432x288 with 1 Axes>"
      ]
     },
     "metadata": {
      "needs_background": "light"
     },
     "output_type": "display_data"
    }
   ],
   "source": [
    "sns.scatterplot(x=\"GROSS_FIN_NEED\", y=\"EST_FAM_CONTRIBUTION\", data=df)"
   ]
  },
  {
   "cell_type": "code",
   "execution_count": 171,
   "metadata": {},
   "outputs": [
    {
     "data": {
      "text/plain": [
       "<matplotlib.axes._subplots.AxesSubplot at 0x7fc7ff1bcf90>"
      ]
     },
     "execution_count": 171,
     "metadata": {},
     "output_type": "execute_result"
    },
    {
     "data": {
      "image/png": "[encoded data removed]",
      "text/plain": [
       "<Figure size 432x288 with 1 Axes>"
      ]
     },
     "metadata": {
      "needs_background": "light"
     },
     "output_type": "display_data"
    }
   ],
   "source": [
    "sns.scatterplot(x=\"GROSS_FIN_NEED\", y=\"UNMET_NEED\", data=df)"
   ]
  },
  {
   "cell_type": "code",
   "execution_count": 172,
   "metadata": {},
   "outputs": [
    {
     "data": {
      "text/plain": [
       "<matplotlib.axes._subplots.AxesSubplot at 0x7fc7ff2f0e10>"
      ]
     },
     "execution_count": 172,
     "metadata": {},
     "output_type": "execute_result"
    },
    {
     "data": {
      "image/png": "[encoded data removed]",
      "text/plain": [
       "<Figure size 432x288 with 1 Axes>"
      ]
     },
     "metadata": {
      "needs_background": "light"
     },
     "output_type": "display_data"
    }
   ],
   "source": [
    "sns.scatterplot(x=\"COST_OF_ATTEND\", y=\"GROSS_FIN_NEED\", data=df)"
   ]
  },
  {
   "cell_type": "code",
   "execution_count": 173,
   "metadata": {},
   "outputs": [],
   "source": [
    "                df.drop(['STUDENT_IDENTIFIER',\n",
    "                         'DISTANCE_FROM_HOME',\n",
    "                         'HIGH_SCHL_NAME',\n",
    "                         'STDNT_MINOR',\n",
    "                         'DEGREE_GROUP_CD',\n",
    "                         'STDNT_TEST_ENTRANCE1',\n",
    "                         'STDNT_TEST_ENTRANCE2',\n",
    "                         'FIRST_TERM',\n",
    "                         'SECOND_TERM',\n",
    "                         'FATHER_HI_EDU_CD',\n",
    "                         'MOTHER_HI_EDU_CD',\n",
    "                         'CORE_COURSE_GRADE_1_F',\n",
    "                         'CORE_COURSE_GRADE_2_F',\n",
    "                         'CORE_COURSE_GRADE_3_F',\n",
    "                         'CORE_COURSE_GRADE_4_F',\n",
    "                         'CORE_COURSE_GRADE_5_F',\n",
    "                         'CORE_COURSE_GRADE_6_F',\n",
    "                         'CORE_COURSE_GRADE_1_S',\n",
    "                         'CORE_COURSE_GRADE_2_S',\n",
    "                         'CORE_COURSE_GRADE_3_S',\n",
    "                         'CORE_COURSE_GRADE_4_S',\n",
    "                         'CORE_COURSE_GRADE_5_S',\n",
    "                         'CORE_COURSE_GRADE_6_S',\n",
    "                         'CORE_COURSE_NAME_1_F',\n",
    "                         'CORE_COURSE_NAME_2_F',\n",
    "                         'CORE_COURSE_NAME_3_F',\n",
    "                         'CORE_COURSE_NAME_4_F',\n",
    "                         'CORE_COURSE_NAME_5_F',\n",
    "                         'CORE_COURSE_NAME_6_F',\n",
    "                         'CORE_COURSE_NAME_1_S',\n",
    "                         'CORE_COURSE_NAME_2_S',\n",
    "                         'CORE_COURSE_NAME_3_S',\n",
    "                         'CORE_COURSE_NAME_4_S',\n",
    "                         'CORE_COURSE_NAME_5_S',\n",
    "                         'CORE_COURSE_NAME_6_S'],axis=1,inplace=True)"
   ]
  },
  {
   "cell_type": "code",
   "execution_count": 174,
   "metadata": {},
   "outputs": [],
   "source": [
    "                  df=df[['STDNT_AGE',\n",
    "                         'STDNT_GENDER',\n",
    "                         'STDNT_BACKGROUND',\n",
    "                         'IN_STATE_FLAG',\n",
    "                         'INTERNATIONAL_STS',\n",
    "                         'STDNT_MAJOR',\n",
    "                         'STDNT_TEST_ENTRANCE_COMB',\n",
    "                         'HOUSING_STS',\n",
    "                         'HIGH_SCHL_GPA',\n",
    "                         'FATHER_HI_EDU_DESC',\n",
    "                         'MOTHER_HI_EDU_DESC',\n",
    "                         'DEGREE_GROUP_DESC',\n",
    "                         'FIRST_TERM_ATTEMPT_HRS',\n",
    "                         'FIRST_TERM_EARNED_HRS',\n",
    "                         'SECOND_TERM_ATTEMPT_HRS',\n",
    "                         'SECOND_TERM_EARNED_HRS',\n",
    "                         'GROSS_FIN_NEED',\n",
    "                         'COST_OF_ATTEND',\n",
    "                         'EST_FAM_CONTRIBUTION',\n",
    "                         'UNMET_NEED',\n",
    "                         'RETURNED_2ND_YR']]"
   ]
  },
  {
   "cell_type": "code",
   "execution_count": 175,
   "metadata": {},
   "outputs": [
    {
     "data": {
      "text/html": [
       "<div>\n",
       "<style scoped>\n",
       "    .dataframe tbody tr th:only-of-type {\n",
       "        vertical-align: middle;\n",
       "    }\n",
       "\n",
       "    .dataframe tbody tr th {\n",
       "        vertical-align: top;\n",
       "    }\n",
       "\n",
       "    .dataframe thead th {\n",
       "        text-align: right;\n",
       "    }\n",
       "</style>\n",
       "<table border=\"1\" class=\"dataframe\">\n",
       "  <thead>\n",
       "    <tr style=\"text-align: right;\">\n",
       "      <th></th>\n",
       "      <th>STDNT_AGE</th>\n",
       "      <th>STDNT_GENDER</th>\n",
       "      <th>STDNT_BACKGROUND</th>\n",
       "      <th>IN_STATE_FLAG</th>\n",
       "      <th>INTERNATIONAL_STS</th>\n",
       "      <th>STDNT_MAJOR</th>\n",
       "      <th>STDNT_TEST_ENTRANCE_COMB</th>\n",
       "      <th>HOUSING_STS</th>\n",
       "      <th>HIGH_SCHL_GPA</th>\n",
       "      <th>FATHER_HI_EDU_DESC</th>\n",
       "      <th>MOTHER_HI_EDU_DESC</th>\n",
       "      <th>DEGREE_GROUP_DESC</th>\n",
       "      <th>FIRST_TERM_ATTEMPT_HRS</th>\n",
       "      <th>FIRST_TERM_EARNED_HRS</th>\n",
       "      <th>SECOND_TERM_ATTEMPT_HRS</th>\n",
       "      <th>SECOND_TERM_EARNED_HRS</th>\n",
       "      <th>GROSS_FIN_NEED</th>\n",
       "      <th>COST_OF_ATTEND</th>\n",
       "      <th>EST_FAM_CONTRIBUTION</th>\n",
       "      <th>UNMET_NEED</th>\n",
       "      <th>RETURNED_2ND_YR</th>\n",
       "    </tr>\n",
       "  </thead>\n",
       "  <tbody>\n",
       "    <tr>\n",
       "      <th>0</th>\n",
       "      <td>18</td>\n",
       "      <td>F</td>\n",
       "      <td>BGD 1</td>\n",
       "      <td>Y</td>\n",
       "      <td>N</td>\n",
       "      <td>Undeclared</td>\n",
       "      <td>1150.000</td>\n",
       "      <td>On Campus</td>\n",
       "      <td>4.000</td>\n",
       "      <td>No Information</td>\n",
       "      <td>No Information</td>\n",
       "      <td>Bachelors</td>\n",
       "      <td>16</td>\n",
       "      <td>16</td>\n",
       "      <td>14.000</td>\n",
       "      <td>14.000</td>\n",
       "      <td>0</td>\n",
       "      <td>0</td>\n",
       "      <td>0</td>\n",
       "      <td>0.000</td>\n",
       "      <td>0</td>\n",
       "    </tr>\n",
       "    <tr>\n",
       "      <th>1</th>\n",
       "      <td>19</td>\n",
       "      <td>F</td>\n",
       "      <td>BGD 1</td>\n",
       "      <td>N</td>\n",
       "      <td>N</td>\n",
       "      <td>Undeclared</td>\n",
       "      <td>1190.000</td>\n",
       "      <td>Off Campus</td>\n",
       "      <td>2.890</td>\n",
       "      <td>College/Beyond</td>\n",
       "      <td>College/Beyond</td>\n",
       "      <td>Bachelors</td>\n",
       "      <td>18</td>\n",
       "      <td>18</td>\n",
       "      <td>18.000</td>\n",
       "      <td>18.000</td>\n",
       "      <td>570000</td>\n",
       "      <td>1355760</td>\n",
       "      <td>785760</td>\n",
       "      <td>459300.000</td>\n",
       "      <td>1</td>\n",
       "    </tr>\n",
       "    <tr>\n",
       "      <th>2</th>\n",
       "      <td>18</td>\n",
       "      <td>M</td>\n",
       "      <td>BGD 1</td>\n",
       "      <td>Y</td>\n",
       "      <td>N</td>\n",
       "      <td>Science</td>\n",
       "      <td>1030.000</td>\n",
       "      <td>On Campus</td>\n",
       "      <td>3.390</td>\n",
       "      <td>High School</td>\n",
       "      <td>Other/Unknown</td>\n",
       "      <td>Bachelors</td>\n",
       "      <td>15</td>\n",
       "      <td>15</td>\n",
       "      <td>14.000</td>\n",
       "      <td>14.000</td>\n",
       "      <td>0</td>\n",
       "      <td>0</td>\n",
       "      <td>0</td>\n",
       "      <td>0.000</td>\n",
       "      <td>1</td>\n",
       "    </tr>\n",
       "    <tr>\n",
       "      <th>3</th>\n",
       "      <td>18</td>\n",
       "      <td>M</td>\n",
       "      <td>BGD 1</td>\n",
       "      <td>Y</td>\n",
       "      <td>N</td>\n",
       "      <td>Undeclared</td>\n",
       "      <td>1220.000</td>\n",
       "      <td>On Campus</td>\n",
       "      <td>2.930</td>\n",
       "      <td>College/Beyond</td>\n",
       "      <td>College/Beyond</td>\n",
       "      <td>Bachelors</td>\n",
       "      <td>13</td>\n",
       "      <td>13</td>\n",
       "      <td>14.000</td>\n",
       "      <td>14.000</td>\n",
       "      <td>0</td>\n",
       "      <td>0</td>\n",
       "      <td>0</td>\n",
       "      <td>0.000</td>\n",
       "      <td>1</td>\n",
       "    </tr>\n",
       "    <tr>\n",
       "      <th>4</th>\n",
       "      <td>18</td>\n",
       "      <td>F</td>\n",
       "      <td>BGD 1</td>\n",
       "      <td>Y</td>\n",
       "      <td>N</td>\n",
       "      <td>Arts</td>\n",
       "      <td>1190.000</td>\n",
       "      <td>Off Campus</td>\n",
       "      <td>3.860</td>\n",
       "      <td>College/Beyond</td>\n",
       "      <td>High School</td>\n",
       "      <td>Bachelors</td>\n",
       "      <td>12</td>\n",
       "      <td>12</td>\n",
       "      <td>12.000</td>\n",
       "      <td>12.000</td>\n",
       "      <td>835920</td>\n",
       "      <td>1355760</td>\n",
       "      <td>519840</td>\n",
       "      <td>278340.000</td>\n",
       "      <td>1</td>\n",
       "    </tr>\n",
       "  </tbody>\n",
       "</table>\n",
       "</div>"
      ],
      "text/plain": [
       "   STDNT_AGE STDNT_GENDER STDNT_BACKGROUND IN_STATE_FLAG INTERNATIONAL_STS  \\\n",
       "0         18            F            BGD 1             Y                 N   \n",
       "1         19            F            BGD 1             N                 N   \n",
       "2         18            M            BGD 1             Y                 N   \n",
       "3         18            M            BGD 1             Y                 N   \n",
       "4         18            F            BGD 1             Y                 N   \n",
       "\n",
       "  STDNT_MAJOR  STDNT_TEST_ENTRANCE_COMB HOUSING_STS  HIGH_SCHL_GPA  \\\n",
       "0  Undeclared                  1150.000   On Campus          4.000   \n",
       "1  Undeclared                  1190.000  Off Campus          2.890   \n",
       "2     Science                  1030.000   On Campus          3.390   \n",
       "3  Undeclared                  1220.000   On Campus          2.930   \n",
       "4        Arts                  1190.000  Off Campus          3.860   \n",
       "\n",
       "  FATHER_HI_EDU_DESC MOTHER_HI_EDU_DESC DEGREE_GROUP_DESC  \\\n",
       "0     No Information     No Information         Bachelors   \n",
       "1     College/Beyond     College/Beyond         Bachelors   \n",
       "2        High School      Other/Unknown         Bachelors   \n",
       "3     College/Beyond     College/Beyond         Bachelors   \n",
       "4     College/Beyond        High School         Bachelors   \n",
       "\n",
       "   FIRST_TERM_ATTEMPT_HRS  FIRST_TERM_EARNED_HRS  SECOND_TERM_ATTEMPT_HRS  \\\n",
       "0                      16                     16                   14.000   \n",
       "1                      18                     18                   18.000   \n",
       "2                      15                     15                   14.000   \n",
       "3                      13                     13                   14.000   \n",
       "4                      12                     12                   12.000   \n",
       "\n",
       "   SECOND_TERM_EARNED_HRS  GROSS_FIN_NEED  COST_OF_ATTEND  \\\n",
       "0                  14.000               0               0   \n",
       "1                  18.000          570000         1355760   \n",
       "2                  14.000               0               0   \n",
       "3                  14.000               0               0   \n",
       "4                  12.000          835920         1355760   \n",
       "\n",
       "   EST_FAM_CONTRIBUTION  UNMET_NEED  RETURNED_2ND_YR  \n",
       "0                     0       0.000                0  \n",
       "1                785760  459300.000                1  \n",
       "2                     0       0.000                1  \n",
       "3                     0       0.000                1  \n",
       "4                519840  278340.000                1  "
      ]
     },
     "execution_count": 175,
     "metadata": {},
     "output_type": "execute_result"
    }
   ],
   "source": [
    "df.head()"
   ]
  },
  {
   "cell_type": "code",
   "execution_count": 176,
   "metadata": {},
   "outputs": [
    {
     "data": {
      "text/plain": [
       "(3396, 21)"
      ]
     },
     "execution_count": 176,
     "metadata": {},
     "output_type": "execute_result"
    }
   ],
   "source": [
    "df.shape"
   ]
  },
  {
   "cell_type": "markdown",
   "metadata": {},
   "source": [
    "# MODEL"
   ]
  },
  {
   "cell_type": "code",
   "execution_count": 177,
   "metadata": {},
   "outputs": [
    {
     "data": {
      "text/plain": [
       "STDNT_AGE                   0\n",
       "STDNT_GENDER                0\n",
       "STDNT_BACKGROUND            0\n",
       "IN_STATE_FLAG               0\n",
       "INTERNATIONAL_STS           0\n",
       "STDNT_MAJOR                 0\n",
       "STDNT_TEST_ENTRANCE_COMB    0\n",
       "HOUSING_STS                 0\n",
       "HIGH_SCHL_GPA               0\n",
       "FATHER_HI_EDU_DESC          0\n",
       "MOTHER_HI_EDU_DESC          0\n",
       "DEGREE_GROUP_DESC           0\n",
       "FIRST_TERM_ATTEMPT_HRS      0\n",
       "FIRST_TERM_EARNED_HRS       0\n",
       "SECOND_TERM_ATTEMPT_HRS     0\n",
       "SECOND_TERM_EARNED_HRS      0\n",
       "GROSS_FIN_NEED              0\n",
       "COST_OF_ATTEND              0\n",
       "EST_FAM_CONTRIBUTION        0\n",
       "UNMET_NEED                  0\n",
       "RETURNED_2ND_YR             0\n",
       "dtype: int64"
      ]
     },
     "execution_count": 177,
     "metadata": {},
     "output_type": "execute_result"
    }
   ],
   "source": [
    "df.isnull().sum()"
   ]
  },
  {
   "cell_type": "code",
   "execution_count": 178,
   "metadata": {},
   "outputs": [],
   "source": [
    "X=df.drop('RETURNED_2ND_YR',axis=1)\n",
    "y=df['RETURNED_2ND_YR']"
   ]
  },
  {
   "cell_type": "code",
   "execution_count": 179,
   "metadata": {},
   "outputs": [],
   "source": [
    "X=pd.get_dummies(X)"
   ]
  },
  {
   "cell_type": "code",
   "execution_count": 180,
   "metadata": {},
   "outputs": [
    {
     "data": {
      "text/plain": [
       "(3396, 49)"
      ]
     },
     "execution_count": 180,
     "metadata": {},
     "output_type": "execute_result"
    }
   ],
   "source": [
    "X.shape"
   ]
  },
  {
   "cell_type": "code",
   "execution_count": 181,
   "metadata": {},
   "outputs": [],
   "source": [
    "from sklearn.model_selection import train_test_split\n",
    "X_train,X_test,y_train,y_test=train_test_split(X,y,test_size=0.20,random_state=400)"
   ]
  },
  {
   "cell_type": "markdown",
   "metadata": {},
   "source": [
    "# XGB Classifier"
   ]
  },
  {
   "cell_type": "code",
   "execution_count": 182,
   "metadata": {},
   "outputs": [],
   "source": [
    "from xgboost import XGBClassifier"
   ]
  },
  {
   "cell_type": "code",
   "execution_count": 183,
   "metadata": {},
   "outputs": [],
   "source": [
    "clf_xgb = XGBClassifier(random_state=10)"
   ]
  },
  {
   "cell_type": "code",
   "execution_count": 184,
   "metadata": {},
   "outputs": [
    {
     "data": {
      "text/plain": [
       "XGBClassifier(base_score=0.5, booster='gbtree', colsample_bylevel=1,\n",
       "              colsample_bynode=1, colsample_bytree=1, gamma=0, gpu_id=-1,\n",
       "              importance_type='gain', interaction_constraints='',\n",
       "              learning_rate=0.300000012, max_delta_step=0, max_depth=6,\n",
       "              min_child_weight=1, missing=nan, monotone_constraints='()',\n",
       "              n_estimators=100, n_jobs=0, num_parallel_tree=1,\n",
       "              objective='binary:logistic', random_state=10, reg_alpha=0,\n",
       "              reg_lambda=1, scale_pos_weight=1, subsample=1,\n",
       "              tree_method='exact', validate_parameters=1, verbosity=None)"
      ]
     },
     "execution_count": 184,
     "metadata": {},
     "output_type": "execute_result"
    }
   ],
   "source": [
    "clf_xgb.fit(X_train, y_train)"
   ]
  },
  {
   "cell_type": "code",
   "execution_count": 185,
   "metadata": {},
   "outputs": [],
   "source": [
    "# make predictions for test data\n",
    "y_pred_xgb = clf_xgb.predict(X_test)\n",
    "predictions = [round(value) for value in y_pred_xgb]"
   ]
  },
  {
   "cell_type": "code",
   "execution_count": 186,
   "metadata": {},
   "outputs": [],
   "source": [
    "from sklearn.metrics import accuracy_score"
   ]
  },
  {
   "cell_type": "code",
   "execution_count": 187,
   "metadata": {},
   "outputs": [
    {
     "name": "stdout",
     "output_type": "stream",
     "text": [
      "Accuracy: 78.82%\n"
     ]
    }
   ],
   "source": [
    "# evaluate predictions\n",
    "accuracy_xgb = accuracy_score(y_test, predictions)\n",
    "print(\"Accuracy: %.2f%%\" % (accuracy_xgb * 100.0))"
   ]
  },
  {
   "cell_type": "markdown",
   "metadata": {},
   "source": [
    "# Bagging Classifier"
   ]
  },
  {
   "cell_type": "code",
   "execution_count": 188,
   "metadata": {},
   "outputs": [],
   "source": [
    "clf_bag=BaggingClassifier(random_state=10)"
   ]
  },
  {
   "cell_type": "code",
   "execution_count": 189,
   "metadata": {},
   "outputs": [
    {
     "data": {
      "text/plain": [
       "BaggingClassifier(base_estimator=None, bootstrap=True, bootstrap_features=False,\n",
       "                  max_features=1.0, max_samples=1.0, n_estimators=10,\n",
       "                  n_jobs=None, oob_score=False, random_state=10, verbose=0,\n",
       "                  warm_start=False)"
      ]
     },
     "execution_count": 189,
     "metadata": {},
     "output_type": "execute_result"
    }
   ],
   "source": [
    "clf_bag.fit(X_train,y_train)"
   ]
  },
  {
   "cell_type": "code",
   "execution_count": 190,
   "metadata": {},
   "outputs": [],
   "source": [
    "y_pred_bag=clf_bag.predict(X_test)"
   ]
  },
  {
   "cell_type": "code",
   "execution_count": 191,
   "metadata": {},
   "outputs": [],
   "source": [
    "accuracy_bag=accuracy_score(y_test,y_pred_bag)"
   ]
  },
  {
   "cell_type": "code",
   "execution_count": 192,
   "metadata": {},
   "outputs": [
    {
     "name": "stdout",
     "output_type": "stream",
     "text": [
      "Accuracy: 76.18%\n"
     ]
    }
   ],
   "source": [
    "print(\"Accuracy: %.2f%%\" % (accuracy_bag * 100.0))"
   ]
  },
  {
   "cell_type": "markdown",
   "metadata": {},
   "source": [
    "# Random Forest Classifier"
   ]
  },
  {
   "cell_type": "code",
   "execution_count": 193,
   "metadata": {},
   "outputs": [],
   "source": [
    "from sklearn.ensemble import RandomForestClassifier"
   ]
  },
  {
   "cell_type": "code",
   "execution_count": 194,
   "metadata": {},
   "outputs": [],
   "source": [
    "clf_rf=RandomForestClassifier(random_state=10)"
   ]
  },
  {
   "cell_type": "code",
   "execution_count": 195,
   "metadata": {},
   "outputs": [
    {
     "name": "stderr",
     "output_type": "stream",
     "text": [
      "/Users/shubhamkumar/opt/anaconda3/lib/python3.7/site-packages/sklearn/ensemble/forest.py:245: FutureWarning: The default value of n_estimators will change from 10 in version 0.20 to 100 in 0.22.\n",
      "  \"10 in version 0.20 to 100 in 0.22.\", FutureWarning)\n"
     ]
    },
    {
     "data": {
      "text/plain": [
       "RandomForestClassifier(bootstrap=True, class_weight=None, criterion='gini',\n",
       "                       max_depth=None, max_features='auto', max_leaf_nodes=None,\n",
       "                       min_impurity_decrease=0.0, min_impurity_split=None,\n",
       "                       min_samples_leaf=1, min_samples_split=2,\n",
       "                       min_weight_fraction_leaf=0.0, n_estimators=10,\n",
       "                       n_jobs=None, oob_score=False, random_state=10, verbose=0,\n",
       "                       warm_start=False)"
      ]
     },
     "execution_count": 195,
     "metadata": {},
     "output_type": "execute_result"
    }
   ],
   "source": [
    "clf_rf.fit(X_train,y_train)"
   ]
  },
  {
   "cell_type": "code",
   "execution_count": 196,
   "metadata": {},
   "outputs": [],
   "source": [
    "y_pred_rf=clf_rf.predict(X_test)"
   ]
  },
  {
   "cell_type": "code",
   "execution_count": 197,
   "metadata": {},
   "outputs": [],
   "source": [
    "accuracy_rf=accuracy_score(y_test,y_pred_rf)"
   ]
  },
  {
   "cell_type": "code",
   "execution_count": 198,
   "metadata": {},
   "outputs": [
    {
     "name": "stdout",
     "output_type": "stream",
     "text": [
      "Accuracy: 77.06%\n"
     ]
    }
   ],
   "source": [
    "print(\"Accuracy: %.2f%%\" % (accuracy_rf * 100.0))"
   ]
  },
  {
   "cell_type": "markdown",
   "metadata": {},
   "source": [
    "# Logistic Regression"
   ]
  },
  {
   "cell_type": "code",
   "execution_count": 199,
   "metadata": {},
   "outputs": [],
   "source": [
    "df_train=df.sample(frac=0.80,random_state=200)\n",
    "df_test=df.drop(df_train.index)"
   ]
  },
  {
   "cell_type": "code",
   "execution_count": 200,
   "metadata": {},
   "outputs": [
    {
     "data": {
      "text/plain": [
       "1    2138\n",
       "0     579\n",
       "Name: RETURNED_2ND_YR, dtype: int64"
      ]
     },
     "execution_count": 200,
     "metadata": {},
     "output_type": "execute_result"
    }
   ],
   "source": [
    "df_train['RETURNED_2ND_YR'].value_counts()"
   ]
  },
  {
   "cell_type": "code",
   "execution_count": 201,
   "metadata": {},
   "outputs": [
    {
     "data": {
      "text/plain": [
       "1    536\n",
       "0    143\n",
       "Name: RETURNED_2ND_YR, dtype: int64"
      ]
     },
     "execution_count": 201,
     "metadata": {},
     "output_type": "execute_result"
    }
   ],
   "source": [
    "df_test['RETURNED_2ND_YR'].value_counts()"
   ]
  },
  {
   "cell_type": "code",
   "execution_count": 202,
   "metadata": {},
   "outputs": [],
   "source": [
    "import statsmodels.formula.api as smf\n",
    "import statsmodels.api as sm"
   ]
  },
  {
   "cell_type": "code",
   "execution_count": 203,
   "metadata": {},
   "outputs": [
    {
     "data": {
      "text/plain": [
       "Index(['STDNT_AGE', 'STDNT_GENDER', 'STDNT_BACKGROUND', 'IN_STATE_FLAG',\n",
       "       'INTERNATIONAL_STS', 'STDNT_MAJOR', 'STDNT_TEST_ENTRANCE_COMB',\n",
       "       'HOUSING_STS', 'HIGH_SCHL_GPA', 'FATHER_HI_EDU_DESC',\n",
       "       'MOTHER_HI_EDU_DESC', 'DEGREE_GROUP_DESC', 'FIRST_TERM_ATTEMPT_HRS',\n",
       "       'FIRST_TERM_EARNED_HRS', 'SECOND_TERM_ATTEMPT_HRS',\n",
       "       'SECOND_TERM_EARNED_HRS', 'GROSS_FIN_NEED', 'COST_OF_ATTEND',\n",
       "       'EST_FAM_CONTRIBUTION', 'UNMET_NEED', 'RETURNED_2ND_YR'],\n",
       "      dtype='object')"
      ]
     },
     "execution_count": 203,
     "metadata": {},
     "output_type": "execute_result"
    }
   ],
   "source": [
    "df_train.columns"
   ]
  },
  {
   "cell_type": "code",
   "execution_count": 204,
   "metadata": {},
   "outputs": [
    {
     "data": {
      "text/html": [
       "<div>\n",
       "<style scoped>\n",
       "    .dataframe tbody tr th:only-of-type {\n",
       "        vertical-align: middle;\n",
       "    }\n",
       "\n",
       "    .dataframe tbody tr th {\n",
       "        vertical-align: top;\n",
       "    }\n",
       "\n",
       "    .dataframe thead th {\n",
       "        text-align: right;\n",
       "    }\n",
       "</style>\n",
       "<table border=\"1\" class=\"dataframe\">\n",
       "  <thead>\n",
       "    <tr style=\"text-align: right;\">\n",
       "      <th></th>\n",
       "      <th>STDNT_AGE</th>\n",
       "      <th>STDNT_GENDER</th>\n",
       "      <th>STDNT_BACKGROUND</th>\n",
       "      <th>IN_STATE_FLAG</th>\n",
       "      <th>INTERNATIONAL_STS</th>\n",
       "      <th>STDNT_MAJOR</th>\n",
       "      <th>STDNT_TEST_ENTRANCE_COMB</th>\n",
       "      <th>HOUSING_STS</th>\n",
       "      <th>HIGH_SCHL_GPA</th>\n",
       "      <th>FATHER_HI_EDU_DESC</th>\n",
       "      <th>MOTHER_HI_EDU_DESC</th>\n",
       "      <th>DEGREE_GROUP_DESC</th>\n",
       "      <th>FIRST_TERM_ATTEMPT_HRS</th>\n",
       "      <th>FIRST_TERM_EARNED_HRS</th>\n",
       "      <th>SECOND_TERM_ATTEMPT_HRS</th>\n",
       "      <th>SECOND_TERM_EARNED_HRS</th>\n",
       "      <th>GROSS_FIN_NEED</th>\n",
       "      <th>COST_OF_ATTEND</th>\n",
       "      <th>EST_FAM_CONTRIBUTION</th>\n",
       "      <th>UNMET_NEED</th>\n",
       "      <th>RETURNED_2ND_YR</th>\n",
       "    </tr>\n",
       "  </thead>\n",
       "  <tbody>\n",
       "    <tr>\n",
       "      <th>0</th>\n",
       "      <td>18</td>\n",
       "      <td>F</td>\n",
       "      <td>BGD 1</td>\n",
       "      <td>Y</td>\n",
       "      <td>N</td>\n",
       "      <td>Undeclared</td>\n",
       "      <td>1150.000</td>\n",
       "      <td>On Campus</td>\n",
       "      <td>4.000</td>\n",
       "      <td>No Information</td>\n",
       "      <td>No Information</td>\n",
       "      <td>Bachelors</td>\n",
       "      <td>16</td>\n",
       "      <td>16</td>\n",
       "      <td>14.000</td>\n",
       "      <td>14.000</td>\n",
       "      <td>0</td>\n",
       "      <td>0</td>\n",
       "      <td>0</td>\n",
       "      <td>0.000</td>\n",
       "      <td>0</td>\n",
       "    </tr>\n",
       "    <tr>\n",
       "      <th>1</th>\n",
       "      <td>19</td>\n",
       "      <td>F</td>\n",
       "      <td>BGD 1</td>\n",
       "      <td>N</td>\n",
       "      <td>N</td>\n",
       "      <td>Undeclared</td>\n",
       "      <td>1190.000</td>\n",
       "      <td>Off Campus</td>\n",
       "      <td>2.890</td>\n",
       "      <td>College/Beyond</td>\n",
       "      <td>College/Beyond</td>\n",
       "      <td>Bachelors</td>\n",
       "      <td>18</td>\n",
       "      <td>18</td>\n",
       "      <td>18.000</td>\n",
       "      <td>18.000</td>\n",
       "      <td>570000</td>\n",
       "      <td>1355760</td>\n",
       "      <td>785760</td>\n",
       "      <td>459300.000</td>\n",
       "      <td>1</td>\n",
       "    </tr>\n",
       "    <tr>\n",
       "      <th>2</th>\n",
       "      <td>18</td>\n",
       "      <td>M</td>\n",
       "      <td>BGD 1</td>\n",
       "      <td>Y</td>\n",
       "      <td>N</td>\n",
       "      <td>Science</td>\n",
       "      <td>1030.000</td>\n",
       "      <td>On Campus</td>\n",
       "      <td>3.390</td>\n",
       "      <td>High School</td>\n",
       "      <td>Other/Unknown</td>\n",
       "      <td>Bachelors</td>\n",
       "      <td>15</td>\n",
       "      <td>15</td>\n",
       "      <td>14.000</td>\n",
       "      <td>14.000</td>\n",
       "      <td>0</td>\n",
       "      <td>0</td>\n",
       "      <td>0</td>\n",
       "      <td>0.000</td>\n",
       "      <td>1</td>\n",
       "    </tr>\n",
       "    <tr>\n",
       "      <th>3</th>\n",
       "      <td>18</td>\n",
       "      <td>M</td>\n",
       "      <td>BGD 1</td>\n",
       "      <td>Y</td>\n",
       "      <td>N</td>\n",
       "      <td>Undeclared</td>\n",
       "      <td>1220.000</td>\n",
       "      <td>On Campus</td>\n",
       "      <td>2.930</td>\n",
       "      <td>College/Beyond</td>\n",
       "      <td>College/Beyond</td>\n",
       "      <td>Bachelors</td>\n",
       "      <td>13</td>\n",
       "      <td>13</td>\n",
       "      <td>14.000</td>\n",
       "      <td>14.000</td>\n",
       "      <td>0</td>\n",
       "      <td>0</td>\n",
       "      <td>0</td>\n",
       "      <td>0.000</td>\n",
       "      <td>1</td>\n",
       "    </tr>\n",
       "    <tr>\n",
       "      <th>4</th>\n",
       "      <td>18</td>\n",
       "      <td>F</td>\n",
       "      <td>BGD 1</td>\n",
       "      <td>Y</td>\n",
       "      <td>N</td>\n",
       "      <td>Arts</td>\n",
       "      <td>1190.000</td>\n",
       "      <td>Off Campus</td>\n",
       "      <td>3.860</td>\n",
       "      <td>College/Beyond</td>\n",
       "      <td>High School</td>\n",
       "      <td>Bachelors</td>\n",
       "      <td>12</td>\n",
       "      <td>12</td>\n",
       "      <td>12.000</td>\n",
       "      <td>12.000</td>\n",
       "      <td>835920</td>\n",
       "      <td>1355760</td>\n",
       "      <td>519840</td>\n",
       "      <td>278340.000</td>\n",
       "      <td>1</td>\n",
       "    </tr>\n",
       "  </tbody>\n",
       "</table>\n",
       "</div>"
      ],
      "text/plain": [
       "   STDNT_AGE STDNT_GENDER STDNT_BACKGROUND IN_STATE_FLAG INTERNATIONAL_STS  \\\n",
       "0         18            F            BGD 1             Y                 N   \n",
       "1         19            F            BGD 1             N                 N   \n",
       "2         18            M            BGD 1             Y                 N   \n",
       "3         18            M            BGD 1             Y                 N   \n",
       "4         18            F            BGD 1             Y                 N   \n",
       "\n",
       "  STDNT_MAJOR  STDNT_TEST_ENTRANCE_COMB HOUSING_STS  HIGH_SCHL_GPA  \\\n",
       "0  Undeclared                  1150.000   On Campus          4.000   \n",
       "1  Undeclared                  1190.000  Off Campus          2.890   \n",
       "2     Science                  1030.000   On Campus          3.390   \n",
       "3  Undeclared                  1220.000   On Campus          2.930   \n",
       "4        Arts                  1190.000  Off Campus          3.860   \n",
       "\n",
       "  FATHER_HI_EDU_DESC MOTHER_HI_EDU_DESC DEGREE_GROUP_DESC  \\\n",
       "0     No Information     No Information         Bachelors   \n",
       "1     College/Beyond     College/Beyond         Bachelors   \n",
       "2        High School      Other/Unknown         Bachelors   \n",
       "3     College/Beyond     College/Beyond         Bachelors   \n",
       "4     College/Beyond        High School         Bachelors   \n",
       "\n",
       "   FIRST_TERM_ATTEMPT_HRS  FIRST_TERM_EARNED_HRS  SECOND_TERM_ATTEMPT_HRS  \\\n",
       "0                      16                     16                   14.000   \n",
       "1                      18                     18                   18.000   \n",
       "2                      15                     15                   14.000   \n",
       "3                      13                     13                   14.000   \n",
       "4                      12                     12                   12.000   \n",
       "\n",
       "   SECOND_TERM_EARNED_HRS  GROSS_FIN_NEED  COST_OF_ATTEND  \\\n",
       "0                  14.000               0               0   \n",
       "1                  18.000          570000         1355760   \n",
       "2                  14.000               0               0   \n",
       "3                  14.000               0               0   \n",
       "4                  12.000          835920         1355760   \n",
       "\n",
       "   EST_FAM_CONTRIBUTION  UNMET_NEED  RETURNED_2ND_YR  \n",
       "0                     0       0.000                0  \n",
       "1                785760  459300.000                1  \n",
       "2                     0       0.000                1  \n",
       "3                     0       0.000                1  \n",
       "4                519840  278340.000                1  "
      ]
     },
     "execution_count": 204,
     "metadata": {},
     "output_type": "execute_result"
    }
   ],
   "source": [
    "df.head()"
   ]
  },
  {
   "cell_type": "code",
   "execution_count": 205,
   "metadata": {},
   "outputs": [],
   "source": [
    "model1=smf.glm('RETURNED_2ND_YR~(STDNT_AGE)+C(STDNT_GENDER)+(STDNT_BACKGROUND)+C(IN_STATE_FLAG)+C(INTERNATIONAL_STS)+C(STDNT_MAJOR)+(STDNT_TEST_ENTRANCE_COMB)+C(HOUSING_STS)+(HIGH_SCHL_GPA)+C(FATHER_HI_EDU_DESC)+C(MOTHER_HI_EDU_DESC)+C(DEGREE_GROUP_DESC)+(FIRST_TERM_ATTEMPT_HRS)+(FIRST_TERM_EARNED_HRS)+(SECOND_TERM_ATTEMPT_HRS)+(SECOND_TERM_EARNED_HRS)+(GROSS_FIN_NEED)+(COST_OF_ATTEND)+(EST_FAM_CONTRIBUTION)+(UNMET_NEED)',data=df_train, family=sm.families.Binomial()).fit()"
   ]
  },
  {
   "cell_type": "code",
   "execution_count": 206,
   "metadata": {
    "scrolled": true
   },
   "outputs": [
    {
     "name": "stdout",
     "output_type": "stream",
     "text": [
      "                 Generalized Linear Model Regression Results                  \n",
      "==============================================================================\n",
      "Dep. Variable:        RETURNED_2ND_YR   No. Observations:                 2717\n",
      "Model:                            GLM   Df Residuals:                     2676\n",
      "Model Family:                Binomial   Df Model:                           40\n",
      "Link Function:                  logit   Scale:                          1.0000\n",
      "Method:                          IRLS   Log-Likelihood:                -1334.4\n",
      "Date:                Mon, 29 Jun 2020   Deviance:                       2668.7\n",
      "Time:                        15:11:11   Pearson chi2:                 2.75e+03\n",
      "No. Iterations:                    20                                         \n",
      "Covariance Type:            nonrobust                                         \n",
      "======================================================================================================================\n",
      "                                                         coef    std err          z      P>|z|      [0.025      0.975]\n",
      "----------------------------------------------------------------------------------------------------------------------\n",
      "Intercept                                             -0.2329      1.906     -0.122      0.903      -3.969       3.503\n",
      "C(STDNT_GENDER)[T.M]                                   0.1960      0.109      1.798      0.072      -0.018       0.410\n",
      "STDNT_BACKGROUND[T.BGD 2]                              0.0472      0.277      0.171      0.865      -0.495       0.590\n",
      "STDNT_BACKGROUND[T.BGD 3]                              0.5908      0.130      4.539      0.000       0.336       0.846\n",
      "STDNT_BACKGROUND[T.BGD 4]                              0.2046      0.255      0.801      0.423      -0.296       0.705\n",
      "STDNT_BACKGROUND[T.BGD 5]                             -1.1536      0.745     -1.548      0.122      -2.614       0.307\n",
      "STDNT_BACKGROUND[T.BGD 6]                              0.4767      0.335      1.425      0.154      -0.179       1.132\n",
      "STDNT_BACKGROUND[T.BGD 7]                             -0.6186      0.530     -1.168      0.243      -1.657       0.420\n",
      "STDNT_BACKGROUND[T.BGD 8]                             19.8416   1.42e+04      0.001      0.999   -2.77e+04    2.78e+04\n",
      "C(IN_STATE_FLAG)[T.Y]                                  0.2227      0.169      1.317      0.188      -0.109       0.554\n",
      "C(INTERNATIONAL_STS)[T.Y]                             -1.2543      0.508     -2.468      0.014      -2.251      -0.258\n",
      "C(STDNT_MAJOR)[T.Business]                            -0.5130      0.187     -2.748      0.006      -0.879      -0.147\n",
      "C(STDNT_MAJOR)[T.Education]                           -0.5161      0.185     -2.787      0.005      -0.879      -0.153\n",
      "C(STDNT_MAJOR)[T.Health and Physical Education]       -0.4809      0.623     -0.772      0.440      -1.702       0.740\n",
      "C(STDNT_MAJOR)[T.Nursing]                             -0.6623      0.198     -3.347      0.001      -1.050      -0.274\n",
      "C(STDNT_MAJOR)[T.Other]                               -0.7200      0.205     -3.504      0.000      -1.123      -0.317\n",
      "C(STDNT_MAJOR)[T.Science]                             -0.5270      0.165     -3.188      0.001      -0.851      -0.203\n",
      "C(STDNT_MAJOR)[T.Sociology]                            0.1205      0.814      0.148      0.882      -1.476       1.717\n",
      "C(STDNT_MAJOR)[T.Undeclared]                          -0.5702      0.179     -3.184      0.001      -0.921      -0.219\n",
      "C(HOUSING_STS)[T.On Campus]                           -0.4158      0.108     -3.838      0.000      -0.628      -0.203\n",
      "C(FATHER_HI_EDU_DESC)[T.High School]                  -0.0261      0.119     -0.219      0.827      -0.260       0.208\n",
      "C(FATHER_HI_EDU_DESC)[T.Middle School/Junior High]    -0.4510      0.289     -1.562      0.118      -1.017       0.115\n",
      "C(FATHER_HI_EDU_DESC)[T.No Information]                0.2775      0.295      0.942      0.346      -0.300       0.855\n",
      "C(FATHER_HI_EDU_DESC)[T.Other/Unknown]                -0.1802      0.213     -0.847      0.397      -0.597       0.237\n",
      "C(MOTHER_HI_EDU_DESC)[T.High School]                  -0.0658      0.115     -0.575      0.566      -0.290       0.159\n",
      "C(MOTHER_HI_EDU_DESC)[T.Middle School/Junior High]     0.0119      0.356      0.033      0.973      -0.685       0.709\n",
      "C(MOTHER_HI_EDU_DESC)[T.No Information]               -0.3774      0.273     -1.382      0.167      -0.912       0.158\n",
      "C(MOTHER_HI_EDU_DESC)[T.Other/Unknown]                 0.8022      0.371      2.163      0.031       0.075       1.529\n",
      "C(DEGREE_GROUP_DESC)[T.Bachelors]                     -0.2885      0.813     -0.355      0.723      -1.882       1.305\n",
      "C(DEGREE_GROUP_DESC)[T.Career Associate]               0.1475      1.444      0.102      0.919      -2.684       2.978\n",
      "STDNT_AGE                                              0.0096      0.083      0.115      0.908      -0.154       0.173\n",
      "STDNT_TEST_ENTRANCE_COMB                              -0.0002      0.000     -0.606      0.545      -0.001       0.001\n",
      "HIGH_SCHL_GPA                                          0.3656      0.122      3.002      0.003       0.127       0.604\n",
      "FIRST_TERM_ATTEMPT_HRS                                -0.0808      0.036     -2.237      0.025      -0.152      -0.010\n",
      "FIRST_TERM_EARNED_HRS                                  0.0573      0.019      3.025      0.002       0.020       0.094\n",
      "SECOND_TERM_ATTEMPT_HRS                                0.0816      0.031      2.664      0.008       0.022       0.142\n",
      "SECOND_TERM_EARNED_HRS                                 0.0245      0.019      1.300      0.194      -0.012       0.062\n",
      "GROSS_FIN_NEED                                       9.02e-07   3.32e-07      2.714      0.007    2.51e-07    1.55e-06\n",
      "COST_OF_ATTEND                                      -5.08e-07   2.15e-07     -2.358      0.018    -9.3e-07   -8.58e-08\n",
      "EST_FAM_CONTRIBUTION                                1.678e-07   1.14e-07      1.476      0.140    -5.5e-08    3.91e-07\n",
      "UNMET_NEED                                          -8.52e-07   3.49e-07     -2.443      0.015   -1.54e-06   -1.69e-07\n",
      "======================================================================================================================\n"
     ]
    }
   ],
   "source": [
    "print(model1.summary())"
   ]
  },
  {
   "cell_type": "code",
   "execution_count": 207,
   "metadata": {},
   "outputs": [],
   "source": [
    "import sklearn.metrics as metrics\n",
    "from sklearn.metrics import classification_report, confusion_matrix, accuracy_score"
   ]
  },
  {
   "cell_type": "code",
   "execution_count": 208,
   "metadata": {},
   "outputs": [],
   "source": [
    "y_true=df_test['RETURNED_2ND_YR']"
   ]
  },
  {
   "cell_type": "code",
   "execution_count": 209,
   "metadata": {},
   "outputs": [],
   "source": [
    "y_pred=model1.predict(df_test).map(lambda x:1 if x>0.5 else 0)"
   ]
  },
  {
   "cell_type": "code",
   "execution_count": 210,
   "metadata": {},
   "outputs": [],
   "source": [
    "accuracy =metrics.accuracy_score(y_true,y_pred)"
   ]
  },
  {
   "cell_type": "code",
   "execution_count": 211,
   "metadata": {},
   "outputs": [
    {
     "name": "stdout",
     "output_type": "stream",
     "text": [
      "accuracy :  0.7864506627393225\n"
     ]
    }
   ],
   "source": [
    "print('accuracy : ',accuracy)"
   ]
  },
  {
   "cell_type": "markdown",
   "metadata": {},
   "source": [
    "# Gradient Boosting"
   ]
  },
  {
   "cell_type": "code",
   "execution_count": 212,
   "metadata": {},
   "outputs": [],
   "source": [
    "from sklearn.preprocessing import MinMaxScaler\n",
    "from sklearn.metrics import classification_report, confusion_matrix ,accuracy_score\n",
    "from sklearn.ensemble import GradientBoostingClassifier"
   ]
  },
  {
   "cell_type": "code",
   "execution_count": 213,
   "metadata": {},
   "outputs": [
    {
     "name": "stdout",
     "output_type": "stream",
     "text": [
      "accuracy_score : 0.7955882352941176 \n",
      "\n",
      "              precision    recall  f1-score   support\n",
      "\n",
      "           0       0.61      0.14      0.22       146\n",
      "           1       0.81      0.98      0.88       534\n",
      "\n",
      "    accuracy                           0.80       680\n",
      "   macro avg       0.71      0.56      0.55       680\n",
      "weighted avg       0.76      0.80      0.74       680\n",
      "\n",
      "R square value : 0.8357879234167894\n",
      "Confusion_matrix : \n",
      " [[ 20 126]\n",
      " [ 13 521]]\n"
     ]
    }
   ],
   "source": [
    "baseline = GradientBoostingClassifier(random_state=10)\n",
    "baseline.fit(X_train,y_train)\n",
    "predictors=list(X_train)\n",
    "feat_imp = pd.Series(baseline.feature_importances_, predictors).sort_values(ascending=False)\n",
    "pred=baseline.predict(X_test)\n",
    "print('accuracy_score :',accuracy_score(y_test,pred),'\\n')\n",
    "print(classification_report(y_test, pred))\n",
    "print('R square value :',baseline.score(X_train,y_train))\n",
    "print('Confusion_matrix :','\\n',confusion_matrix(y_test,pred))"
   ]
  },
  {
   "cell_type": "markdown",
   "metadata": {},
   "source": [
    "\n",
    "\n",
    "\n",
    "\n",
    "\n",
    "\n",
    "\n",
    ".\n",
    "\n",
    "\n",
    "\n",
    "\n",
    "\n",
    "\n",
    "\n",
    "\n",
    "\n",
    "\n",
    "\n",
    "\n",
    "\n",
    "\n",
    "\n",
    "\n",
    "\n",
    "\n",
    "\n",
    "\n",
    "\n",
    "\n",
    "\n",
    "\n",
    "Accuracy of different models\n",
    "\n",
    "Gradient Boosting Classifier : 79.56 %\n",
    "\n",
    "\n",
    "XGB Classifier : 78.82%\n",
    "\n",
    "\n",
    "Logistic Regression : 78.64%   \n",
    "\n",
    "\n",
    "Random Forest Classifier : 77.06 %\n",
    "\n",
    "\n",
    "Bagging Classifier : 76.18 %\n",
    "\n",
    "\n"
   ]
  },
  {
   "cell_type": "markdown",
   "metadata": {},
   "source": [
    "Gradient Boosting Classifier gives the most accuracy . Finalizing on it ."
   ]
  },
  {
   "cell_type": "markdown",
   "metadata": {},
   "source": [
    "# Tunign n_estimators and Learning rate"
   ]
  },
  {
   "cell_type": "code",
   "execution_count": 214,
   "metadata": {},
   "outputs": [
    {
     "data": {
      "text/plain": [
       "({'mean_fit_time': array([  0.34078379,   0.82082949,   1.63439722,   2.48643751,\n",
       "           3.31058445,   4.14292784,   5.03644314,   5.87060962,\n",
       "           0.33750701,   0.80572133,   1.62032166,   2.45299006,\n",
       "           3.27434931,   4.12741771,   4.98209629,   5.84096551,\n",
       "           0.34055533,   0.80971923,   1.61147699,   2.41173491,\n",
       "           3.21442037,   4.04003716,   4.8525516 ,   5.68410177,\n",
       "           0.33906341,   0.83862753,   1.64659324,   2.43355794,\n",
       "           3.2348309 ,   4.13141723,   5.06571302,   5.77751656,\n",
       "           0.34608703,   0.85153656,   1.68399858,   2.49351182,\n",
       "           3.30293398,   4.3474102 ,   4.92617965,   5.62244344,\n",
       "           0.34366856,   0.83696117,   1.66631474,   2.51161847,\n",
       "           3.33821363,  52.58763218, 151.31941857,   6.65861087]),\n",
       "  'std_fit_time': array([6.28491863e-03, 1.23492328e-02, 1.15750720e-02, 3.64189907e-02,\n",
       "         3.80946682e-02, 2.86402425e-02, 3.74212376e-02, 6.38991270e-02,\n",
       "         3.48577446e-03, 8.49016804e-03, 1.23685621e-02, 4.99491799e-02,\n",
       "         2.05841903e-02, 2.28441374e-02, 5.83432887e-02, 5.62979164e-02,\n",
       "         6.52873310e-03, 6.55720410e-03, 1.88107459e-02, 2.92787300e-02,\n",
       "         2.66957430e-02, 3.33029956e-02, 3.86449100e-02, 4.03839483e-02,\n",
       "         3.09602387e-03, 9.01960903e-03, 2.41502237e-02, 3.29802335e-02,\n",
       "         5.03073716e-02, 5.83785366e-02, 1.30545743e-01, 1.02773389e-01,\n",
       "         8.33843768e-03, 1.43912519e-02, 2.00381599e-02, 4.31474702e-02,\n",
       "         3.26170061e-02, 1.37483716e-01, 8.91046369e-02, 8.61768690e-02,\n",
       "         1.18855576e-02, 1.70547551e-02, 2.60753498e-02, 5.63385563e-02,\n",
       "         3.69154229e-02, 9.68538470e+01, 1.18194344e+02, 8.65699469e-01]),\n",
       "  'mean_score_time': array([0.00458603, 0.00688834, 0.0111239 , 0.01514416, 0.02082162,\n",
       "         0.02447448, 0.03040905, 0.03345757, 0.00465951, 0.00687761,\n",
       "         0.0109632 , 0.01519437, 0.01978612, 0.0238071 , 0.02950392,\n",
       "         0.03306046, 0.00467305, 0.00676861, 0.01111684, 0.01512952,\n",
       "         0.01930699, 0.0234479 , 0.02766881, 0.03182697, 0.00452456,\n",
       "         0.00715318, 0.01256957, 0.01563797, 0.01985431, 0.0243989 ,\n",
       "         0.02803764, 0.03189335, 0.00444841, 0.00723128, 0.01174126,\n",
       "         0.01604319, 0.02049861, 0.02427168, 0.0279654 , 0.03319564,\n",
       "         0.00453582, 0.00751243, 0.0116962 , 0.01618896, 0.02070484,\n",
       "         0.02790017, 0.03704934, 0.02999363]),\n",
       "  'std_score_time': array([0.00038179, 0.00036859, 0.0004736 , 0.00075501, 0.00161848,\n",
       "         0.00025819, 0.00261745, 0.00037691, 0.00011179, 0.00015512,\n",
       "         0.00027484, 0.00028141, 0.0001778 , 0.00035722, 0.00172396,\n",
       "         0.00038053, 0.00020851, 0.00023235, 0.00017878, 0.00020119,\n",
       "         0.00019701, 0.00031466, 0.00026813, 0.00174925, 0.00016112,\n",
       "         0.00019508, 0.00223928, 0.00026549, 0.00069662, 0.00055793,\n",
       "         0.00059719, 0.0007451 , 0.00015453, 0.00021614, 0.00025265,\n",
       "         0.00031538, 0.0005109 , 0.00036673, 0.00030916, 0.00161128,\n",
       "         0.00016751, 0.00047483, 0.00029471, 0.00018453, 0.0015469 ,\n",
       "         0.00572787, 0.00713475, 0.00338869]),\n",
       "  'param_learning_rate': masked_array(data=[0.15, 0.15, 0.15, 0.15, 0.15, 0.15, 0.15, 0.15, 0.1,\n",
       "                     0.1, 0.1, 0.1, 0.1, 0.1, 0.1, 0.1, 0.05, 0.05, 0.05,\n",
       "                     0.05, 0.05, 0.05, 0.05, 0.05, 0.01, 0.01, 0.01, 0.01,\n",
       "                     0.01, 0.01, 0.01, 0.01, 0.005, 0.005, 0.005, 0.005,\n",
       "                     0.005, 0.005, 0.005, 0.005, 0.001, 0.001, 0.001, 0.001,\n",
       "                     0.001, 0.001, 0.001, 0.001],\n",
       "               mask=[False, False, False, False, False, False, False, False,\n",
       "                     False, False, False, False, False, False, False, False,\n",
       "                     False, False, False, False, False, False, False, False,\n",
       "                     False, False, False, False, False, False, False, False,\n",
       "                     False, False, False, False, False, False, False, False,\n",
       "                     False, False, False, False, False, False, False, False],\n",
       "         fill_value='?',\n",
       "              dtype=object),\n",
       "  'param_n_estimators': masked_array(data=[100, 250, 500, 750, 1000, 1250, 1500, 1750, 100, 250,\n",
       "                     500, 750, 1000, 1250, 1500, 1750, 100, 250, 500, 750,\n",
       "                     1000, 1250, 1500, 1750, 100, 250, 500, 750, 1000, 1250,\n",
       "                     1500, 1750, 100, 250, 500, 750, 1000, 1250, 1500, 1750,\n",
       "                     100, 250, 500, 750, 1000, 1250, 1500, 1750],\n",
       "               mask=[False, False, False, False, False, False, False, False,\n",
       "                     False, False, False, False, False, False, False, False,\n",
       "                     False, False, False, False, False, False, False, False,\n",
       "                     False, False, False, False, False, False, False, False,\n",
       "                     False, False, False, False, False, False, False, False,\n",
       "                     False, False, False, False, False, False, False, False],\n",
       "         fill_value='?',\n",
       "              dtype=object),\n",
       "  'params': [{'learning_rate': 0.15, 'n_estimators': 100},\n",
       "   {'learning_rate': 0.15, 'n_estimators': 250},\n",
       "   {'learning_rate': 0.15, 'n_estimators': 500},\n",
       "   {'learning_rate': 0.15, 'n_estimators': 750},\n",
       "   {'learning_rate': 0.15, 'n_estimators': 1000},\n",
       "   {'learning_rate': 0.15, 'n_estimators': 1250},\n",
       "   {'learning_rate': 0.15, 'n_estimators': 1500},\n",
       "   {'learning_rate': 0.15, 'n_estimators': 1750},\n",
       "   {'learning_rate': 0.1, 'n_estimators': 100},\n",
       "   {'learning_rate': 0.1, 'n_estimators': 250},\n",
       "   {'learning_rate': 0.1, 'n_estimators': 500},\n",
       "   {'learning_rate': 0.1, 'n_estimators': 750},\n",
       "   {'learning_rate': 0.1, 'n_estimators': 1000},\n",
       "   {'learning_rate': 0.1, 'n_estimators': 1250},\n",
       "   {'learning_rate': 0.1, 'n_estimators': 1500},\n",
       "   {'learning_rate': 0.1, 'n_estimators': 1750},\n",
       "   {'learning_rate': 0.05, 'n_estimators': 100},\n",
       "   {'learning_rate': 0.05, 'n_estimators': 250},\n",
       "   {'learning_rate': 0.05, 'n_estimators': 500},\n",
       "   {'learning_rate': 0.05, 'n_estimators': 750},\n",
       "   {'learning_rate': 0.05, 'n_estimators': 1000},\n",
       "   {'learning_rate': 0.05, 'n_estimators': 1250},\n",
       "   {'learning_rate': 0.05, 'n_estimators': 1500},\n",
       "   {'learning_rate': 0.05, 'n_estimators': 1750},\n",
       "   {'learning_rate': 0.01, 'n_estimators': 100},\n",
       "   {'learning_rate': 0.01, 'n_estimators': 250},\n",
       "   {'learning_rate': 0.01, 'n_estimators': 500},\n",
       "   {'learning_rate': 0.01, 'n_estimators': 750},\n",
       "   {'learning_rate': 0.01, 'n_estimators': 1000},\n",
       "   {'learning_rate': 0.01, 'n_estimators': 1250},\n",
       "   {'learning_rate': 0.01, 'n_estimators': 1500},\n",
       "   {'learning_rate': 0.01, 'n_estimators': 1750},\n",
       "   {'learning_rate': 0.005, 'n_estimators': 100},\n",
       "   {'learning_rate': 0.005, 'n_estimators': 250},\n",
       "   {'learning_rate': 0.005, 'n_estimators': 500},\n",
       "   {'learning_rate': 0.005, 'n_estimators': 750},\n",
       "   {'learning_rate': 0.005, 'n_estimators': 1000},\n",
       "   {'learning_rate': 0.005, 'n_estimators': 1250},\n",
       "   {'learning_rate': 0.005, 'n_estimators': 1500},\n",
       "   {'learning_rate': 0.005, 'n_estimators': 1750},\n",
       "   {'learning_rate': 0.001, 'n_estimators': 100},\n",
       "   {'learning_rate': 0.001, 'n_estimators': 250},\n",
       "   {'learning_rate': 0.001, 'n_estimators': 500},\n",
       "   {'learning_rate': 0.001, 'n_estimators': 750},\n",
       "   {'learning_rate': 0.001, 'n_estimators': 1000},\n",
       "   {'learning_rate': 0.001, 'n_estimators': 1250},\n",
       "   {'learning_rate': 0.001, 'n_estimators': 1500},\n",
       "   {'learning_rate': 0.001, 'n_estimators': 1750}],\n",
       "  'split0_test_score': array([0.79227941, 0.78492647, 0.78125   , 0.78308824, 0.77941176,\n",
       "         0.77389706, 0.77389706, 0.77022059, 0.79227941, 0.78676471,\n",
       "         0.77573529, 0.77757353, 0.77389706, 0.77022059, 0.77757353,\n",
       "         0.77573529, 0.78492647, 0.79044118, 0.78860294, 0.78860294,\n",
       "         0.78308824, 0.78308824, 0.77941176, 0.77757353, 0.78676471,\n",
       "         0.79227941, 0.79227941, 0.78860294, 0.78860294, 0.78860294,\n",
       "         0.79044118, 0.79044118, 0.78676471, 0.78676471, 0.79227941,\n",
       "         0.79044118, 0.79227941, 0.79227941, 0.79044118, 0.79044118,\n",
       "         0.78676471, 0.78676471, 0.78676471, 0.78676471, 0.78676471,\n",
       "         0.78676471, 0.78676471, 0.78676471]),\n",
       "  'split1_test_score': array([0.78637201, 0.78637201, 0.78268877, 0.78268877, 0.77532228,\n",
       "         0.78084715, 0.78637201, 0.78268877, 0.79373849, 0.80294659,\n",
       "         0.78821363, 0.78268877, 0.78084715, 0.78821363, 0.78637201,\n",
       "         0.78084715, 0.79742173, 0.79742173, 0.79373849, 0.79189687,\n",
       "         0.78821363, 0.79373849, 0.79005525, 0.78637201, 0.78821363,\n",
       "         0.79926335, 0.79742173, 0.79558011, 0.79189687, 0.79005525,\n",
       "         0.79373849, 0.79189687, 0.78821363, 0.78821363, 0.79926335,\n",
       "         0.80294659, 0.79742173, 0.79373849, 0.79189687, 0.79189687,\n",
       "         0.78821363, 0.78821363, 0.78821363, 0.78821363, 0.78821363,\n",
       "         0.78821363, 0.79189687, 0.79373849]),\n",
       "  'split2_test_score': array([0.79926335, 0.78084715, 0.76979742, 0.76058932, 0.76058932,\n",
       "         0.75506446, 0.7587477 , 0.75690608, 0.79742173, 0.80294659,\n",
       "         0.80110497, 0.78821363, 0.78821363, 0.79005525, 0.7771639 ,\n",
       "         0.77900552, 0.79373849, 0.79373849, 0.79373849, 0.79558011,\n",
       "         0.79926335, 0.79373849, 0.79005525, 0.78453039, 0.78821363,\n",
       "         0.79373849, 0.79373849, 0.79373849, 0.79558011, 0.79926335,\n",
       "         0.79742173, 0.80110497, 0.78821363, 0.78821363, 0.79558011,\n",
       "         0.79373849, 0.79558011, 0.79558011, 0.79373849, 0.79558011,\n",
       "         0.78821363, 0.78821363, 0.78821363, 0.78821363, 0.78821363,\n",
       "         0.78821363, 0.79005525, 0.79373849]),\n",
       "  'split3_test_score': array([0.79189687, 0.78821363, 0.76611418, 0.7587477 , 0.75690608,\n",
       "         0.75690608, 0.75506446, 0.74585635, 0.79742173, 0.78637201,\n",
       "         0.77348066, 0.76058932, 0.76611418, 0.75690608, 0.75690608,\n",
       "         0.75506446, 0.79742173, 0.79926335, 0.79005525, 0.78821363,\n",
       "         0.79189687, 0.78821363, 0.77900552, 0.77348066, 0.78821363,\n",
       "         0.79373849, 0.79926335, 0.79373849, 0.79742173, 0.79373849,\n",
       "         0.79558011, 0.79926335, 0.78821363, 0.79189687, 0.79373849,\n",
       "         0.79742173, 0.79373849, 0.79558011, 0.79742173, 0.79742173,\n",
       "         0.78821363, 0.78821363, 0.78821363, 0.78821363, 0.78821363,\n",
       "         0.79189687, 0.79189687, 0.79189687]),\n",
       "  'split4_test_score': array([0.79742173, 0.78453039, 0.78268877, 0.7771639 , 0.78084715,\n",
       "         0.77532228, 0.77532228, 0.77348066, 0.80110497, 0.78637201,\n",
       "         0.78084715, 0.78453039, 0.78821363, 0.78084715, 0.78453039,\n",
       "         0.77900552, 0.80110497, 0.79926335, 0.79005525, 0.78637201,\n",
       "         0.78821363, 0.78268877, 0.77900552, 0.78084715, 0.78821363,\n",
       "         0.79189687, 0.79558011, 0.80110497, 0.80294659, 0.79373849,\n",
       "         0.79742173, 0.79742173, 0.78821363, 0.78821363, 0.79189687,\n",
       "         0.79926335, 0.79742173, 0.80110497, 0.80847145, 0.80478821,\n",
       "         0.78821363, 0.78821363, 0.78821363, 0.78821363, 0.78821363,\n",
       "         0.78821363, 0.78821363, 0.78821363]),\n",
       "  'mean_test_score': array([0.79344667, 0.78497793, 0.77650783, 0.77245558, 0.77061532,\n",
       "         0.7684074 , 0.7698807 , 0.76583049, 0.79639327, 0.79308038,\n",
       "         0.78387634, 0.77871913, 0.77945713, 0.77724854, 0.77650918,\n",
       "         0.77393159, 0.79492268, 0.79602562, 0.79123808, 0.79013311,\n",
       "         0.79013514, 0.78829352, 0.78350666, 0.78056075, 0.78792384,\n",
       "         0.79418332, 0.79565662, 0.794553  , 0.79528965, 0.7930797 ,\n",
       "         0.79492065, 0.79602562, 0.78792384, 0.78866049, 0.79455165,\n",
       "         0.79676227, 0.79528829, 0.79565662, 0.79639394, 0.79602562,\n",
       "         0.78792384, 0.78792384, 0.78792384, 0.78792384, 0.78792384,\n",
       "         0.78866049, 0.78976546, 0.79087044]),\n",
       "  'std_test_score': array([0.00454863, 0.00243637, 0.00709864, 0.01066446, 0.0099266 ,\n",
       "         0.01042126, 0.0114993 , 0.01296619, 0.00310765, 0.008057  ,\n",
       "         0.0099916 , 0.00969202, 0.00853503, 0.01233209, 0.01046383,\n",
       "         0.00957639, 0.0055143 , 0.00344476, 0.00210932, 0.0032543 ,\n",
       "         0.0053567 , 0.00485407, 0.00534896, 0.0046618 , 0.00057957,\n",
       "         0.00264784, 0.00249859, 0.00401779, 0.00488839, 0.00369579,\n",
       "         0.00262331, 0.00415847, 0.00057957, 0.00171273, 0.00268812,\n",
       "         0.00433672, 0.00203192, 0.00299269, 0.00647508, 0.00504308,\n",
       "         0.00057957, 0.00057957, 0.00057957, 0.00057957, 0.00057957,\n",
       "         0.00171273, 0.00202892, 0.00287822]),\n",
       "  'rank_test_score': array([16, 34, 42, 44, 45, 47, 46, 48,  3, 17, 35, 39, 38, 40, 41, 43, 11,\n",
       "          4, 19, 22, 21, 26, 36, 37, 27, 15,  7, 13,  9, 18, 12,  4, 27, 24,\n",
       "         14,  1, 10,  7,  2,  4, 27, 27, 27, 27, 27, 24, 23, 20],\n",
       "        dtype=int32)},\n",
       " {'learning_rate': 0.005, 'n_estimators': 750},\n",
       " 0.7967622684432889)"
      ]
     },
     "execution_count": 214,
     "metadata": {},
     "output_type": "execute_result"
    }
   ],
   "source": [
    "p_test3 = {'learning_rate':[0.15,0.1,0.05,0.01,0.005,0.001], 'n_estimators':[100,250,500,750,1000,1250,1500,1750]}\n",
    "\n",
    "tuning = GridSearchCV(estimator =GradientBoostingClassifier(max_depth=4, min_samples_split=2, min_samples_leaf=1, subsample=1,max_features='sqrt', random_state=10), \n",
    "            param_grid = p_test3, scoring='accuracy',n_jobs=4,iid=False, cv=5)\n",
    "tuning.fit(X_train,y_train)\n",
    "tuning.cv_results_, tuning.best_params_, tuning.best_score_"
   ]
  },
  {
   "cell_type": "markdown",
   "metadata": {},
   "source": [
    "# Tuning max_depth"
   ]
  },
  {
   "cell_type": "code",
   "execution_count": 215,
   "metadata": {},
   "outputs": [
    {
     "data": {
      "text/plain": [
       "({'mean_fit_time': array([1.26129866, 1.80045962, 2.64217224, 3.65994101, 5.27983141,\n",
       "         6.84725437]),\n",
       "  'std_fit_time': array([0.01389737, 0.02108459, 0.04294344, 0.03485277, 0.0450766 ,\n",
       "         1.00428342]),\n",
       "  'mean_score_time': array([0.01178484, 0.01338158, 0.01892447, 0.01831417, 0.02231622,\n",
       "         0.02530837]),\n",
       "  'std_score_time': array([0.00159608, 0.00031196, 0.00356682, 0.00075855, 0.00037186,\n",
       "         0.00186467]),\n",
       "  'param_max_depth': masked_array(data=[2, 3, 4, 5, 6, 7],\n",
       "               mask=[False, False, False, False, False, False],\n",
       "         fill_value='?',\n",
       "              dtype=object),\n",
       "  'params': [{'max_depth': 2},\n",
       "   {'max_depth': 3},\n",
       "   {'max_depth': 4},\n",
       "   {'max_depth': 5},\n",
       "   {'max_depth': 6},\n",
       "   {'max_depth': 7}],\n",
       "  'split0_test_score': array([0.78676471, 0.79044118, 0.79044118, 0.79227941, 0.79044118,\n",
       "         0.78676471]),\n",
       "  'split1_test_score': array([0.79373849, 0.79926335, 0.80294659, 0.79742173, 0.80110497,\n",
       "         0.79373849]),\n",
       "  'split2_test_score': array([0.79558011, 0.79926335, 0.79373849, 0.79373849, 0.79558011,\n",
       "         0.79742173]),\n",
       "  'split3_test_score': array([0.79373849, 0.79373849, 0.79742173, 0.79558011, 0.80294659,\n",
       "         0.79558011]),\n",
       "  'split4_test_score': array([0.78821363, 0.79005525, 0.79926335, 0.80294659, 0.80662983,\n",
       "         0.80662983]),\n",
       "  'mean_test_score': array([0.79160708, 0.79455232, 0.79676227, 0.79639327, 0.79934054,\n",
       "         0.79602697]),\n",
       "  'std_test_score': array([0.00345933, 0.00405401, 0.00433672, 0.00370504, 0.00570246,\n",
       "         0.00641237]),\n",
       "  'rank_test_score': array([6, 5, 2, 3, 1, 4], dtype=int32)},\n",
       " {'max_depth': 6},\n",
       " 0.7993405373199003)"
      ]
     },
     "execution_count": 215,
     "metadata": {},
     "output_type": "execute_result"
    }
   ],
   "source": [
    "p_test2 = {'max_depth':[2,3,4,5,6,7] }\n",
    "tuning = GridSearchCV(estimator =GradientBoostingClassifier(learning_rate=0.005,n_estimators=750, min_samples_split=2, min_samples_leaf=1, subsample=1,max_features='sqrt', random_state=10), \n",
    "            param_grid = p_test2, scoring='accuracy',n_jobs=4,iid=False, cv=5)\n",
    "tuning.fit(X_train,y_train)\n",
    "tuning.cv_results_, tuning.best_params_, tuning.best_score_"
   ]
  },
  {
   "cell_type": "markdown",
   "metadata": {},
   "source": [
    "# First evaluation of new model on test set"
   ]
  },
  {
   "cell_type": "code",
   "execution_count": 216,
   "metadata": {},
   "outputs": [],
   "source": [
    "import matplotlib\n",
    "import matplotlib.pyplot as plt"
   ]
  },
  {
   "cell_type": "code",
   "execution_count": 217,
   "metadata": {},
   "outputs": [
    {
     "name": "stdout",
     "output_type": "stream",
     "text": [
      "accuracy_score : 0.7955882352941176 \n",
      "\n",
      "              precision    recall  f1-score   support\n",
      "\n",
      "           0       0.65      0.10      0.18       146\n",
      "           1       0.80      0.99      0.88       534\n",
      "\n",
      "    accuracy                           0.80       680\n",
      "   macro avg       0.73      0.54      0.53       680\n",
      "weighted avg       0.77      0.80      0.73       680\n",
      "\n",
      "R square value : 0.8357879234167894\n",
      "Confusion_matrix : \n",
      " [[ 15 131]\n",
      " [  8 526]]\n"
     ]
    }
   ],
   "source": [
    "model1 = GradientBoostingClassifier(learning_rate=0.005, n_estimators=750,max_depth=6, min_samples_split=2, min_samples_leaf=1, subsample=1,max_features='sqrt', random_state=10)\n",
    "model1.fit(X_train,y_train)\n",
    "predictors=list(X_train)\n",
    "feat_imp = pd.Series(model1.feature_importances_, predictors).sort_values(ascending=False)\n",
    "pred=model1.predict(X_test)\n",
    "print('accuracy_score :',accuracy_score(y_test,pred),'\\n')\n",
    "print(classification_report(y_test, pred))\n",
    "print('R square value :',baseline.score(X_train,y_train))\n",
    "print('Confusion_matrix :','\\n',confusion_matrix(y_test,pred))"
   ]
  },
  {
   "cell_type": "markdown",
   "metadata": {},
   "source": [
    "# Tree related parameters\n",
    "# Min sample split and min samples leaf"
   ]
  },
  {
   "cell_type": "code",
   "execution_count": 218,
   "metadata": {},
   "outputs": [
    {
     "data": {
      "text/plain": [
       "({'mean_fit_time': array([5.31237459, 4.94186463, 4.68036299, 4.77985506, 4.3329329 ,\n",
       "         3.9891562 , 3.61699219, 3.4009902 , 3.14356041, 4.74627929,\n",
       "         4.96067629, 4.78587666, 4.65086422, 4.49990001, 4.07550259,\n",
       "         3.67027273, 3.46128607, 3.16242728, 4.45671034, 4.42124176,\n",
       "         4.50166655, 4.57957044, 4.43641372, 4.055128  , 3.63826799,\n",
       "         3.43479424, 3.1707387 , 4.23235526, 4.23120632, 4.19995179,\n",
       "         4.21847954, 4.20950375, 4.03765445, 3.62999902, 3.39936252,\n",
       "         3.13980212, 4.02414122, 4.01822982, 4.05293303, 4.03043938,\n",
       "         4.08210707, 4.00227175, 3.62003083, 3.41544862, 2.91424627]),\n",
       "  'std_fit_time': array([0.06840628, 0.06953286, 0.11163022, 0.19815336, 0.10642046,\n",
       "         0.09827164, 0.10679924, 0.05827395, 0.07972836, 0.08679706,\n",
       "         0.20403081, 0.07227545, 0.09049636, 0.10194272, 0.08768341,\n",
       "         0.0543279 , 0.10245245, 0.07303958, 0.08861909, 0.06855226,\n",
       "         0.13355041, 0.15801576, 0.08979537, 0.09104607, 0.08757976,\n",
       "         0.07961376, 0.05078429, 0.06492755, 0.07758527, 0.09075296,\n",
       "         0.08374207, 0.09676   , 0.04950726, 0.07660451, 0.04400024,\n",
       "         0.04650017, 0.05237587, 0.10692484, 0.04494382, 0.11596969,\n",
       "         0.09450208, 0.06668983, 0.06044116, 0.08317493, 0.28541991]),\n",
       "  'mean_score_time': array([0.02462225, 0.02231803, 0.0255197 , 0.02292619, 0.02217627,\n",
       "         0.02288547, 0.02253776, 0.02150288, 0.02111416, 0.02717252,\n",
       "         0.02557778, 0.02338495, 0.02396312, 0.02264261, 0.0221868 ,\n",
       "         0.02180815, 0.02163053, 0.02134709, 0.02251945, 0.02251678,\n",
       "         0.02391324, 0.02282381, 0.02240562, 0.02356062, 0.02215652,\n",
       "         0.02189484, 0.02158222, 0.02262106, 0.02262921, 0.0223453 ,\n",
       "         0.02254725, 0.02261624, 0.02248178, 0.02218523, 0.02209315,\n",
       "         0.02166896, 0.02244339, 0.02319655, 0.02253456, 0.02245893,\n",
       "         0.02345018, 0.02250218, 0.02230258, 0.02275515, 0.01957316]),\n",
       "  'std_score_time': array([0.00357987, 0.00016888, 0.00424874, 0.0014448 , 0.00042162,\n",
       "         0.00168897, 0.00203729, 0.00037299, 0.00041044, 0.00878054,\n",
       "         0.00438965, 0.0009294 , 0.00134545, 0.00034874, 0.00027566,\n",
       "         0.00054528, 0.00026806, 0.00045932, 0.00055471, 0.00025194,\n",
       "         0.00213147, 0.00086146, 0.00042151, 0.0021576 , 0.00040868,\n",
       "         0.00038944, 0.0002875 , 0.00044188, 0.00075885, 0.00032909,\n",
       "         0.00055577, 0.00145102, 0.0002995 , 0.00029398, 0.00035464,\n",
       "         0.00037962, 0.00037003, 0.00104463, 0.00042129, 0.00034937,\n",
       "         0.00146394, 0.00037393, 0.00030542, 0.00199666, 0.00273551]),\n",
       "  'param_min_samples_leaf': masked_array(data=[1, 1, 1, 1, 1, 1, 1, 1, 1, 3, 3, 3, 3, 3, 3, 3, 3, 3,\n",
       "                     5, 5, 5, 5, 5, 5, 5, 5, 5, 7, 7, 7, 7, 7, 7, 7, 7, 7,\n",
       "                     9, 9, 9, 9, 9, 9, 9, 9, 9],\n",
       "               mask=[False, False, False, False, False, False, False, False,\n",
       "                     False, False, False, False, False, False, False, False,\n",
       "                     False, False, False, False, False, False, False, False,\n",
       "                     False, False, False, False, False, False, False, False,\n",
       "                     False, False, False, False, False, False, False, False,\n",
       "                     False, False, False, False, False],\n",
       "         fill_value='?',\n",
       "              dtype=object),\n",
       "  'param_min_samples_split': masked_array(data=[2, 4, 6, 8, 10, 20, 40, 60, 100, 2, 4, 6, 8, 10, 20,\n",
       "                     40, 60, 100, 2, 4, 6, 8, 10, 20, 40, 60, 100, 2, 4, 6,\n",
       "                     8, 10, 20, 40, 60, 100, 2, 4, 6, 8, 10, 20, 40, 60,\n",
       "                     100],\n",
       "               mask=[False, False, False, False, False, False, False, False,\n",
       "                     False, False, False, False, False, False, False, False,\n",
       "                     False, False, False, False, False, False, False, False,\n",
       "                     False, False, False, False, False, False, False, False,\n",
       "                     False, False, False, False, False, False, False, False,\n",
       "                     False, False, False, False, False],\n",
       "         fill_value='?',\n",
       "              dtype=object),\n",
       "  'params': [{'min_samples_leaf': 1, 'min_samples_split': 2},\n",
       "   {'min_samples_leaf': 1, 'min_samples_split': 4},\n",
       "   {'min_samples_leaf': 1, 'min_samples_split': 6},\n",
       "   {'min_samples_leaf': 1, 'min_samples_split': 8},\n",
       "   {'min_samples_leaf': 1, 'min_samples_split': 10},\n",
       "   {'min_samples_leaf': 1, 'min_samples_split': 20},\n",
       "   {'min_samples_leaf': 1, 'min_samples_split': 40},\n",
       "   {'min_samples_leaf': 1, 'min_samples_split': 60},\n",
       "   {'min_samples_leaf': 1, 'min_samples_split': 100},\n",
       "   {'min_samples_leaf': 3, 'min_samples_split': 2},\n",
       "   {'min_samples_leaf': 3, 'min_samples_split': 4},\n",
       "   {'min_samples_leaf': 3, 'min_samples_split': 6},\n",
       "   {'min_samples_leaf': 3, 'min_samples_split': 8},\n",
       "   {'min_samples_leaf': 3, 'min_samples_split': 10},\n",
       "   {'min_samples_leaf': 3, 'min_samples_split': 20},\n",
       "   {'min_samples_leaf': 3, 'min_samples_split': 40},\n",
       "   {'min_samples_leaf': 3, 'min_samples_split': 60},\n",
       "   {'min_samples_leaf': 3, 'min_samples_split': 100},\n",
       "   {'min_samples_leaf': 5, 'min_samples_split': 2},\n",
       "   {'min_samples_leaf': 5, 'min_samples_split': 4},\n",
       "   {'min_samples_leaf': 5, 'min_samples_split': 6},\n",
       "   {'min_samples_leaf': 5, 'min_samples_split': 8},\n",
       "   {'min_samples_leaf': 5, 'min_samples_split': 10},\n",
       "   {'min_samples_leaf': 5, 'min_samples_split': 20},\n",
       "   {'min_samples_leaf': 5, 'min_samples_split': 40},\n",
       "   {'min_samples_leaf': 5, 'min_samples_split': 60},\n",
       "   {'min_samples_leaf': 5, 'min_samples_split': 100},\n",
       "   {'min_samples_leaf': 7, 'min_samples_split': 2},\n",
       "   {'min_samples_leaf': 7, 'min_samples_split': 4},\n",
       "   {'min_samples_leaf': 7, 'min_samples_split': 6},\n",
       "   {'min_samples_leaf': 7, 'min_samples_split': 8},\n",
       "   {'min_samples_leaf': 7, 'min_samples_split': 10},\n",
       "   {'min_samples_leaf': 7, 'min_samples_split': 20},\n",
       "   {'min_samples_leaf': 7, 'min_samples_split': 40},\n",
       "   {'min_samples_leaf': 7, 'min_samples_split': 60},\n",
       "   {'min_samples_leaf': 7, 'min_samples_split': 100},\n",
       "   {'min_samples_leaf': 9, 'min_samples_split': 2},\n",
       "   {'min_samples_leaf': 9, 'min_samples_split': 4},\n",
       "   {'min_samples_leaf': 9, 'min_samples_split': 6},\n",
       "   {'min_samples_leaf': 9, 'min_samples_split': 8},\n",
       "   {'min_samples_leaf': 9, 'min_samples_split': 10},\n",
       "   {'min_samples_leaf': 9, 'min_samples_split': 20},\n",
       "   {'min_samples_leaf': 9, 'min_samples_split': 40},\n",
       "   {'min_samples_leaf': 9, 'min_samples_split': 60},\n",
       "   {'min_samples_leaf': 9, 'min_samples_split': 100}],\n",
       "  'split0_test_score': array([0.79044118, 0.79044118, 0.78676471, 0.78860294, 0.79227941,\n",
       "         0.79411765, 0.79044118, 0.79044118, 0.79227941, 0.78676471,\n",
       "         0.78676471, 0.78676471, 0.79411765, 0.78676471, 0.79595588,\n",
       "         0.79595588, 0.79963235, 0.79779412, 0.79595588, 0.79595588,\n",
       "         0.79595588, 0.79595588, 0.79595588, 0.79411765, 0.79595588,\n",
       "         0.79779412, 0.79963235, 0.79595588, 0.79595588, 0.79595588,\n",
       "         0.79595588, 0.79595588, 0.79411765, 0.79963235, 0.79779412,\n",
       "         0.79963235, 0.79595588, 0.79595588, 0.79595588, 0.79595588,\n",
       "         0.79595588, 0.79595588, 0.79595588, 0.79963235, 0.79963235]),\n",
       "  'split1_test_score': array([0.80110497, 0.79742173, 0.79558011, 0.79373849, 0.79742173,\n",
       "         0.79742173, 0.79926335, 0.79926335, 0.79558011, 0.79926335,\n",
       "         0.79926335, 0.79926335, 0.79558011, 0.79926335, 0.80110497,\n",
       "         0.79926335, 0.79742173, 0.79926335, 0.80110497, 0.80110497,\n",
       "         0.80110497, 0.80110497, 0.80110497, 0.79558011, 0.79373849,\n",
       "         0.79742173, 0.80110497, 0.79742173, 0.79742173, 0.79742173,\n",
       "         0.79742173, 0.79742173, 0.79558011, 0.79558011, 0.79742173,\n",
       "         0.79926335, 0.79373849, 0.79373849, 0.79373849, 0.79373849,\n",
       "         0.79373849, 0.79558011, 0.79189687, 0.79926335, 0.79373849]),\n",
       "  'split2_test_score': array([0.79558011, 0.79373849, 0.79373849, 0.79189687, 0.79189687,\n",
       "         0.79558011, 0.79558011, 0.79373849, 0.79558011, 0.79742173,\n",
       "         0.79742173, 0.79742173, 0.79742173, 0.79558011, 0.79558011,\n",
       "         0.79558011, 0.79373849, 0.79926335, 0.79558011, 0.79558011,\n",
       "         0.79558011, 0.79558011, 0.79558011, 0.79558011, 0.79373849,\n",
       "         0.79926335, 0.79742173, 0.79558011, 0.79558011, 0.79558011,\n",
       "         0.79558011, 0.79558011, 0.79742173, 0.79742173, 0.79742173,\n",
       "         0.79742173, 0.79742173, 0.79742173, 0.79742173, 0.79742173,\n",
       "         0.79742173, 0.79742173, 0.79373849, 0.79742173, 0.79742173]),\n",
       "  'split3_test_score': array([0.80294659, 0.79926335, 0.79742173, 0.79742173, 0.79742173,\n",
       "         0.79742173, 0.79742173, 0.79742173, 0.79558011, 0.79926335,\n",
       "         0.79926335, 0.79926335, 0.79926335, 0.79926335, 0.80110497,\n",
       "         0.80294659, 0.79742173, 0.79742173, 0.79742173, 0.79742173,\n",
       "         0.79742173, 0.79742173, 0.79742173, 0.79926335, 0.80110497,\n",
       "         0.79926335, 0.80110497, 0.80478821, 0.80478821, 0.80478821,\n",
       "         0.80478821, 0.80478821, 0.80478821, 0.79742173, 0.79926335,\n",
       "         0.79926335, 0.80294659, 0.80294659, 0.80294659, 0.80294659,\n",
       "         0.80294659, 0.80478821, 0.80110497, 0.80294659, 0.79742173]),\n",
       "  'split4_test_score': array([0.80662983, 0.80662983, 0.80847145, 0.80478821, 0.80662983,\n",
       "         0.80478821, 0.80478821, 0.80662983, 0.80294659, 0.80478821,\n",
       "         0.80478821, 0.80478821, 0.80662983, 0.80847145, 0.80478821,\n",
       "         0.80294659, 0.80294659, 0.80110497, 0.80662983, 0.80662983,\n",
       "         0.80662983, 0.80662983, 0.80662983, 0.80662983, 0.80478821,\n",
       "         0.80110497, 0.80110497, 0.80847145, 0.80847145, 0.80847145,\n",
       "         0.80847145, 0.80847145, 0.80294659, 0.80478821, 0.80478821,\n",
       "         0.80110497, 0.80662983, 0.80662983, 0.80662983, 0.80662983,\n",
       "         0.80662983, 0.80847145, 0.80478821, 0.80294659, 0.80294659]),\n",
       "  'mean_test_score': array([0.79934054, 0.79749892, 0.7963953 , 0.79528965, 0.79712992,\n",
       "         0.79786589, 0.79749892, 0.79749892, 0.79639327, 0.79750027,\n",
       "         0.79750027, 0.79750027, 0.79860253, 0.79786859, 0.79970683,\n",
       "         0.79933851, 0.79823218, 0.7989695 , 0.79933851, 0.79933851,\n",
       "         0.79933851, 0.79933851, 0.79933851, 0.79823421, 0.79786521,\n",
       "         0.7989695 , 0.8000738 , 0.80044348, 0.80044348, 0.80044348,\n",
       "         0.80044348, 0.80044348, 0.79897086, 0.79896883, 0.79933783,\n",
       "         0.79933715, 0.79933851, 0.79933851, 0.79933851, 0.79933851,\n",
       "         0.79933851, 0.80044348, 0.79749689, 0.80044212, 0.79823218]),\n",
       "  'std_test_score': array([0.00570246, 0.00548535, 0.00703361, 0.00553891, 0.0053166 ,\n",
       "         0.00367661, 0.00468501, 0.00548535, 0.0035172 , 0.00590914,\n",
       "         0.00590914, 0.00590914, 0.00437076, 0.00699778, 0.00348796,\n",
       "         0.00321278, 0.00302301, 0.00130461, 0.00413583, 0.00413583,\n",
       "         0.00413583, 0.00413583, 0.00413583, 0.00452946, 0.00438473,\n",
       "         0.00130461, 0.00144349, 0.00522009, 0.00522009, 0.00522009,\n",
       "         0.00522009, 0.00522009, 0.0041737 , 0.00318044, 0.00280849,\n",
       "         0.00117406, 0.00474675, 0.00474675, 0.00474675, 0.00474675,\n",
       "         0.00474675, 0.00522009, 0.00477582, 0.00217774, 0.00302301]),\n",
       "  'rank_test_score': array([10, 39, 43, 45, 42, 33, 38, 39, 44, 35, 35, 35, 28, 32,  9, 11, 30,\n",
       "         25, 12, 12, 12, 12, 12, 29, 34, 25,  8,  1,  1,  1,  1,  1, 24, 27,\n",
       "         22, 23, 12, 12, 12, 12, 12,  1, 41,  7, 30], dtype=int32)},\n",
       " {'min_samples_leaf': 7, 'min_samples_split': 2},\n",
       " 0.800443478496371)"
      ]
     },
     "execution_count": 218,
     "metadata": {},
     "output_type": "execute_result"
    }
   ],
   "source": [
    "p_test4 = {'min_samples_split':[2,4,6,8,10,20,40,60,100], 'min_samples_leaf':[1,3,5,7,9]}\n",
    "\n",
    "tuning = GridSearchCV(estimator =GradientBoostingClassifier(learning_rate=0.005, n_estimators=750,max_depth=6, subsample=1,max_features='sqrt', random_state=10), \n",
    "            param_grid = p_test4, scoring='accuracy',n_jobs=4,iid=False, cv=5)\n",
    "tuning.fit(X_train,y_train)\n",
    "tuning.cv_results_, tuning.best_params_, tuning.best_score_"
   ]
  },
  {
   "cell_type": "markdown",
   "metadata": {},
   "source": [
    "# Max features"
   ]
  },
  {
   "cell_type": "code",
   "execution_count": 219,
   "metadata": {},
   "outputs": [
    {
     "data": {
      "text/plain": [
       "({'mean_fit_time': array([3.32299752, 3.87967787, 3.5828618 , 3.80987082, 4.24382248,\n",
       "         3.68285632]),\n",
       "  'std_fit_time': array([0.08777379, 0.37900187, 0.10211316, 0.08170649, 0.11906029,\n",
       "         0.65224026]),\n",
       "  'mean_score_time': array([0.04056144, 0.02370629, 0.02258878, 0.0231277 , 0.02306275,\n",
       "         0.01955476]),\n",
       "  'std_score_time': array([0.02052008, 0.00238546, 0.00027238, 0.00099566, 0.00064075,\n",
       "         0.00274869]),\n",
       "  'param_max_features': masked_array(data=[2, 3, 4, 5, 6, 7],\n",
       "               mask=[False, False, False, False, False, False],\n",
       "         fill_value='?',\n",
       "              dtype=object),\n",
       "  'params': [{'max_features': 2},\n",
       "   {'max_features': 3},\n",
       "   {'max_features': 4},\n",
       "   {'max_features': 5},\n",
       "   {'max_features': 6},\n",
       "   {'max_features': 7}],\n",
       "  'split0_test_score': array([0.78860294, 0.79411765, 0.79227941, 0.79779412, 0.79595588,\n",
       "         0.79595588]),\n",
       "  'split1_test_score': array([0.79189687, 0.79926335, 0.79742173, 0.79742173, 0.79373849,\n",
       "         0.79742173]),\n",
       "  'split2_test_score': array([0.79373849, 0.79558011, 0.79558011, 0.79926335, 0.79926335,\n",
       "         0.79558011]),\n",
       "  'split3_test_score': array([0.79189687, 0.79005525, 0.79558011, 0.79742173, 0.79926335,\n",
       "         0.80478821]),\n",
       "  'split4_test_score': array([0.79005525, 0.79742173, 0.79926335, 0.79926335, 0.80294659,\n",
       "         0.80847145]),\n",
       "  'mean_test_score': array([0.79123808, 0.79528762, 0.79602494, 0.79823286, 0.79823353,\n",
       "         0.80044348]),\n",
       "  'std_test_score': array([0.00175858, 0.00313665, 0.00231789, 0.00085231, 0.00315364,\n",
       "         0.00522009]),\n",
       "  'rank_test_score': array([6, 5, 4, 3, 2, 1], dtype=int32)},\n",
       " {'max_features': 7},\n",
       " 0.800443478496371)"
      ]
     },
     "execution_count": 219,
     "metadata": {},
     "output_type": "execute_result"
    }
   ],
   "source": [
    "#TUNING MAX FEATURES\n",
    "p_test5 = {'max_features':[2,3,4,5,6,7]}\n",
    "tuning = GridSearchCV(estimator =GradientBoostingClassifier(learning_rate=0.005, n_estimators=750,max_depth=6, min_samples_split=2, min_samples_leaf=7, subsample=1, random_state=10), \n",
    "param_grid = p_test5, scoring='accuracy',n_jobs=4,iid=False, cv=5)\n",
    "tuning.fit(X_train,y_train)\n",
    "tuning.cv_results_, tuning.best_params_, tuning.best_score_"
   ]
  },
  {
   "cell_type": "code",
   "execution_count": 220,
   "metadata": {},
   "outputs": [
    {
     "data": {
      "text/plain": [
       "({'mean_fit_time': array([4.64480939, 4.30522799, 4.33844299, 4.38071923, 4.40769644,\n",
       "         4.37761002, 3.80383263]),\n",
       "  'std_fit_time': array([0.1816333 , 0.0531856 , 0.06746826, 0.0598258 , 0.09063254,\n",
       "         0.10121671, 0.39034392]),\n",
       "  'mean_score_time': array([0.02273598, 0.02407103, 0.02251043, 0.02278943, 0.02253432,\n",
       "         0.02257099, 0.01918521]),\n",
       "  'std_score_time': array([0.0003413 , 0.00298032, 0.00041403, 0.00032023, 0.00043402,\n",
       "         0.00050954, 0.00252401]),\n",
       "  'param_subsample': masked_array(data=[0.7, 0.75, 0.8, 0.85, 0.9, 0.95, 1],\n",
       "               mask=[False, False, False, False, False, False, False],\n",
       "         fill_value='?',\n",
       "              dtype=object),\n",
       "  'params': [{'subsample': 0.7},\n",
       "   {'subsample': 0.75},\n",
       "   {'subsample': 0.8},\n",
       "   {'subsample': 0.85},\n",
       "   {'subsample': 0.9},\n",
       "   {'subsample': 0.95},\n",
       "   {'subsample': 1}],\n",
       "  'split0_test_score': array([0.79963235, 0.79779412, 0.79963235, 0.79963235, 0.79963235,\n",
       "         0.79963235, 0.79595588]),\n",
       "  'split1_test_score': array([0.79742173, 0.79558011, 0.79558011, 0.79742173, 0.79742173,\n",
       "         0.79558011, 0.79742173]),\n",
       "  'split2_test_score': array([0.79558011, 0.79558011, 0.79558011, 0.79558011, 0.79558011,\n",
       "         0.79926335, 0.79558011]),\n",
       "  'split3_test_score': array([0.80110497, 0.79926335, 0.80294659, 0.79926335, 0.80110497,\n",
       "         0.80110497, 0.80478821]),\n",
       "  'split4_test_score': array([0.80110497, 0.80110497, 0.80294659, 0.80662983, 0.80478821,\n",
       "         0.80478821, 0.80847145]),\n",
       "  'mean_test_score': array([0.79896883, 0.79786453, 0.79933715, 0.79970548, 0.79970548,\n",
       "         0.8000738 , 0.80044348]),\n",
       "  'std_test_score': array([0.00216534, 0.00214006, 0.0032977 , 0.00375184, 0.0031633 ,\n",
       "         0.00297772, 0.00522009]),\n",
       "  'rank_test_score': array([6, 7, 5, 4, 3, 2, 1], dtype=int32)},\n",
       " {'subsample': 1},\n",
       " 0.800443478496371)"
      ]
     },
     "execution_count": 220,
     "metadata": {},
     "output_type": "execute_result"
    }
   ],
   "source": [
    "p_test6= {'subsample':[0.7,0.75,0.8,0.85,0.9,0.95,1]}\n",
    "\n",
    "tuning = GridSearchCV(estimator =GradientBoostingClassifier(learning_rate=0.005, n_estimators=750,max_depth=6, min_samples_split=2, min_samples_leaf=7,max_features=7 , random_state=10), \n",
    "param_grid = p_test6, scoring='accuracy',n_jobs=4,iid=False, cv=5)\n",
    "tuning.fit(X_train,y_train)\n",
    "tuning.cv_results_, tuning.best_params_, tuning.best_score_"
   ]
  },
  {
   "cell_type": "markdown",
   "metadata": {},
   "source": [
    "# Evaluation of final model on Test set"
   ]
  },
  {
   "cell_type": "code",
   "execution_count": 221,
   "metadata": {},
   "outputs": [
    {
     "name": "stdout",
     "output_type": "stream",
     "text": [
      "accuracy_score : 0.7985294117647059 \n",
      "\n",
      "              precision    recall  f1-score   support\n",
      "\n",
      "           0       0.68      0.12      0.20       146\n",
      "           1       0.80      0.99      0.88       534\n",
      "\n",
      "    accuracy                           0.80       680\n",
      "   macro avg       0.74      0.55      0.54       680\n",
      "weighted avg       0.78      0.80      0.74       680\n",
      "\n",
      "R square value : 0.8372606774668631\n",
      "Confusion_matrix : \n",
      " [[ 17 129]\n",
      " [  8 526]]\n"
     ]
    }
   ],
   "source": [
    "new=GradientBoostingClassifier(learning_rate=0.005, n_estimators=750,max_depth=6, min_samples_split=2, min_samples_leaf=7,max_features=7 , subsample=1, random_state=10)\n",
    "new.fit(X_train,y_train)\n",
    "predictors=list(X_train)\n",
    "feat_imp = pd.Series(new.feature_importances_, predictors).sort_values(ascending=False)\n",
    "#feat_imp.plot(kind='bar', title='Importance of Features')\n",
    "#plt.ylabel('Feature Importance Score')\n",
    "pred=new.predict(X_test)\n",
    "print('accuracy_score :',accuracy_score(y_test,pred),'\\n')\n",
    "print(classification_report(y_test, pred))\n",
    "print('R square value :',new.score(X_train,y_train))\n",
    "print('Confusion_matrix :','\\n',confusion_matrix(y_test,pred))\n"
   ]
  },
  {
   "cell_type": "code",
   "execution_count": 222,
   "metadata": {},
   "outputs": [
    {
     "data": {
      "text/plain": [
       "SECOND_TERM_EARNED_HRS                         0.187\n",
       "SECOND_TERM_ATTEMPT_HRS                        0.121\n",
       "UNMET_NEED                                     0.093\n",
       "HIGH_SCHL_GPA                                  0.088\n",
       "FIRST_TERM_EARNED_HRS                          0.067\n",
       "COST_OF_ATTEND                                 0.046\n",
       "GROSS_FIN_NEED                                 0.044\n",
       "STDNT_TEST_ENTRANCE_COMB                       0.043\n",
       "EST_FAM_CONTRIBUTION                           0.040\n",
       "FIRST_TERM_ATTEMPT_HRS                         0.031\n",
       "STDNT_MAJOR_Arts                               0.019\n",
       "STDNT_BACKGROUND_BGD 1                         0.016\n",
       "HOUSING_STS_Off Campus                         0.015\n",
       "HOUSING_STS_On Campus                          0.014\n",
       "STDNT_BACKGROUND_BGD 3                         0.013\n",
       "MOTHER_HI_EDU_DESC_High School                 0.011\n",
       "MOTHER_HI_EDU_DESC_College/Beyond              0.010\n",
       "STDNT_GENDER_M                                 0.010\n",
       "STDNT_GENDER_F                                 0.009\n",
       "FATHER_HI_EDU_DESC_High School                 0.009\n",
       "IN_STATE_FLAG_N                                0.009\n",
       "STDNT_AGE                                      0.008\n",
       "FATHER_HI_EDU_DESC_College/Beyond              0.008\n",
       "IN_STATE_FLAG_Y                                0.007\n",
       "MOTHER_HI_EDU_DESC_No Information              0.007\n",
       "MOTHER_HI_EDU_DESC_Other/Unknown               0.007\n",
       "FATHER_HI_EDU_DESC_No Information              0.006\n",
       "FATHER_HI_EDU_DESC_Middle School/Junior High   0.006\n",
       "STDNT_MAJOR_Other                              0.006\n",
       "STDNT_MAJOR_Science                            0.006\n",
       "STDNT_MAJOR_Education                          0.005\n",
       "STDNT_MAJOR_Undeclared                         0.005\n",
       "STDNT_MAJOR_Nursing                            0.005\n",
       "INTERNATIONAL_STS_Y                            0.005\n",
       "INTERNATIONAL_STS_N                            0.005\n",
       "FATHER_HI_EDU_DESC_Other/Unknown               0.004\n",
       "MOTHER_HI_EDU_DESC_Middle School/Junior High   0.003\n",
       "STDNT_BACKGROUND_BGD 7                         0.003\n",
       "STDNT_MAJOR_Business                           0.003\n",
       "STDNT_BACKGROUND_BGD 4                         0.002\n",
       "STDNT_BACKGROUND_BGD 6                         0.002\n",
       "STDNT_BACKGROUND_BGD 2                         0.001\n",
       "STDNT_MAJOR_Sociology                          0.000\n",
       "STDNT_MAJOR_Health and Physical Education      0.000\n",
       "DEGREE_GROUP_DESC_Bachelors                    0.000\n",
       "STDNT_BACKGROUND_BGD 5                         0.000\n",
       "STDNT_BACKGROUND_BGD 8                         0.000\n",
       "DEGREE_GROUP_DESC_Associate                    0.000\n",
       "DEGREE_GROUP_DESC_Career Associate             0.000\n",
       "dtype: float64"
      ]
     },
     "execution_count": 222,
     "metadata": {},
     "output_type": "execute_result"
    }
   ],
   "source": [
    "feat_imp"
   ]
  },
  {
   "cell_type": "markdown",
   "metadata": {},
   "source": [
    "# Comparison of ROC AUC"
   ]
  },
  {
   "cell_type": "code",
   "execution_count": 223,
   "metadata": {},
   "outputs": [
    {
     "data": {
      "image/png": "[encoded data removed]",
      "text/plain": [
       "<Figure size 432x288 with 1 Axes>"
      ]
     },
     "metadata": {
      "needs_background": "light"
     },
     "output_type": "display_data"
    }
   ],
   "source": [
    "\n",
    "\n",
    "\n",
    "#run models\n",
    "baseline = GradientBoostingClassifier(random_state=10)\n",
    "baseline.fit(X_train,y_train)\n",
    "\n",
    "model1 = GradientBoostingClassifier(learning_rate=0.005, n_estimators=750,max_depth=6, min_samples_split=2, min_samples_leaf=1, subsample=1,max_features='sqrt', random_state=10)\n",
    "model1.fit(X_train,y_train)\n",
    "\n",
    "new=GradientBoostingClassifier(learning_rate=0.005, n_estimators=750,max_depth=6, min_samples_split=2, min_samples_leaf=7,max_features=7 , subsample=1, random_state=10)\n",
    "new.fit(X_train,y_train)\n",
    "\n",
    "#calculate values for ROC AUC plot\n",
    "#baseline model\n",
    "baseline_roc_auc = roc_auc_score(y_test, baseline.predict(X_test))\n",
    "fprB, tprB, thresholdsB = roc_curve(y_test, baseline.predict_proba(X_test)[:,1])\n",
    "#model 1\n",
    "model1_roc_auc = roc_auc_score(y_test, model1.predict(X_test))\n",
    "fpr1, tpr1, thresholds1 = roc_curve(y_test, model1.predict_proba(X_test)[:,1])\n",
    "#new tuned model \n",
    "new_roc_auc = roc_auc_score(y_test, new.predict(X_test))\n",
    "fprnew, tprnew, thresholds_new = roc_curve(y_test, new.predict_proba(X_test)[:,1])\n",
    "\n",
    "plt.figure()\n",
    "plt.plot(fprB, tprB, label='GBM Baseline (area = %0.2f)' % baseline_roc_auc)\n",
    "plt.plot(fpr1, tpr1, label='GBM Model 1 (area = %0.2f)' % model1_roc_auc)\n",
    "plt.plot(fprnew, tprnew, label='GBM Final Model (area = %0.2f)' % new_roc_auc)\n",
    "\n",
    "plt.plot([0, 1], [0, 1],'r--')\n",
    "plt.xlim([0.0, 1.0])\n",
    "plt.ylim([0.0, 1.05])\n",
    "plt.xlabel('False Positive Rate')\n",
    "plt.ylabel('True Positive Rate')\n",
    "plt.title('Receiver operating characteristic')\n",
    "plt.legend(loc=\"lower right\")\n",
    "plt.savefig('Log_ROC')\n",
    "plt.show()"
   ]
  },
  {
   "cell_type": "code",
   "execution_count": null,
   "metadata": {},
   "outputs": [],
   "source": []
  }
 ],
 "metadata": {
  "kernelspec": {
   "display_name": "Python 3",
   "language": "python",
   "name": "python3"
  },
  "language_info": {
   "codemirror_mode": {
    "name": "ipython",
    "version": 3
   },
   "file_extension": ".py",
   "mimetype": "text/x-python",
   "name": "python",
   "nbconvert_exporter": "python",
   "pygments_lexer": "ipython3",
   "version": "3.7.4"
  }
 },
 "nbformat": 4,
 "nbformat_minor": 2
}
